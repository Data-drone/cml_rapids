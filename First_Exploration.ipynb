{
 "cells": [
  {
   "cell_type": "markdown",
   "id": "interstate-confirmation",
   "metadata": {},
   "source": [
    "# Exploring the Dataset"
   ]
  },
  {
   "cell_type": "code",
   "execution_count": 1,
   "id": "nuclear-place",
   "metadata": {},
   "outputs": [
    {
     "data": {
      "application/javascript": [
       "\n",
       "(function(root) {\n",
       "  function now() {\n",
       "    return new Date();\n",
       "  }\n",
       "\n",
       "  var force = true;\n",
       "\n",
       "  if (typeof root._bokeh_onload_callbacks === \"undefined\" || force === true) {\n",
       "    root._bokeh_onload_callbacks = [];\n",
       "    root._bokeh_is_loading = undefined;\n",
       "  }\n",
       "\n",
       "  if (typeof (root._bokeh_timeout) === \"undefined\" || force === true) {\n",
       "    root._bokeh_timeout = Date.now() + 5000;\n",
       "    root._bokeh_failed_load = false;\n",
       "  }\n",
       "\n",
       "  function run_callbacks() {\n",
       "    try {\n",
       "      root._bokeh_onload_callbacks.forEach(function(callback) {\n",
       "        if (callback != null)\n",
       "          callback();\n",
       "      });\n",
       "    } finally {\n",
       "      delete root._bokeh_onload_callbacks\n",
       "    }\n",
       "    console.debug(\"Bokeh: all callbacks have finished\");\n",
       "  }\n",
       "\n",
       "  function load_libs(css_urls, js_urls, callback) {\n",
       "    if (css_urls == null) css_urls = [];\n",
       "    if (js_urls == null) js_urls = [];\n",
       "\n",
       "    root._bokeh_onload_callbacks.push(callback);\n",
       "    if (root._bokeh_is_loading > 0) {\n",
       "      console.debug(\"Bokeh: BokehJS is being loaded, scheduling callback at\", now());\n",
       "      return null;\n",
       "    }\n",
       "    if (js_urls == null || js_urls.length === 0) {\n",
       "      run_callbacks();\n",
       "      return null;\n",
       "    }\n",
       "    console.debug(\"Bokeh: BokehJS not loaded, scheduling load and callback at\", now());\n",
       "    root._bokeh_is_loading = css_urls.length + js_urls.length;\n",
       "\n",
       "    function on_load() {\n",
       "      root._bokeh_is_loading--;\n",
       "      if (root._bokeh_is_loading === 0) {\n",
       "        console.debug(\"Bokeh: all BokehJS libraries/stylesheets loaded\");\n",
       "        run_callbacks()\n",
       "      }\n",
       "    }\n",
       "\n",
       "    function on_error() {\n",
       "      console.error(\"failed to load \" + url);\n",
       "    }\n",
       "\n",
       "    for (var i = 0; i < css_urls.length; i++) {\n",
       "      var url = css_urls[i];\n",
       "      const element = document.createElement(\"link\");\n",
       "      element.onload = on_load;\n",
       "      element.onerror = on_error;\n",
       "      element.rel = \"stylesheet\";\n",
       "      element.type = \"text/css\";\n",
       "      element.href = url;\n",
       "      console.debug(\"Bokeh: injecting link tag for BokehJS stylesheet: \", url);\n",
       "      document.body.appendChild(element);\n",
       "    }\n",
       "\n",
       "    var skip = [];\n",
       "    if (window.requirejs) {\n",
       "      require([], function() {\n",
       "      })\n",
       "    }\n",
       "    for (var i = 0; i < js_urls.length; i++) {\n",
       "      var url = js_urls[i];\n",
       "      if (skip.indexOf(url) >= 0) { on_load(); continue; }\n",
       "      var element = document.createElement('script');\n",
       "      element.onload = on_load;\n",
       "      element.onerror = on_error;\n",
       "      element.async = false;\n",
       "      element.src = url;\n",
       "      console.debug(\"Bokeh: injecting script tag for BokehJS library: \", url);\n",
       "      document.head.appendChild(element);\n",
       "    }\n",
       "\tif (!js_urls.length) {\n",
       "      on_load()\n",
       "    }\n",
       "  };\n",
       "\n",
       "  function inject_raw_css(css) {\n",
       "    const element = document.createElement(\"style\");\n",
       "    element.appendChild(document.createTextNode(css));\n",
       "    document.body.appendChild(element);\n",
       "  }\n",
       "\n",
       "  var js_urls = [\"https://cdn.bokeh.org/bokeh/release/bokeh-2.2.3.min.js\", \"https://cdn.bokeh.org/bokeh/release/bokeh-widgets-2.2.3.min.js\", \"https://cdn.bokeh.org/bokeh/release/bokeh-tables-2.2.3.min.js\", \"https://unpkg.com/@holoviz/panel@^0.10.3/dist/panel.min.js\"];\n",
       "  var css_urls = [\"https://unpkg.com/@holoviz/panel@0.10.3/dist/css/card.css\", \"https://unpkg.com/@holoviz/panel@0.10.3/dist/css/widgets.css\", \"https://unpkg.com/@holoviz/panel@0.10.3/dist/css/json.css\", \"https://unpkg.com/@holoviz/panel@0.10.3/dist/css/alerts.css\", \"https://unpkg.com/@holoviz/panel@0.10.3/dist/css/dataframe.css\", \"https://unpkg.com/@holoviz/panel@0.10.3/dist/css/markdown.css\"];\n",
       "\n",
       "  var inline_js = [\n",
       "    function(Bokeh) {\n",
       "      Bokeh.set_log_level(\"info\");\n",
       "    },\n",
       "    function(Bokeh) {} // ensure no trailing comma for IE\n",
       "  ];\n",
       "\n",
       "  function run_inline_js() {\n",
       "    if ((root.Bokeh !== undefined) || (force === true)) {\n",
       "      for (var i = 0; i < inline_js.length; i++) {\n",
       "        inline_js[i].call(root, root.Bokeh);\n",
       "      }} else if (Date.now() < root._bokeh_timeout) {\n",
       "      setTimeout(run_inline_js, 100);\n",
       "    } else if (!root._bokeh_failed_load) {\n",
       "      console.log(\"Bokeh: BokehJS failed to load within specified timeout.\");\n",
       "      root._bokeh_failed_load = true;\n",
       "    }\n",
       "  }\n",
       "\n",
       "  if (root._bokeh_is_loading === 0) {\n",
       "    console.debug(\"Bokeh: BokehJS loaded, going straight to plotting\");\n",
       "    run_inline_js();\n",
       "  } else {\n",
       "    load_libs(css_urls, js_urls, function() {\n",
       "      console.debug(\"Bokeh: BokehJS plotting callback run at\", now());\n",
       "      run_inline_js();\n",
       "    });\n",
       "  }\n",
       "}(window));"
      ],
      "application/vnd.holoviews_load.v0+json": "\n(function(root) {\n  function now() {\n    return new Date();\n  }\n\n  var force = true;\n\n  if (typeof root._bokeh_onload_callbacks === \"undefined\" || force === true) {\n    root._bokeh_onload_callbacks = [];\n    root._bokeh_is_loading = undefined;\n  }\n\n  if (typeof (root._bokeh_timeout) === \"undefined\" || force === true) {\n    root._bokeh_timeout = Date.now() + 5000;\n    root._bokeh_failed_load = false;\n  }\n\n  function run_callbacks() {\n    try {\n      root._bokeh_onload_callbacks.forEach(function(callback) {\n        if (callback != null)\n          callback();\n      });\n    } finally {\n      delete root._bokeh_onload_callbacks\n    }\n    console.debug(\"Bokeh: all callbacks have finished\");\n  }\n\n  function load_libs(css_urls, js_urls, callback) {\n    if (css_urls == null) css_urls = [];\n    if (js_urls == null) js_urls = [];\n\n    root._bokeh_onload_callbacks.push(callback);\n    if (root._bokeh_is_loading > 0) {\n      console.debug(\"Bokeh: BokehJS is being loaded, scheduling callback at\", now());\n      return null;\n    }\n    if (js_urls == null || js_urls.length === 0) {\n      run_callbacks();\n      return null;\n    }\n    console.debug(\"Bokeh: BokehJS not loaded, scheduling load and callback at\", now());\n    root._bokeh_is_loading = css_urls.length + js_urls.length;\n\n    function on_load() {\n      root._bokeh_is_loading--;\n      if (root._bokeh_is_loading === 0) {\n        console.debug(\"Bokeh: all BokehJS libraries/stylesheets loaded\");\n        run_callbacks()\n      }\n    }\n\n    function on_error() {\n      console.error(\"failed to load \" + url);\n    }\n\n    for (var i = 0; i < css_urls.length; i++) {\n      var url = css_urls[i];\n      const element = document.createElement(\"link\");\n      element.onload = on_load;\n      element.onerror = on_error;\n      element.rel = \"stylesheet\";\n      element.type = \"text/css\";\n      element.href = url;\n      console.debug(\"Bokeh: injecting link tag for BokehJS stylesheet: \", url);\n      document.body.appendChild(element);\n    }\n\n    var skip = [];\n    if (window.requirejs) {\n      require([], function() {\n      })\n    }\n    for (var i = 0; i < js_urls.length; i++) {\n      var url = js_urls[i];\n      if (skip.indexOf(url) >= 0) { on_load(); continue; }\n      var element = document.createElement('script');\n      element.onload = on_load;\n      element.onerror = on_error;\n      element.async = false;\n      element.src = url;\n      console.debug(\"Bokeh: injecting script tag for BokehJS library: \", url);\n      document.head.appendChild(element);\n    }\n\tif (!js_urls.length) {\n      on_load()\n    }\n  };\n\n  function inject_raw_css(css) {\n    const element = document.createElement(\"style\");\n    element.appendChild(document.createTextNode(css));\n    document.body.appendChild(element);\n  }\n\n  var js_urls = [\"https://cdn.bokeh.org/bokeh/release/bokeh-2.2.3.min.js\", \"https://cdn.bokeh.org/bokeh/release/bokeh-widgets-2.2.3.min.js\", \"https://cdn.bokeh.org/bokeh/release/bokeh-tables-2.2.3.min.js\", \"https://unpkg.com/@holoviz/panel@^0.10.3/dist/panel.min.js\"];\n  var css_urls = [\"https://unpkg.com/@holoviz/panel@0.10.3/dist/css/card.css\", \"https://unpkg.com/@holoviz/panel@0.10.3/dist/css/widgets.css\", \"https://unpkg.com/@holoviz/panel@0.10.3/dist/css/json.css\", \"https://unpkg.com/@holoviz/panel@0.10.3/dist/css/alerts.css\", \"https://unpkg.com/@holoviz/panel@0.10.3/dist/css/dataframe.css\", \"https://unpkg.com/@holoviz/panel@0.10.3/dist/css/markdown.css\"];\n\n  var inline_js = [\n    function(Bokeh) {\n      Bokeh.set_log_level(\"info\");\n    },\n    function(Bokeh) {} // ensure no trailing comma for IE\n  ];\n\n  function run_inline_js() {\n    if ((root.Bokeh !== undefined) || (force === true)) {\n      for (var i = 0; i < inline_js.length; i++) {\n        inline_js[i].call(root, root.Bokeh);\n      }} else if (Date.now() < root._bokeh_timeout) {\n      setTimeout(run_inline_js, 100);\n    } else if (!root._bokeh_failed_load) {\n      console.log(\"Bokeh: BokehJS failed to load within specified timeout.\");\n      root._bokeh_failed_load = true;\n    }\n  }\n\n  if (root._bokeh_is_loading === 0) {\n    console.debug(\"Bokeh: BokehJS loaded, going straight to plotting\");\n    run_inline_js();\n  } else {\n    load_libs(css_urls, js_urls, function() {\n      console.debug(\"Bokeh: BokehJS plotting callback run at\", now());\n      run_inline_js();\n    });\n  }\n}(window));"
     },
     "metadata": {},
     "output_type": "display_data"
    },
    {
     "data": {
      "application/javascript": [
       "\n",
       "if ((window.PyViz === undefined) || (window.PyViz instanceof HTMLElement)) {\n",
       "  window.PyViz = {comms: {}, comm_status:{}, kernels:{}, receivers: {}, plot_index: []}\n",
       "}\n",
       "\n",
       "\n",
       "    function JupyterCommManager() {\n",
       "    }\n",
       "\n",
       "    JupyterCommManager.prototype.register_target = function(plot_id, comm_id, msg_handler) {\n",
       "      if (window.comm_manager || ((window.Jupyter !== undefined) && (Jupyter.notebook.kernel != null))) {\n",
       "        var comm_manager = window.comm_manager || Jupyter.notebook.kernel.comm_manager;\n",
       "        comm_manager.register_target(comm_id, function(comm) {\n",
       "          comm.on_msg(msg_handler);\n",
       "        });\n",
       "      } else if ((plot_id in window.PyViz.kernels) && (window.PyViz.kernels[plot_id])) {\n",
       "        window.PyViz.kernels[plot_id].registerCommTarget(comm_id, function(comm) {\n",
       "          comm.onMsg = msg_handler;\n",
       "        });\n",
       "      } else if (typeof google != 'undefined' && google.colab.kernel != null) {\n",
       "        google.colab.kernel.comms.registerTarget(comm_id, (comm) => {\n",
       "          var messages = comm.messages[Symbol.asyncIterator]();\n",
       "          function processIteratorResult(result) {\n",
       "            var message = result.value;\n",
       "            console.log(message)\n",
       "            var content = {data: message.data, comm_id};\n",
       "            var buffers = []\n",
       "            for (var buffer of message.buffers || []) {\n",
       "              buffers.push(new DataView(buffer))\n",
       "            }\n",
       "            var metadata = message.metadata || {};\n",
       "            var msg = {content, buffers, metadata}\n",
       "            msg_handler(msg);\n",
       "            return messages.next().then(processIteratorResult);\n",
       "          }\n",
       "          return messages.next().then(processIteratorResult);\n",
       "        })\n",
       "      }\n",
       "    }\n",
       "\n",
       "    JupyterCommManager.prototype.get_client_comm = function(plot_id, comm_id, msg_handler) {\n",
       "      if (comm_id in window.PyViz.comms) {\n",
       "        return window.PyViz.comms[comm_id];\n",
       "      } else if (window.comm_manager || ((window.Jupyter !== undefined) && (Jupyter.notebook.kernel != null))) {\n",
       "        var comm_manager = window.comm_manager || Jupyter.notebook.kernel.comm_manager;\n",
       "        var comm = comm_manager.new_comm(comm_id, {}, {}, {}, comm_id);\n",
       "        if (msg_handler) {\n",
       "          comm.on_msg(msg_handler);\n",
       "        }\n",
       "      } else if ((plot_id in window.PyViz.kernels) && (window.PyViz.kernels[plot_id])) {\n",
       "        var comm = window.PyViz.kernels[plot_id].connectToComm(comm_id);\n",
       "        comm.open();\n",
       "        if (msg_handler) {\n",
       "          comm.onMsg = msg_handler;\n",
       "        }\n",
       "      } else if (typeof google != 'undefined' && google.colab.kernel != null) {\n",
       "        var comm_promise = google.colab.kernel.comms.open(comm_id)\n",
       "        comm_promise.then((comm) => {\n",
       "          window.PyViz.comms[comm_id] = comm;\n",
       "          if (msg_handler) {\n",
       "            var messages = comm.messages[Symbol.asyncIterator]();\n",
       "            function processIteratorResult(result) {\n",
       "              var message = result.value;\n",
       "              var content = {data: message.data};\n",
       "              var metadata = message.metadata || {comm_id};\n",
       "              var msg = {content, metadata}\n",
       "              msg_handler(msg);\n",
       "              return messages.next().then(processIteratorResult);\n",
       "            }\n",
       "            return messages.next().then(processIteratorResult);\n",
       "          }\n",
       "        }) \n",
       "        var sendClosure = (data, metadata, buffers, disposeOnDone) => {\n",
       "          return comm_promise.then((comm) => {\n",
       "            comm.send(data, metadata, buffers, disposeOnDone);\n",
       "          });\n",
       "        };\n",
       "        var comm = {\n",
       "          send: sendClosure\n",
       "        };\n",
       "      }\n",
       "      window.PyViz.comms[comm_id] = comm;\n",
       "      return comm;\n",
       "    }\n",
       "    window.PyViz.comm_manager = new JupyterCommManager();\n",
       "    \n",
       "\n",
       "\n",
       "var JS_MIME_TYPE = 'application/javascript';\n",
       "var HTML_MIME_TYPE = 'text/html';\n",
       "var EXEC_MIME_TYPE = 'application/vnd.holoviews_exec.v0+json';\n",
       "var CLASS_NAME = 'output';\n",
       "\n",
       "/**\n",
       " * Render data to the DOM node\n",
       " */\n",
       "function render(props, node) {\n",
       "  var div = document.createElement(\"div\");\n",
       "  var script = document.createElement(\"script\");\n",
       "  node.appendChild(div);\n",
       "  node.appendChild(script);\n",
       "}\n",
       "\n",
       "/**\n",
       " * Handle when a new output is added\n",
       " */\n",
       "function handle_add_output(event, handle) {\n",
       "  var output_area = handle.output_area;\n",
       "  var output = handle.output;\n",
       "  if ((output.data == undefined) || (!output.data.hasOwnProperty(EXEC_MIME_TYPE))) {\n",
       "    return\n",
       "  }\n",
       "  var id = output.metadata[EXEC_MIME_TYPE][\"id\"];\n",
       "  var toinsert = output_area.element.find(\".\" + CLASS_NAME.split(' ')[0]);\n",
       "  if (id !== undefined) {\n",
       "    var nchildren = toinsert.length;\n",
       "    var html_node = toinsert[nchildren-1].children[0];\n",
       "    html_node.innerHTML = output.data[HTML_MIME_TYPE];\n",
       "    var scripts = [];\n",
       "    var nodelist = html_node.querySelectorAll(\"script\");\n",
       "    for (var i in nodelist) {\n",
       "      if (nodelist.hasOwnProperty(i)) {\n",
       "        scripts.push(nodelist[i])\n",
       "      }\n",
       "    }\n",
       "\n",
       "    scripts.forEach( function (oldScript) {\n",
       "      var newScript = document.createElement(\"script\");\n",
       "      var attrs = [];\n",
       "      var nodemap = oldScript.attributes;\n",
       "      for (var j in nodemap) {\n",
       "        if (nodemap.hasOwnProperty(j)) {\n",
       "          attrs.push(nodemap[j])\n",
       "        }\n",
       "      }\n",
       "      attrs.forEach(function(attr) { newScript.setAttribute(attr.name, attr.value) });\n",
       "      newScript.appendChild(document.createTextNode(oldScript.innerHTML));\n",
       "      oldScript.parentNode.replaceChild(newScript, oldScript);\n",
       "    });\n",
       "    if (JS_MIME_TYPE in output.data) {\n",
       "      toinsert[nchildren-1].children[1].textContent = output.data[JS_MIME_TYPE];\n",
       "    }\n",
       "    output_area._hv_plot_id = id;\n",
       "    if ((window.Bokeh !== undefined) && (id in Bokeh.index)) {\n",
       "      window.PyViz.plot_index[id] = Bokeh.index[id];\n",
       "    } else {\n",
       "      window.PyViz.plot_index[id] = null;\n",
       "    }\n",
       "  } else if (output.metadata[EXEC_MIME_TYPE][\"server_id\"] !== undefined) {\n",
       "    var bk_div = document.createElement(\"div\");\n",
       "    bk_div.innerHTML = output.data[HTML_MIME_TYPE];\n",
       "    var script_attrs = bk_div.children[0].attributes;\n",
       "    for (var i = 0; i < script_attrs.length; i++) {\n",
       "      toinsert[toinsert.length - 1].childNodes[1].setAttribute(script_attrs[i].name, script_attrs[i].value);\n",
       "    }\n",
       "    // store reference to server id on output_area\n",
       "    output_area._bokeh_server_id = output.metadata[EXEC_MIME_TYPE][\"server_id\"];\n",
       "  }\n",
       "}\n",
       "\n",
       "/**\n",
       " * Handle when an output is cleared or removed\n",
       " */\n",
       "function handle_clear_output(event, handle) {\n",
       "  var id = handle.cell.output_area._hv_plot_id;\n",
       "  var server_id = handle.cell.output_area._bokeh_server_id;\n",
       "  if (((id === undefined) || !(id in PyViz.plot_index)) && (server_id !== undefined)) { return; }\n",
       "  var comm = window.PyViz.comm_manager.get_client_comm(\"hv-extension-comm\", \"hv-extension-comm\", function () {});\n",
       "  if (server_id !== null) {\n",
       "    comm.send({event_type: 'server_delete', 'id': server_id});\n",
       "    return;\n",
       "  } else if (comm !== null) {\n",
       "    comm.send({event_type: 'delete', 'id': id});\n",
       "  }\n",
       "  delete PyViz.plot_index[id];\n",
       "  if ((window.Bokeh !== undefined) & (id in window.Bokeh.index)) {\n",
       "    var doc = window.Bokeh.index[id].model.document\n",
       "    doc.clear();\n",
       "    const i = window.Bokeh.documents.indexOf(doc);\n",
       "    if (i > -1) {\n",
       "      window.Bokeh.documents.splice(i, 1);\n",
       "    }\n",
       "  }\n",
       "}\n",
       "\n",
       "/**\n",
       " * Handle kernel restart event\n",
       " */\n",
       "function handle_kernel_cleanup(event, handle) {\n",
       "  delete PyViz.comms[\"hv-extension-comm\"];\n",
       "  window.PyViz.plot_index = {}\n",
       "}\n",
       "\n",
       "/**\n",
       " * Handle update_display_data messages\n",
       " */\n",
       "function handle_update_output(event, handle) {\n",
       "  handle_clear_output(event, {cell: {output_area: handle.output_area}})\n",
       "  handle_add_output(event, handle)\n",
       "}\n",
       "\n",
       "function register_renderer(events, OutputArea) {\n",
       "  function append_mime(data, metadata, element) {\n",
       "    // create a DOM node to render to\n",
       "    var toinsert = this.create_output_subarea(\n",
       "    metadata,\n",
       "    CLASS_NAME,\n",
       "    EXEC_MIME_TYPE\n",
       "    );\n",
       "    this.keyboard_manager.register_events(toinsert);\n",
       "    // Render to node\n",
       "    var props = {data: data, metadata: metadata[EXEC_MIME_TYPE]};\n",
       "    render(props, toinsert[0]);\n",
       "    element.append(toinsert);\n",
       "    return toinsert\n",
       "  }\n",
       "\n",
       "  events.on('output_added.OutputArea', handle_add_output);\n",
       "  events.on('output_updated.OutputArea', handle_update_output);\n",
       "  events.on('clear_output.CodeCell', handle_clear_output);\n",
       "  events.on('delete.Cell', handle_clear_output);\n",
       "  events.on('kernel_ready.Kernel', handle_kernel_cleanup);\n",
       "\n",
       "  OutputArea.prototype.register_mime_type(EXEC_MIME_TYPE, append_mime, {\n",
       "    safe: true,\n",
       "    index: 0\n",
       "  });\n",
       "}\n",
       "\n",
       "if (window.Jupyter !== undefined) {\n",
       "  try {\n",
       "    var events = require('base/js/events');\n",
       "    var OutputArea = require('notebook/js/outputarea').OutputArea;\n",
       "    if (OutputArea.prototype.mime_types().indexOf(EXEC_MIME_TYPE) == -1) {\n",
       "      register_renderer(events, OutputArea);\n",
       "    }\n",
       "  } catch(err) {\n",
       "  }\n",
       "}\n"
      ],
      "application/vnd.holoviews_load.v0+json": "\nif ((window.PyViz === undefined) || (window.PyViz instanceof HTMLElement)) {\n  window.PyViz = {comms: {}, comm_status:{}, kernels:{}, receivers: {}, plot_index: []}\n}\n\n\n    function JupyterCommManager() {\n    }\n\n    JupyterCommManager.prototype.register_target = function(plot_id, comm_id, msg_handler) {\n      if (window.comm_manager || ((window.Jupyter !== undefined) && (Jupyter.notebook.kernel != null))) {\n        var comm_manager = window.comm_manager || Jupyter.notebook.kernel.comm_manager;\n        comm_manager.register_target(comm_id, function(comm) {\n          comm.on_msg(msg_handler);\n        });\n      } else if ((plot_id in window.PyViz.kernels) && (window.PyViz.kernels[plot_id])) {\n        window.PyViz.kernels[plot_id].registerCommTarget(comm_id, function(comm) {\n          comm.onMsg = msg_handler;\n        });\n      } else if (typeof google != 'undefined' && google.colab.kernel != null) {\n        google.colab.kernel.comms.registerTarget(comm_id, (comm) => {\n          var messages = comm.messages[Symbol.asyncIterator]();\n          function processIteratorResult(result) {\n            var message = result.value;\n            console.log(message)\n            var content = {data: message.data, comm_id};\n            var buffers = []\n            for (var buffer of message.buffers || []) {\n              buffers.push(new DataView(buffer))\n            }\n            var metadata = message.metadata || {};\n            var msg = {content, buffers, metadata}\n            msg_handler(msg);\n            return messages.next().then(processIteratorResult);\n          }\n          return messages.next().then(processIteratorResult);\n        })\n      }\n    }\n\n    JupyterCommManager.prototype.get_client_comm = function(plot_id, comm_id, msg_handler) {\n      if (comm_id in window.PyViz.comms) {\n        return window.PyViz.comms[comm_id];\n      } else if (window.comm_manager || ((window.Jupyter !== undefined) && (Jupyter.notebook.kernel != null))) {\n        var comm_manager = window.comm_manager || Jupyter.notebook.kernel.comm_manager;\n        var comm = comm_manager.new_comm(comm_id, {}, {}, {}, comm_id);\n        if (msg_handler) {\n          comm.on_msg(msg_handler);\n        }\n      } else if ((plot_id in window.PyViz.kernels) && (window.PyViz.kernels[plot_id])) {\n        var comm = window.PyViz.kernels[plot_id].connectToComm(comm_id);\n        comm.open();\n        if (msg_handler) {\n          comm.onMsg = msg_handler;\n        }\n      } else if (typeof google != 'undefined' && google.colab.kernel != null) {\n        var comm_promise = google.colab.kernel.comms.open(comm_id)\n        comm_promise.then((comm) => {\n          window.PyViz.comms[comm_id] = comm;\n          if (msg_handler) {\n            var messages = comm.messages[Symbol.asyncIterator]();\n            function processIteratorResult(result) {\n              var message = result.value;\n              var content = {data: message.data};\n              var metadata = message.metadata || {comm_id};\n              var msg = {content, metadata}\n              msg_handler(msg);\n              return messages.next().then(processIteratorResult);\n            }\n            return messages.next().then(processIteratorResult);\n          }\n        }) \n        var sendClosure = (data, metadata, buffers, disposeOnDone) => {\n          return comm_promise.then((comm) => {\n            comm.send(data, metadata, buffers, disposeOnDone);\n          });\n        };\n        var comm = {\n          send: sendClosure\n        };\n      }\n      window.PyViz.comms[comm_id] = comm;\n      return comm;\n    }\n    window.PyViz.comm_manager = new JupyterCommManager();\n    \n\n\nvar JS_MIME_TYPE = 'application/javascript';\nvar HTML_MIME_TYPE = 'text/html';\nvar EXEC_MIME_TYPE = 'application/vnd.holoviews_exec.v0+json';\nvar CLASS_NAME = 'output';\n\n/**\n * Render data to the DOM node\n */\nfunction render(props, node) {\n  var div = document.createElement(\"div\");\n  var script = document.createElement(\"script\");\n  node.appendChild(div);\n  node.appendChild(script);\n}\n\n/**\n * Handle when a new output is added\n */\nfunction handle_add_output(event, handle) {\n  var output_area = handle.output_area;\n  var output = handle.output;\n  if ((output.data == undefined) || (!output.data.hasOwnProperty(EXEC_MIME_TYPE))) {\n    return\n  }\n  var id = output.metadata[EXEC_MIME_TYPE][\"id\"];\n  var toinsert = output_area.element.find(\".\" + CLASS_NAME.split(' ')[0]);\n  if (id !== undefined) {\n    var nchildren = toinsert.length;\n    var html_node = toinsert[nchildren-1].children[0];\n    html_node.innerHTML = output.data[HTML_MIME_TYPE];\n    var scripts = [];\n    var nodelist = html_node.querySelectorAll(\"script\");\n    for (var i in nodelist) {\n      if (nodelist.hasOwnProperty(i)) {\n        scripts.push(nodelist[i])\n      }\n    }\n\n    scripts.forEach( function (oldScript) {\n      var newScript = document.createElement(\"script\");\n      var attrs = [];\n      var nodemap = oldScript.attributes;\n      for (var j in nodemap) {\n        if (nodemap.hasOwnProperty(j)) {\n          attrs.push(nodemap[j])\n        }\n      }\n      attrs.forEach(function(attr) { newScript.setAttribute(attr.name, attr.value) });\n      newScript.appendChild(document.createTextNode(oldScript.innerHTML));\n      oldScript.parentNode.replaceChild(newScript, oldScript);\n    });\n    if (JS_MIME_TYPE in output.data) {\n      toinsert[nchildren-1].children[1].textContent = output.data[JS_MIME_TYPE];\n    }\n    output_area._hv_plot_id = id;\n    if ((window.Bokeh !== undefined) && (id in Bokeh.index)) {\n      window.PyViz.plot_index[id] = Bokeh.index[id];\n    } else {\n      window.PyViz.plot_index[id] = null;\n    }\n  } else if (output.metadata[EXEC_MIME_TYPE][\"server_id\"] !== undefined) {\n    var bk_div = document.createElement(\"div\");\n    bk_div.innerHTML = output.data[HTML_MIME_TYPE];\n    var script_attrs = bk_div.children[0].attributes;\n    for (var i = 0; i < script_attrs.length; i++) {\n      toinsert[toinsert.length - 1].childNodes[1].setAttribute(script_attrs[i].name, script_attrs[i].value);\n    }\n    // store reference to server id on output_area\n    output_area._bokeh_server_id = output.metadata[EXEC_MIME_TYPE][\"server_id\"];\n  }\n}\n\n/**\n * Handle when an output is cleared or removed\n */\nfunction handle_clear_output(event, handle) {\n  var id = handle.cell.output_area._hv_plot_id;\n  var server_id = handle.cell.output_area._bokeh_server_id;\n  if (((id === undefined) || !(id in PyViz.plot_index)) && (server_id !== undefined)) { return; }\n  var comm = window.PyViz.comm_manager.get_client_comm(\"hv-extension-comm\", \"hv-extension-comm\", function () {});\n  if (server_id !== null) {\n    comm.send({event_type: 'server_delete', 'id': server_id});\n    return;\n  } else if (comm !== null) {\n    comm.send({event_type: 'delete', 'id': id});\n  }\n  delete PyViz.plot_index[id];\n  if ((window.Bokeh !== undefined) & (id in window.Bokeh.index)) {\n    var doc = window.Bokeh.index[id].model.document\n    doc.clear();\n    const i = window.Bokeh.documents.indexOf(doc);\n    if (i > -1) {\n      window.Bokeh.documents.splice(i, 1);\n    }\n  }\n}\n\n/**\n * Handle kernel restart event\n */\nfunction handle_kernel_cleanup(event, handle) {\n  delete PyViz.comms[\"hv-extension-comm\"];\n  window.PyViz.plot_index = {}\n}\n\n/**\n * Handle update_display_data messages\n */\nfunction handle_update_output(event, handle) {\n  handle_clear_output(event, {cell: {output_area: handle.output_area}})\n  handle_add_output(event, handle)\n}\n\nfunction register_renderer(events, OutputArea) {\n  function append_mime(data, metadata, element) {\n    // create a DOM node to render to\n    var toinsert = this.create_output_subarea(\n    metadata,\n    CLASS_NAME,\n    EXEC_MIME_TYPE\n    );\n    this.keyboard_manager.register_events(toinsert);\n    // Render to node\n    var props = {data: data, metadata: metadata[EXEC_MIME_TYPE]};\n    render(props, toinsert[0]);\n    element.append(toinsert);\n    return toinsert\n  }\n\n  events.on('output_added.OutputArea', handle_add_output);\n  events.on('output_updated.OutputArea', handle_update_output);\n  events.on('clear_output.CodeCell', handle_clear_output);\n  events.on('delete.Cell', handle_clear_output);\n  events.on('kernel_ready.Kernel', handle_kernel_cleanup);\n\n  OutputArea.prototype.register_mime_type(EXEC_MIME_TYPE, append_mime, {\n    safe: true,\n    index: 0\n  });\n}\n\nif (window.Jupyter !== undefined) {\n  try {\n    var events = require('base/js/events');\n    var OutputArea = require('notebook/js/outputarea').OutputArea;\n    if (OutputArea.prototype.mime_types().indexOf(EXEC_MIME_TYPE) == -1) {\n      register_renderer(events, OutputArea);\n    }\n  } catch(err) {\n  }\n}\n"
     },
     "metadata": {},
     "output_type": "display_data"
    }
   ],
   "source": [
    "import cudf as dd\n",
    "import numpy as np\n",
    "import matplotlib.pyplot as plt\n",
    "RAPIDS=True\n",
    "%matplotlib inline\n",
    "\n",
    "import panel as pn\n",
    "pn.extension()"
   ]
  },
  {
   "cell_type": "code",
   "execution_count": 2,
   "id": "treated-wheat",
   "metadata": {},
   "outputs": [],
   "source": [
    "#dd.set_option('display.max_rows', 122)"
   ]
  },
  {
   "cell_type": "markdown",
   "id": "offensive-ladder",
   "metadata": {},
   "source": [
    "### Bureau Balance\n",
    "\n",
    "Shows history of account for a particular SK_ID_BUREAU.\n",
    "The Months Balance is time relative to application date the loan\n",
    "\n",
    "The Status shows details on the Loan with C = Closed, X = unknown status, \n",
    "0 means nothing past due / 1 means something between 0-30 days past due / 2 means something between 31-60 days past due and 5 means something 120 days past due or written off\n"
   ]
  },
  {
   "cell_type": "code",
   "execution_count": 3,
   "id": "lovely-shirt",
   "metadata": {},
   "outputs": [],
   "source": [
    "pandas_dtypes = {'MONTHS_BALANCE': np.int64, 'STATUS': 'category'}\n",
    "\n",
    "if RAPIDS: \n",
    "    bb_dtypes = [] # rapids doesn't accept partial dtypes\n",
    "else: \n",
    "    bb_dtypes = pandas_dtypes \n",
    "\n",
    "bureau_balance = dd.read_csv(filepath_or_buffer='data/bureau_balance.csv', \n",
    "                               #index_col = 'SK_ID_BUREAU',\n",
    "                                dtype=bb_dtypes)"
   ]
  },
  {
   "cell_type": "code",
   "execution_count": 4,
   "id": "cooked-dining",
   "metadata": {},
   "outputs": [
    {
     "data": {
      "text/plain": [
       "SK_ID_BUREAU       int64\n",
       "MONTHS_BALANCE     int64\n",
       "STATUS            object\n",
       "dtype: object"
      ]
     },
     "execution_count": 4,
     "metadata": {},
     "output_type": "execute_result"
    }
   ],
   "source": [
    "# check the columns and the dtypes\n",
    "bureau_balance.dtypes"
   ]
  },
  {
   "cell_type": "code",
   "execution_count": 5,
   "id": "separate-trademark",
   "metadata": {},
   "outputs": [
    {
     "data": {
      "text/plain": [
       "False"
      ]
     },
     "execution_count": 5,
     "metadata": {},
     "output_type": "execute_result"
    }
   ],
   "source": [
    "# see if the SK_ID_BUREAU is unique\n",
    "len(bureau_balance) == len(bureau_balance.SK_ID_BUREAU.unique())"
   ]
  },
  {
   "cell_type": "code",
   "execution_count": 6,
   "id": "excess-hacker",
   "metadata": {},
   "outputs": [
    {
     "data": {
      "text/plain": [
       "817395"
      ]
     },
     "execution_count": 6,
     "metadata": {},
     "output_type": "execute_result"
    }
   ],
   "source": [
    "# see the average months history per bureau id\n",
    "history_count = bureau_balance[['SK_ID_BUREAU', 'MONTHS_BALANCE']].groupby('SK_ID_BUREAU').count()\n",
    "\n",
    "len(history_count)"
   ]
  },
  {
   "cell_type": "code",
   "execution_count": 7,
   "id": "noted-company",
   "metadata": {},
   "outputs": [
    {
     "data": {
      "text/plain": [
       "cudf.core.dataframe.DataFrame"
      ]
     },
     "execution_count": 7,
     "metadata": {},
     "output_type": "execute_result"
    }
   ],
   "source": [
    "type(history_count)"
   ]
  },
  {
   "cell_type": "code",
   "execution_count": 8,
   "id": "passing-radiation",
   "metadata": {},
   "outputs": [
    {
     "data": {
      "text/plain": [
       "(array([ 6189., 12930., 13813., 16700., 16725., 18618., 20896., 20470.,\n",
       "        19647., 18727., 18508., 18628., 17775., 16610., 15893., 15849.,\n",
       "        16343., 15935., 15558., 15063., 14464., 13610., 13439., 13429.,\n",
       "            0., 12795., 12195., 11580., 11708., 11460., 11322., 11196.,\n",
       "        10434., 10218.,  9715.,  9956.,  9764.,  9603.,  9280.,  8928.,\n",
       "         8824.,  8882.,  9035.,  8492.,  8271.,  7515.,  7249.,  7098.,\n",
       "         6992.,     0.,  6769.,  6266.,  6065.,  5994.,  6101.,  5999.,\n",
       "         5840.,  5833.,  5589.,  5415.,  4906.,  4611.,  4247.,  3941.,\n",
       "         3673.,  3504.,  3543.,  3467.,  3190.,  2994.,  2837.,  2610.,\n",
       "         2452.,  2368.,     0.,  2115.,  2077.,  2285.,  2274.,  2367.,\n",
       "         2604.,  2916.,  3439.,  3540.,  3648.,  3505.,  3371.,  3372.,\n",
       "         3008.,  3080.,  2876.,  2888.,  3042.,  2936.,  2671.,  2666.,\n",
       "         2573.,  2362.,  2741., 22494.]),\n",
       " array([ 1.  ,  1.96,  2.92,  3.88,  4.84,  5.8 ,  6.76,  7.72,  8.68,\n",
       "         9.64, 10.6 , 11.56, 12.52, 13.48, 14.44, 15.4 , 16.36, 17.32,\n",
       "        18.28, 19.24, 20.2 , 21.16, 22.12, 23.08, 24.04, 25.  , 25.96,\n",
       "        26.92, 27.88, 28.84, 29.8 , 30.76, 31.72, 32.68, 33.64, 34.6 ,\n",
       "        35.56, 36.52, 37.48, 38.44, 39.4 , 40.36, 41.32, 42.28, 43.24,\n",
       "        44.2 , 45.16, 46.12, 47.08, 48.04, 49.  , 49.96, 50.92, 51.88,\n",
       "        52.84, 53.8 , 54.76, 55.72, 56.68, 57.64, 58.6 , 59.56, 60.52,\n",
       "        61.48, 62.44, 63.4 , 64.36, 65.32, 66.28, 67.24, 68.2 , 69.16,\n",
       "        70.12, 71.08, 72.04, 73.  , 73.96, 74.92, 75.88, 76.84, 77.8 ,\n",
       "        78.76, 79.72, 80.68, 81.64, 82.6 , 83.56, 84.52, 85.48, 86.44,\n",
       "        87.4 , 88.36, 89.32, 90.28, 91.24, 92.2 , 93.16, 94.12, 95.08,\n",
       "        96.04, 97.  ]),\n",
       " <BarContainer object of 100 artists>)"
      ]
     },
     "execution_count": 8,
     "metadata": {},
     "output_type": "execute_result"
    },
    {
     "data": {
      "image/png": "[encoded data removed]",
      "text/plain": [
       "<Figure size 432x288 with 1 Axes>"
      ]
     },
     "metadata": {
      "needs_background": "light"
     },
     "output_type": "display_data"
    }
   ],
   "source": [
    "#history_count\n",
    "plt.hist(history_count.MONTHS_BALANCE.to_arrow(), bins=100)"
   ]
  },
  {
   "cell_type": "code",
   "execution_count": 9,
   "id": "framed-sensitivity",
   "metadata": {},
   "outputs": [
    {
     "data": {},
     "metadata": {},
     "output_type": "display_data"
    },
    {
     "data": {
      "application/vnd.holoviews_exec.v0+json": "",
      "text/html": [
       "<div id='1001'>\n",
       "\n",
       "\n",
       "\n",
       "\n",
       "\n",
       "  <div class=\"bk-root\" id=\"c461f932-4b36-446b-bb5e-c93ac19791aa\" data-root-id=\"1001\"></div>\n",
       "</div>\n",
       "<script type=\"application/javascript\">(function(root) {\n",
       "  function embed_document(root) {\n",
       "    var docs_json = {\"53bd6087-d86c-4b5c-9134-5cb2bace47f7\":{\"roots\":{\"references\":[{\"attributes\":{\"active_header_background\":\"\",\"button_css_classes\":[\"card-button\"],\"children\":[{\"id\":\"1002\"}],\"collapsed\":false,\"css_classes\":[\"card\"],\"header_background\":\"\",\"header_color\":\"\",\"header_css_classes\":[\"card-header\"],\"margin\":[5,5,5,5],\"name\":\"Card00008\",\"sizing_mode\":\"stretch_both\",\"width\":400},\"id\":\"1001\",\"type\":\"panel.models.layout.Card\"},{\"attributes\":{\"client_comm_id\":\"af32203f229e410dbaa5015374a9c868\",\"comm_id\":\"dc8fd7b4814d4c259842a56bb5777aac\",\"plot_id\":\"1001\"},\"id\":\"1004\",\"type\":\"panel.models.comm_manager.CommManager\"},{\"attributes\":{\"css_classes\":[\"card-title\"],\"margin\":[2,5,2,5],\"name\":\"HTML00009\",\"sizing_mode\":\"stretch_width\",\"text\":\"MONTHS_BALANCE\"},\"id\":\"1003\",\"type\":\"panel.models.markup.HTML\"},{\"attributes\":{\"children\":[{\"id\":\"1003\"}],\"css_classes\":[\"card-header-row\"],\"margin\":[0,0,0,0],\"name\":\"Row00007\",\"sizing_mode\":\"stretch_width\"},\"id\":\"1002\",\"type\":\"Row\"},{\"attributes\":{\"reload\":false},\"id\":\"1005\",\"type\":\"panel.models.location.Location\"}],\"root_ids\":[\"1001\",\"1004\",\"1005\"]},\"title\":\"Bokeh Application\",\"version\":\"2.2.3\"}};\n",
       "    var render_items = [{\"docid\":\"53bd6087-d86c-4b5c-9134-5cb2bace47f7\",\"root_ids\":[\"1001\"],\"roots\":{\"1001\":\"c461f932-4b36-446b-bb5e-c93ac19791aa\"}}];\n",
       "    root.Bokeh.embed.embed_items_notebook(docs_json, render_items);\n",
       "  }\n",
       "  if (root.Bokeh !== undefined && root.Bokeh.Panel !== undefined) {\n",
       "    embed_document(root);\n",
       "  } else {\n",
       "    var attempts = 0;\n",
       "    var timer = setInterval(function(root) {\n",
       "      if (root.Bokeh !== undefined && root.Bokeh.Panel !== undefined) {\n",
       "        clearInterval(timer);\n",
       "        embed_document(root);\n",
       "      } else if (document.readyState == \"complete\") {\n",
       "        attempts++;\n",
       "        if (attempts > 100) {\n",
       "          clearInterval(timer);\n",
       "          console.log(\"Bokeh: ERROR: Unable to run BokehJS code because BokehJS library is missing\");\n",
       "        }\n",
       "      }\n",
       "    }, 10, root)\n",
       "  }\n",
       "})(window);</script>"
      ],
      "text/plain": [
       "Card(sizing_mode='stretch_both', title='MONTHS_BALANCE', width=400)"
      ]
     },
     "execution_count": 9,
     "metadata": {
      "application/vnd.holoviews_exec.v0+json": {
       "id": "1001"
      }
     },
     "output_type": "execute_result"
    }
   ],
   "source": [
    "# test with cuxfilter\n",
    "import cuxfilter\n",
    "\n",
    "cux_df = cuxfilter.DataFrame.from_dataframe(history_count)\n",
    "bar_chart_1 = cuxfilter.charts.bar('MONTHS_BALANCE')\n",
    "bar_chart_1.view()"
   ]
  },
  {
   "cell_type": "code",
   "execution_count": 10,
   "id": "breeding-accent",
   "metadata": {},
   "outputs": [
    {
     "data": {
      "text/plain": [
       "0    0\n",
       "1    1\n",
       "2    2\n",
       "3    3\n",
       "4    4\n",
       "5    5\n",
       "6    C\n",
       "7    X\n",
       "Name: STATUS, dtype: object"
      ]
     },
     "execution_count": 10,
     "metadata": {},
     "output_type": "execute_result"
    }
   ],
   "source": [
    "bureau_balance.STATUS.unique()\n",
    "#bureau_balance[['SK_ID_BUREAU', 'STATUS']].unique()"
   ]
  },
  {
   "cell_type": "code",
   "execution_count": 11,
   "id": "corporate-council",
   "metadata": {},
   "outputs": [
    {
     "data": {
      "text/html": [
       "<div>\n",
       "<style scoped>\n",
       "    .dataframe tbody tr th:only-of-type {\n",
       "        vertical-align: middle;\n",
       "    }\n",
       "\n",
       "    .dataframe tbody tr th {\n",
       "        vertical-align: top;\n",
       "    }\n",
       "\n",
       "    .dataframe thead th {\n",
       "        text-align: right;\n",
       "    }\n",
       "</style>\n",
       "<table border=\"1\" class=\"dataframe\">\n",
       "  <thead>\n",
       "    <tr style=\"text-align: right;\">\n",
       "      <th></th>\n",
       "      <th>SK_ID_BUREAU</th>\n",
       "      <th>MONTHS_BALANCE</th>\n",
       "      <th>STATUS</th>\n",
       "    </tr>\n",
       "  </thead>\n",
       "  <tbody>\n",
       "    <tr>\n",
       "      <th>0</th>\n",
       "      <td>5715448</td>\n",
       "      <td>0</td>\n",
       "      <td>C</td>\n",
       "    </tr>\n",
       "    <tr>\n",
       "      <th>1</th>\n",
       "      <td>5715448</td>\n",
       "      <td>-1</td>\n",
       "      <td>C</td>\n",
       "    </tr>\n",
       "    <tr>\n",
       "      <th>2</th>\n",
       "      <td>5715448</td>\n",
       "      <td>-2</td>\n",
       "      <td>C</td>\n",
       "    </tr>\n",
       "    <tr>\n",
       "      <th>3</th>\n",
       "      <td>5715448</td>\n",
       "      <td>-3</td>\n",
       "      <td>C</td>\n",
       "    </tr>\n",
       "    <tr>\n",
       "      <th>4</th>\n",
       "      <td>5715448</td>\n",
       "      <td>-4</td>\n",
       "      <td>C</td>\n",
       "    </tr>\n",
       "    <tr>\n",
       "      <th>5</th>\n",
       "      <td>5715448</td>\n",
       "      <td>-5</td>\n",
       "      <td>C</td>\n",
       "    </tr>\n",
       "    <tr>\n",
       "      <th>6</th>\n",
       "      <td>5715448</td>\n",
       "      <td>-6</td>\n",
       "      <td>C</td>\n",
       "    </tr>\n",
       "    <tr>\n",
       "      <th>7</th>\n",
       "      <td>5715448</td>\n",
       "      <td>-7</td>\n",
       "      <td>C</td>\n",
       "    </tr>\n",
       "    <tr>\n",
       "      <th>8</th>\n",
       "      <td>5715448</td>\n",
       "      <td>-8</td>\n",
       "      <td>C</td>\n",
       "    </tr>\n",
       "    <tr>\n",
       "      <th>9</th>\n",
       "      <td>5715448</td>\n",
       "      <td>-9</td>\n",
       "      <td>0</td>\n",
       "    </tr>\n",
       "    <tr>\n",
       "      <th>10</th>\n",
       "      <td>5715448</td>\n",
       "      <td>-10</td>\n",
       "      <td>0</td>\n",
       "    </tr>\n",
       "    <tr>\n",
       "      <th>11</th>\n",
       "      <td>5715448</td>\n",
       "      <td>-11</td>\n",
       "      <td>X</td>\n",
       "    </tr>\n",
       "    <tr>\n",
       "      <th>12</th>\n",
       "      <td>5715448</td>\n",
       "      <td>-12</td>\n",
       "      <td>X</td>\n",
       "    </tr>\n",
       "    <tr>\n",
       "      <th>13</th>\n",
       "      <td>5715448</td>\n",
       "      <td>-13</td>\n",
       "      <td>X</td>\n",
       "    </tr>\n",
       "    <tr>\n",
       "      <th>14</th>\n",
       "      <td>5715448</td>\n",
       "      <td>-14</td>\n",
       "      <td>0</td>\n",
       "    </tr>\n",
       "    <tr>\n",
       "      <th>15</th>\n",
       "      <td>5715448</td>\n",
       "      <td>-15</td>\n",
       "      <td>0</td>\n",
       "    </tr>\n",
       "    <tr>\n",
       "      <th>16</th>\n",
       "      <td>5715448</td>\n",
       "      <td>-16</td>\n",
       "      <td>0</td>\n",
       "    </tr>\n",
       "    <tr>\n",
       "      <th>17</th>\n",
       "      <td>5715448</td>\n",
       "      <td>-17</td>\n",
       "      <td>0</td>\n",
       "    </tr>\n",
       "    <tr>\n",
       "      <th>18</th>\n",
       "      <td>5715448</td>\n",
       "      <td>-18</td>\n",
       "      <td>0</td>\n",
       "    </tr>\n",
       "    <tr>\n",
       "      <th>19</th>\n",
       "      <td>5715448</td>\n",
       "      <td>-19</td>\n",
       "      <td>0</td>\n",
       "    </tr>\n",
       "    <tr>\n",
       "      <th>20</th>\n",
       "      <td>5715448</td>\n",
       "      <td>-20</td>\n",
       "      <td>X</td>\n",
       "    </tr>\n",
       "    <tr>\n",
       "      <th>21</th>\n",
       "      <td>5715448</td>\n",
       "      <td>-21</td>\n",
       "      <td>X</td>\n",
       "    </tr>\n",
       "    <tr>\n",
       "      <th>22</th>\n",
       "      <td>5715448</td>\n",
       "      <td>-22</td>\n",
       "      <td>X</td>\n",
       "    </tr>\n",
       "    <tr>\n",
       "      <th>23</th>\n",
       "      <td>5715448</td>\n",
       "      <td>-23</td>\n",
       "      <td>X</td>\n",
       "    </tr>\n",
       "    <tr>\n",
       "      <th>24</th>\n",
       "      <td>5715448</td>\n",
       "      <td>-24</td>\n",
       "      <td>X</td>\n",
       "    </tr>\n",
       "    <tr>\n",
       "      <th>25</th>\n",
       "      <td>5715448</td>\n",
       "      <td>-25</td>\n",
       "      <td>X</td>\n",
       "    </tr>\n",
       "    <tr>\n",
       "      <th>26</th>\n",
       "      <td>5715448</td>\n",
       "      <td>-26</td>\n",
       "      <td>X</td>\n",
       "    </tr>\n",
       "  </tbody>\n",
       "</table>\n",
       "</div>"
      ],
      "text/plain": [
       "    SK_ID_BUREAU  MONTHS_BALANCE STATUS\n",
       "0        5715448               0      C\n",
       "1        5715448              -1      C\n",
       "2        5715448              -2      C\n",
       "3        5715448              -3      C\n",
       "4        5715448              -4      C\n",
       "5        5715448              -5      C\n",
       "6        5715448              -6      C\n",
       "7        5715448              -7      C\n",
       "8        5715448              -8      C\n",
       "9        5715448              -9      0\n",
       "10       5715448             -10      0\n",
       "11       5715448             -11      X\n",
       "12       5715448             -12      X\n",
       "13       5715448             -13      X\n",
       "14       5715448             -14      0\n",
       "15       5715448             -15      0\n",
       "16       5715448             -16      0\n",
       "17       5715448             -17      0\n",
       "18       5715448             -18      0\n",
       "19       5715448             -19      0\n",
       "20       5715448             -20      X\n",
       "21       5715448             -21      X\n",
       "22       5715448             -22      X\n",
       "23       5715448             -23      X\n",
       "24       5715448             -24      X\n",
       "25       5715448             -25      X\n",
       "26       5715448             -26      X"
      ]
     },
     "execution_count": 11,
     "metadata": {},
     "output_type": "execute_result"
    }
   ],
   "source": [
    "# exploring what is in the records for one SK_ID_BUREAU number\n",
    "bureau_balance[bureau_balance['SK_ID_BUREAU']==5715448]"
   ]
  },
  {
   "cell_type": "code",
   "execution_count": 12,
   "id": "wicked-encoding",
   "metadata": {},
   "outputs": [
    {
     "data": {
      "text/plain": [
       "SK_ID_BUREAU      False\n",
       "MONTHS_BALANCE    False\n",
       "STATUS            False\n",
       "dtype: bool"
      ]
     },
     "execution_count": 12,
     "metadata": {},
     "output_type": "execute_result"
    }
   ],
   "source": [
    "# check for nulls in bureau_balance\n",
    "bureau_balance.isnull().any()"
   ]
  },
  {
   "cell_type": "code",
   "execution_count": 13,
   "id": "falling-attack",
   "metadata": {},
   "outputs": [],
   "source": [
    "bureau_balance.to_parquet('raw_data/bureau_balance.parquet')"
   ]
  },
  {
   "cell_type": "markdown",
   "id": "enclosed-culture",
   "metadata": {},
   "source": [
    "### Bureau"
   ]
  },
  {
   "cell_type": "code",
   "execution_count": 14,
   "id": "finite-crowd",
   "metadata": {},
   "outputs": [],
   "source": [
    "pandas_dtypes = {'CREDIT_ACTIVE': 'category', 'CREDIT_CURRENCY': 'category'}\n",
    "\n",
    "if RAPIDS: \n",
    "    bureau_dtypes = [] # rapids doesn't accept partial dtypes\n",
    "else: \n",
    "    bureau_dtypes = pandas_dtypes \n",
    "\n",
    "bureau = dd.read_csv('data/bureau.csv',\n",
    "                    dtype=bureau_dtypes)"
   ]
  },
  {
   "cell_type": "code",
   "execution_count": 15,
   "id": "anonymous-gnome",
   "metadata": {},
   "outputs": [
    {
     "data": {
      "text/plain": [
       "(1716428, 17)"
      ]
     },
     "execution_count": 15,
     "metadata": {},
     "output_type": "execute_result"
    }
   ],
   "source": [
    "bureau.shape"
   ]
  },
  {
   "cell_type": "code",
   "execution_count": 16,
   "id": "binding-amendment",
   "metadata": {},
   "outputs": [
    {
     "data": {
      "text/plain": [
       "Index(['SK_ID_CURR', 'SK_ID_BUREAU', 'CREDIT_ACTIVE', 'CREDIT_CURRENCY',\n",
       "       'DAYS_CREDIT', 'CREDIT_DAY_OVERDUE', 'DAYS_CREDIT_ENDDATE',\n",
       "       'DAYS_ENDDATE_FACT', 'AMT_CREDIT_MAX_OVERDUE', 'CNT_CREDIT_PROLONG',\n",
       "       'AMT_CREDIT_SUM', 'AMT_CREDIT_SUM_DEBT', 'AMT_CREDIT_SUM_LIMIT',\n",
       "       'AMT_CREDIT_SUM_OVERDUE', 'CREDIT_TYPE', 'DAYS_CREDIT_UPDATE',\n",
       "       'AMT_ANNUITY'],\n",
       "      dtype='object')"
      ]
     },
     "execution_count": 16,
     "metadata": {},
     "output_type": "execute_result"
    }
   ],
   "source": [
    "bureau.columns"
   ]
  },
  {
   "cell_type": "code",
   "execution_count": 17,
   "id": "statutory-triumph",
   "metadata": {},
   "outputs": [],
   "source": [
    "# histogram binning is not yet supported\n",
    "if not RAPIDS:\n",
    "    bureau[['SK_ID_CURR', 'SK_ID_BUREAU']].groupby('SK_ID_CURR').count().hist(bins=70)"
   ]
  },
  {
   "cell_type": "markdown",
   "id": "japanese-department",
   "metadata": {},
   "source": [
    "We can see that there are loans to customers who have multiple other historical or active loans"
   ]
  },
  {
   "cell_type": "code",
   "execution_count": 18,
   "id": "divine-promise",
   "metadata": {},
   "outputs": [
    {
     "data": {
      "text/plain": [
       "SK_ID_CURR                  int64\n",
       "SK_ID_BUREAU                int64\n",
       "CREDIT_ACTIVE              object\n",
       "CREDIT_CURRENCY            object\n",
       "DAYS_CREDIT                 int64\n",
       "CREDIT_DAY_OVERDUE          int64\n",
       "DAYS_CREDIT_ENDDATE       float64\n",
       "DAYS_ENDDATE_FACT         float64\n",
       "AMT_CREDIT_MAX_OVERDUE    float64\n",
       "CNT_CREDIT_PROLONG          int64\n",
       "AMT_CREDIT_SUM            float64\n",
       "AMT_CREDIT_SUM_DEBT       float64\n",
       "AMT_CREDIT_SUM_LIMIT      float64\n",
       "AMT_CREDIT_SUM_OVERDUE    float64\n",
       "CREDIT_TYPE                object\n",
       "DAYS_CREDIT_UPDATE          int64\n",
       "AMT_ANNUITY               float64\n",
       "dtype: object"
      ]
     },
     "execution_count": 18,
     "metadata": {},
     "output_type": "execute_result"
    }
   ],
   "source": [
    "bureau.dtypes"
   ]
  },
  {
   "cell_type": "code",
   "execution_count": 19,
   "id": "bibliographic-serve",
   "metadata": {},
   "outputs": [
    {
     "data": {
      "text/plain": [
       "SK_ID_CURR                False\n",
       "SK_ID_BUREAU              False\n",
       "CREDIT_ACTIVE             False\n",
       "CREDIT_CURRENCY           False\n",
       "DAYS_CREDIT               False\n",
       "CREDIT_DAY_OVERDUE        False\n",
       "DAYS_CREDIT_ENDDATE        True\n",
       "DAYS_ENDDATE_FACT          True\n",
       "AMT_CREDIT_MAX_OVERDUE     True\n",
       "CNT_CREDIT_PROLONG        False\n",
       "AMT_CREDIT_SUM             True\n",
       "AMT_CREDIT_SUM_DEBT        True\n",
       "AMT_CREDIT_SUM_LIMIT       True\n",
       "AMT_CREDIT_SUM_OVERDUE    False\n",
       "CREDIT_TYPE               False\n",
       "DAYS_CREDIT_UPDATE        False\n",
       "AMT_ANNUITY                True\n",
       "dtype: bool"
      ]
     },
     "execution_count": 19,
     "metadata": {},
     "output_type": "execute_result"
    }
   ],
   "source": [
    "bureau.isnull().any()"
   ]
  },
  {
   "cell_type": "code",
   "execution_count": 20,
   "id": "celtic-yemen",
   "metadata": {},
   "outputs": [
    {
     "data": {
      "text/plain": [
       "0          -153.0\n",
       "1          1075.0\n",
       "2           528.0\n",
       "3             0.0\n",
       "4          1197.0\n",
       "            ...  \n",
       "1716423     -30.0\n",
       "1716424   -2433.0\n",
       "1716425   -1628.0\n",
       "1716426   -1513.0\n",
       "1716427       0.0\n",
       "Name: DAYS_CREDIT_ENDDATE, Length: 1716428, dtype: float64"
      ]
     },
     "execution_count": 20,
     "metadata": {},
     "output_type": "execute_result"
    }
   ],
   "source": [
    "bureau.DAYS_CREDIT_ENDDATE.fillna(0)"
   ]
  },
  {
   "cell_type": "code",
   "execution_count": 21,
   "id": "affected-dress",
   "metadata": {},
   "outputs": [],
   "source": [
    "# hist is pandas only\n",
    "if not RAPIDS:\n",
    "    bureau.AMT_ANNUITY.hist(bins=50)"
   ]
  },
  {
   "cell_type": "markdown",
   "id": "international-newsletter",
   "metadata": {},
   "source": [
    "The nulls are all in int and float columns. depending on the column there can be different explanations for the nulls. We just naively set these to zero for now "
   ]
  },
  {
   "cell_type": "code",
   "execution_count": 22,
   "id": "empty-western",
   "metadata": {},
   "outputs": [
    {
     "data": {
      "text/plain": [
       "0                             Another type of loan\n",
       "1                                         Car loan\n",
       "2                        Cash loan (non-earmarked)\n",
       "3                                  Consumer credit\n",
       "4                                      Credit card\n",
       "5                                 Interbank credit\n",
       "6                    Loan for business development\n",
       "7     Loan for purchase of shares (margin lending)\n",
       "8               Loan for the purchase of equipment\n",
       "9           Loan for working capital replenishment\n",
       "10                                       Microloan\n",
       "11                            Mobile operator loan\n",
       "12                                        Mortgage\n",
       "13                                Real estate loan\n",
       "14                            Unknown type of loan\n",
       "Name: CREDIT_TYPE, dtype: object"
      ]
     },
     "execution_count": 22,
     "metadata": {},
     "output_type": "execute_result"
    }
   ],
   "source": [
    "bureau.CREDIT_TYPE.unique()"
   ]
  },
  {
   "cell_type": "code",
   "execution_count": 23,
   "id": "authorized-sympathy",
   "metadata": {},
   "outputs": [
    {
     "data": {
      "text/plain": [
       "0           -153.0\n",
       "1           1075.0\n",
       "2            528.0\n",
       "3             <NA>\n",
       "4           1197.0\n",
       "            ...   \n",
       "1716423      -30.0\n",
       "1716424    -2433.0\n",
       "1716425    -1628.0\n",
       "1716426    -1513.0\n",
       "1716427       <NA>\n",
       "Name: DAYS_CREDIT_ENDDATE, Length: 1716428, dtype: float64"
      ]
     },
     "execution_count": 23,
     "metadata": {},
     "output_type": "execute_result"
    }
   ],
   "source": [
    "bureau.DAYS_CREDIT_ENDDATE"
   ]
  },
  {
   "cell_type": "markdown",
   "id": "varying-polyester",
   "metadata": {},
   "source": [
    "### Credit Card Balance"
   ]
  },
  {
   "cell_type": "code",
   "execution_count": 24,
   "id": "funny-screening",
   "metadata": {},
   "outputs": [],
   "source": [
    "pandas_dtypes = {'NAME_CONTRACT_STATUS': 'category'}\n",
    "\n",
    "if RAPIDS: \n",
    "    cc_dtypes = [] # rapids doesn't accept partial dtypes\n",
    "else: \n",
    "    cc_dtypes = pandas_dtypes \n",
    "    \n",
    "    \n",
    "cc_balance = dd.read_csv('data/credit_card_balance.csv',\n",
    "                        dtype=cc_dtypes)"
   ]
  },
  {
   "cell_type": "code",
   "execution_count": 25,
   "id": "faced-evans",
   "metadata": {},
   "outputs": [
    {
     "data": {
      "text/plain": [
       "(3840312, 23)"
      ]
     },
     "execution_count": 25,
     "metadata": {},
     "output_type": "execute_result"
    }
   ],
   "source": [
    "cc_balance.shape"
   ]
  },
  {
   "cell_type": "code",
   "execution_count": 26,
   "id": "voluntary-borough",
   "metadata": {},
   "outputs": [
    {
     "data": {
      "text/plain": [
       "Index(['SK_ID_PREV', 'SK_ID_CURR', 'MONTHS_BALANCE', 'AMT_BALANCE',\n",
       "       'AMT_CREDIT_LIMIT_ACTUAL', 'AMT_DRAWINGS_ATM_CURRENT',\n",
       "       'AMT_DRAWINGS_CURRENT', 'AMT_DRAWINGS_OTHER_CURRENT',\n",
       "       'AMT_DRAWINGS_POS_CURRENT', 'AMT_INST_MIN_REGULARITY',\n",
       "       'AMT_PAYMENT_CURRENT', 'AMT_PAYMENT_TOTAL_CURRENT',\n",
       "       'AMT_RECEIVABLE_PRINCIPAL', 'AMT_RECIVABLE', 'AMT_TOTAL_RECEIVABLE',\n",
       "       'CNT_DRAWINGS_ATM_CURRENT', 'CNT_DRAWINGS_CURRENT',\n",
       "       'CNT_DRAWINGS_OTHER_CURRENT', 'CNT_DRAWINGS_POS_CURRENT',\n",
       "       'CNT_INSTALMENT_MATURE_CUM', 'NAME_CONTRACT_STATUS', 'SK_DPD',\n",
       "       'SK_DPD_DEF'],\n",
       "      dtype='object')"
      ]
     },
     "execution_count": 26,
     "metadata": {},
     "output_type": "execute_result"
    }
   ],
   "source": [
    "cc_balance.columns"
   ]
  },
  {
   "cell_type": "code",
   "execution_count": 27,
   "id": "personalized-plumbing",
   "metadata": {},
   "outputs": [
    {
     "data": {
      "text/plain": [
       "SK_ID_PREV                      int64\n",
       "SK_ID_CURR                      int64\n",
       "MONTHS_BALANCE                  int64\n",
       "AMT_BALANCE                   float64\n",
       "AMT_CREDIT_LIMIT_ACTUAL         int64\n",
       "AMT_DRAWINGS_ATM_CURRENT      float64\n",
       "AMT_DRAWINGS_CURRENT          float64\n",
       "AMT_DRAWINGS_OTHER_CURRENT    float64\n",
       "AMT_DRAWINGS_POS_CURRENT      float64\n",
       "AMT_INST_MIN_REGULARITY       float64\n",
       "AMT_PAYMENT_CURRENT           float64\n",
       "AMT_PAYMENT_TOTAL_CURRENT     float64\n",
       "AMT_RECEIVABLE_PRINCIPAL      float64\n",
       "AMT_RECIVABLE                 float64\n",
       "AMT_TOTAL_RECEIVABLE          float64\n",
       "CNT_DRAWINGS_ATM_CURRENT      float64\n",
       "CNT_DRAWINGS_CURRENT            int64\n",
       "CNT_DRAWINGS_OTHER_CURRENT    float64\n",
       "CNT_DRAWINGS_POS_CURRENT      float64\n",
       "CNT_INSTALMENT_MATURE_CUM     float64\n",
       "NAME_CONTRACT_STATUS           object\n",
       "SK_DPD                          int64\n",
       "SK_DPD_DEF                      int64\n",
       "dtype: object"
      ]
     },
     "execution_count": 27,
     "metadata": {},
     "output_type": "execute_result"
    }
   ],
   "source": [
    "cc_balance.dtypes"
   ]
  },
  {
   "cell_type": "code",
   "execution_count": 28,
   "id": "encouraging-eagle",
   "metadata": {},
   "outputs": [
    {
     "data": {
      "text/plain": [
       "0           Active\n",
       "1         Approved\n",
       "2        Completed\n",
       "3           Demand\n",
       "4          Refused\n",
       "5    Sent proposal\n",
       "6           Signed\n",
       "Name: NAME_CONTRACT_STATUS, dtype: object"
      ]
     },
     "execution_count": 28,
     "metadata": {},
     "output_type": "execute_result"
    }
   ],
   "source": [
    "cc_balance.NAME_CONTRACT_STATUS.unique()"
   ]
  },
  {
   "cell_type": "markdown",
   "id": "alternative-preview",
   "metadata": {},
   "source": [
    "## Payments"
   ]
  },
  {
   "cell_type": "code",
   "execution_count": 29,
   "id": "engaging-divide",
   "metadata": {},
   "outputs": [],
   "source": [
    "payments = dd.read_csv('data/installments_payments.csv')"
   ]
  },
  {
   "cell_type": "code",
   "execution_count": 30,
   "id": "small-point",
   "metadata": {},
   "outputs": [
    {
     "data": {
      "text/plain": [
       "(13605401, 8)"
      ]
     },
     "execution_count": 30,
     "metadata": {},
     "output_type": "execute_result"
    }
   ],
   "source": [
    "payments.shape"
   ]
  },
  {
   "cell_type": "code",
   "execution_count": 31,
   "id": "whole-minute",
   "metadata": {},
   "outputs": [
    {
     "data": {
      "text/plain": [
       "Index(['SK_ID_PREV', 'SK_ID_CURR', 'NUM_INSTALMENT_VERSION',\n",
       "       'NUM_INSTALMENT_NUMBER', 'DAYS_INSTALMENT', 'DAYS_ENTRY_PAYMENT',\n",
       "       'AMT_INSTALMENT', 'AMT_PAYMENT'],\n",
       "      dtype='object')"
      ]
     },
     "execution_count": 31,
     "metadata": {},
     "output_type": "execute_result"
    }
   ],
   "source": [
    "payments.columns"
   ]
  },
  {
   "cell_type": "code",
   "execution_count": 32,
   "id": "rational-bunch",
   "metadata": {},
   "outputs": [
    {
     "data": {
      "text/plain": [
       "SK_ID_PREV                  int64\n",
       "SK_ID_CURR                  int64\n",
       "NUM_INSTALMENT_VERSION    float64\n",
       "NUM_INSTALMENT_NUMBER       int64\n",
       "DAYS_INSTALMENT           float64\n",
       "DAYS_ENTRY_PAYMENT        float64\n",
       "AMT_INSTALMENT            float64\n",
       "AMT_PAYMENT               float64\n",
       "dtype: object"
      ]
     },
     "execution_count": 32,
     "metadata": {},
     "output_type": "execute_result"
    }
   ],
   "source": [
    "payments.dtypes"
   ]
  },
  {
   "cell_type": "markdown",
   "id": "extra-defendant",
   "metadata": {},
   "source": [
    "### POS Cash Balance"
   ]
  },
  {
   "cell_type": "code",
   "execution_count": 33,
   "id": "auburn-isaac",
   "metadata": {},
   "outputs": [],
   "source": [
    "pc_balance = dd.read_csv('data/POS_CASH_balance.csv')"
   ]
  },
  {
   "cell_type": "code",
   "execution_count": 34,
   "id": "disabled-welcome",
   "metadata": {},
   "outputs": [
    {
     "data": {
      "text/plain": [
       "(10001358, 8)"
      ]
     },
     "execution_count": 34,
     "metadata": {},
     "output_type": "execute_result"
    }
   ],
   "source": [
    "pc_balance.shape"
   ]
  },
  {
   "cell_type": "code",
   "execution_count": 35,
   "id": "satellite-edition",
   "metadata": {},
   "outputs": [
    {
     "data": {
      "text/plain": [
       "Index(['SK_ID_PREV', 'SK_ID_CURR', 'MONTHS_BALANCE', 'CNT_INSTALMENT',\n",
       "       'CNT_INSTALMENT_FUTURE', 'NAME_CONTRACT_STATUS', 'SK_DPD',\n",
       "       'SK_DPD_DEF'],\n",
       "      dtype='object')"
      ]
     },
     "execution_count": 35,
     "metadata": {},
     "output_type": "execute_result"
    }
   ],
   "source": [
    "pc_balance.columns"
   ]
  },
  {
   "cell_type": "code",
   "execution_count": 36,
   "id": "adult-medium",
   "metadata": {},
   "outputs": [
    {
     "data": {
      "text/plain": [
       "SK_ID_PREV                 int64\n",
       "SK_ID_CURR                 int64\n",
       "MONTHS_BALANCE             int64\n",
       "CNT_INSTALMENT           float64\n",
       "CNT_INSTALMENT_FUTURE    float64\n",
       "NAME_CONTRACT_STATUS      object\n",
       "SK_DPD                     int64\n",
       "SK_DPD_DEF                 int64\n",
       "dtype: object"
      ]
     },
     "execution_count": 36,
     "metadata": {},
     "output_type": "execute_result"
    }
   ],
   "source": [
    "pc_balance.dtypes"
   ]
  },
  {
   "cell_type": "code",
   "execution_count": 37,
   "id": "designed-virtue",
   "metadata": {},
   "outputs": [
    {
     "data": {
      "text/plain": [
       "0                   Active\n",
       "1           Amortized debt\n",
       "2                 Approved\n",
       "3                 Canceled\n",
       "4                Completed\n",
       "5                   Demand\n",
       "6    Returned to the store\n",
       "7                   Signed\n",
       "8                      XNA\n",
       "Name: NAME_CONTRACT_STATUS, dtype: object"
      ]
     },
     "execution_count": 37,
     "metadata": {},
     "output_type": "execute_result"
    }
   ],
   "source": [
    "pc_balance.NAME_CONTRACT_STATUS.unique()"
   ]
  },
  {
   "cell_type": "markdown",
   "id": "coated-banking",
   "metadata": {},
   "source": [
    "### Some Checks and Hypothesises"
   ]
  },
  {
   "cell_type": "markdown",
   "id": "brave-bailey",
   "metadata": {},
   "source": [
    "Lets check if POS CASH / Instalments and Credit Card Balance are independent different types of prev balance. We need to run this rapids check because numpy can't accept the cudf series as input. There exists a cupy which is a gpu replacement for numpy cupy doesn't implement `intersect1d` yet"
   ]
  },
  {
   "cell_type": "code",
   "execution_count": 40,
   "id": "higher-studio",
   "metadata": {},
   "outputs": [],
   "source": [
    "if RAPIDS:\n",
    "    cc_bal_id = cc_balance.SK_ID_PREV.to_pandas()\n",
    "    payments_id = payments.SK_ID_PREV.to_pandas()\n",
    "    pc_bal_id = pc_balance.SK_ID_PREV.to_pandas()\n",
    "else:\n",
    "    cc_bal_id = cc_balance.SK_ID_PREV\n",
    "    payments_id = payments.SK_ID_PREV\n",
    "    pc_bal_id = pc_balance.SK_ID_PREV"
   ]
  },
  {
   "cell_type": "code",
   "execution_count": 41,
   "id": "departmental-bathroom",
   "metadata": {},
   "outputs": [
    {
     "data": {
      "text/plain": [
       "924949"
      ]
     },
     "execution_count": 41,
     "metadata": {},
     "output_type": "execute_result"
    }
   ],
   "source": [
    "len(np.intersect1d(pc_bal_id, payments_id))"
   ]
  },
  {
   "cell_type": "code",
   "execution_count": 42,
   "id": "warming-world",
   "metadata": {},
   "outputs": [
    {
     "data": {
      "text/plain": [
       "72466"
      ]
     },
     "execution_count": 42,
     "metadata": {},
     "output_type": "execute_result"
    }
   ],
   "source": [
    "len(np.intersect1d(cc_bal_id, payments_id))"
   ]
  },
  {
   "cell_type": "code",
   "execution_count": 43,
   "id": "loaded-shareware",
   "metadata": {},
   "outputs": [
    {
     "data": {
      "text/plain": [
       "0"
      ]
     },
     "execution_count": 43,
     "metadata": {},
     "output_type": "execute_result"
    }
   ],
   "source": [
    "len(np.intersect1d(cc_bal_id, pc_bal_id))"
   ]
  },
  {
   "cell_type": "markdown",
   "id": "classified-machinery",
   "metadata": {},
   "source": [
    "okay so the IDs do overlap..."
   ]
  },
  {
   "cell_type": "markdown",
   "id": "conservative-alcohol",
   "metadata": {},
   "source": [
    "### Previous Loan Applications\n",
    "\n",
    "previous loans can be very indicative of what the customer will do with current loans"
   ]
  },
  {
   "cell_type": "code",
   "execution_count": 44,
   "id": "continuous-grass",
   "metadata": {},
   "outputs": [],
   "source": [
    "pandas_dtypes = {'NAME_CONTRACT_TYPE': 'category', 'WEEKDAY_APPR_PROCESS_START': 'category',\n",
    "                 'FLAG_LAST_APPL_PER_CONTRACT': 'category', \n",
    "                 'NAME_CONTRACT_STATUS': 'category',\n",
    "                 'NAME_SELLER_INDUSTRY': 'category', 'NAME_YIELD_GROUP': 'category'}\n",
    "\n",
    "if RAPIDS: \n",
    "    prev_dtypes = [] # rapids doesn't accept partial dtypes\n",
    "else: \n",
    "    prev_dtypes = pandas_dtypes \n",
    "    \n",
    "    \n",
    "prev = dd.read_csv('data/previous_application.csv',\n",
    "                  dtype=prev_dtypes)"
   ]
  },
  {
   "cell_type": "code",
   "execution_count": 45,
   "id": "australian-consultancy",
   "metadata": {},
   "outputs": [
    {
     "data": {
      "text/plain": [
       "Index(['SK_ID_PREV', 'SK_ID_CURR', 'NAME_CONTRACT_TYPE', 'AMT_ANNUITY',\n",
       "       'AMT_APPLICATION', 'AMT_CREDIT', 'AMT_DOWN_PAYMENT', 'AMT_GOODS_PRICE',\n",
       "       'WEEKDAY_APPR_PROCESS_START', 'HOUR_APPR_PROCESS_START',\n",
       "       'FLAG_LAST_APPL_PER_CONTRACT', 'NFLAG_LAST_APPL_IN_DAY',\n",
       "       'RATE_DOWN_PAYMENT', 'RATE_INTEREST_PRIMARY',\n",
       "       'RATE_INTEREST_PRIVILEGED', 'NAME_CASH_LOAN_PURPOSE',\n",
       "       'NAME_CONTRACT_STATUS', 'DAYS_DECISION', 'NAME_PAYMENT_TYPE',\n",
       "       'CODE_REJECT_REASON', 'NAME_TYPE_SUITE', 'NAME_CLIENT_TYPE',\n",
       "       'NAME_GOODS_CATEGORY', 'NAME_PORTFOLIO', 'NAME_PRODUCT_TYPE',\n",
       "       'CHANNEL_TYPE', 'SELLERPLACE_AREA', 'NAME_SELLER_INDUSTRY',\n",
       "       'CNT_PAYMENT', 'NAME_YIELD_GROUP', 'PRODUCT_COMBINATION',\n",
       "       'DAYS_FIRST_DRAWING', 'DAYS_FIRST_DUE', 'DAYS_LAST_DUE_1ST_VERSION',\n",
       "       'DAYS_LAST_DUE', 'DAYS_TERMINATION', 'NFLAG_INSURED_ON_APPROVAL'],\n",
       "      dtype='object')"
      ]
     },
     "execution_count": 45,
     "metadata": {},
     "output_type": "execute_result"
    }
   ],
   "source": [
    "prev.columns"
   ]
  },
  {
   "cell_type": "code",
   "execution_count": 46,
   "id": "aerial-medium",
   "metadata": {},
   "outputs": [
    {
     "data": {
      "text/plain": [
       "SK_ID_PREV                       int64\n",
       "SK_ID_CURR                       int64\n",
       "NAME_CONTRACT_TYPE              object\n",
       "AMT_ANNUITY                    float64\n",
       "AMT_APPLICATION                float64\n",
       "AMT_CREDIT                     float64\n",
       "AMT_DOWN_PAYMENT               float64\n",
       "AMT_GOODS_PRICE                float64\n",
       "WEEKDAY_APPR_PROCESS_START      object\n",
       "HOUR_APPR_PROCESS_START          int64\n",
       "FLAG_LAST_APPL_PER_CONTRACT     object\n",
       "NFLAG_LAST_APPL_IN_DAY           int64\n",
       "RATE_DOWN_PAYMENT              float64\n",
       "RATE_INTEREST_PRIMARY          float64\n",
       "RATE_INTEREST_PRIVILEGED       float64\n",
       "NAME_CASH_LOAN_PURPOSE          object\n",
       "NAME_CONTRACT_STATUS            object\n",
       "DAYS_DECISION                    int64\n",
       "NAME_PAYMENT_TYPE               object\n",
       "CODE_REJECT_REASON              object\n",
       "NAME_TYPE_SUITE                 object\n",
       "NAME_CLIENT_TYPE                object\n",
       "NAME_GOODS_CATEGORY             object\n",
       "NAME_PORTFOLIO                  object\n",
       "NAME_PRODUCT_TYPE               object\n",
       "CHANNEL_TYPE                    object\n",
       "SELLERPLACE_AREA                 int64\n",
       "NAME_SELLER_INDUSTRY            object\n",
       "CNT_PAYMENT                    float64\n",
       "NAME_YIELD_GROUP                object\n",
       "PRODUCT_COMBINATION             object\n",
       "DAYS_FIRST_DRAWING             float64\n",
       "DAYS_FIRST_DUE                 float64\n",
       "DAYS_LAST_DUE_1ST_VERSION      float64\n",
       "DAYS_LAST_DUE                  float64\n",
       "DAYS_TERMINATION               float64\n",
       "NFLAG_INSURED_ON_APPROVAL      float64\n",
       "dtype: object"
      ]
     },
     "execution_count": 46,
     "metadata": {},
     "output_type": "execute_result"
    }
   ],
   "source": [
    "prev.dtypes"
   ]
  },
  {
   "cell_type": "code",
   "execution_count": 47,
   "id": "herbal-subject",
   "metadata": {},
   "outputs": [
    {
     "data": {
      "text/plain": [
       "0                               <NA>\n",
       "1                        Card Street\n",
       "2                        Card X-Sell\n",
       "3                               Cash\n",
       "4                  Cash Street: high\n",
       "5                   Cash Street: low\n",
       "6                Cash Street: middle\n",
       "7                  Cash X-Sell: high\n",
       "8                   Cash X-Sell: low\n",
       "9                Cash X-Sell: middle\n",
       "10       POS household with interest\n",
       "11    POS household without interest\n",
       "12        POS industry with interest\n",
       "13     POS industry without interest\n",
       "14          POS mobile with interest\n",
       "15       POS mobile without interest\n",
       "16           POS other with interest\n",
       "17       POS others without interest\n",
       "Name: PRODUCT_COMBINATION, dtype: object"
      ]
     },
     "execution_count": 47,
     "metadata": {},
     "output_type": "execute_result"
    }
   ],
   "source": [
    "prev.PRODUCT_COMBINATION.unique()"
   ]
  },
  {
   "cell_type": "code",
   "execution_count": 48,
   "id": "capital-martial",
   "metadata": {},
   "outputs": [
    {
     "data": {
      "text/plain": [
       "(1670214, 37)"
      ]
     },
     "execution_count": 48,
     "metadata": {},
     "output_type": "execute_result"
    }
   ],
   "source": [
    "prev.shape"
   ]
  },
  {
   "cell_type": "code",
   "execution_count": 49,
   "id": "unsigned-infection",
   "metadata": {},
   "outputs": [
    {
     "data": {
      "text/plain": [
       "1670214"
      ]
     },
     "execution_count": 49,
     "metadata": {},
     "output_type": "execute_result"
    }
   ],
   "source": [
    "len(prev.SK_ID_PREV.unique())"
   ]
  },
  {
   "cell_type": "markdown",
   "id": "official-liquid",
   "metadata": {},
   "source": [
    "SK_ID_PREV is the primary key.\n",
    "\n",
    "Lets explore the previous loan history of applicants"
   ]
  },
  {
   "cell_type": "code",
   "execution_count": 52,
   "id": "rural-future",
   "metadata": {},
   "outputs": [
    {
     "data": {
      "text/plain": [
       "0    CLIENT\n",
       "1        HC\n",
       "2     LIMIT\n",
       "3       SCO\n",
       "4     SCOFR\n",
       "5    SYSTEM\n",
       "6     VERIF\n",
       "7       XAP\n",
       "8       XNA\n",
       "Name: CODE_REJECT_REASON, dtype: object"
      ]
     },
     "execution_count": 52,
     "metadata": {},
     "output_type": "execute_result"
    }
   ],
   "source": [
    "# interesting features to consider:\n",
    "prev.CODE_REJECT_REASON.unique()"
   ]
  },
  {
   "cell_type": "code",
   "execution_count": 55,
   "id": "academic-volunteer",
   "metadata": {},
   "outputs": [
    {
     "data": {
      "text/html": [
       "<div>\n",
       "<style scoped>\n",
       "    .dataframe tbody tr th:only-of-type {\n",
       "        vertical-align: middle;\n",
       "    }\n",
       "\n",
       "    .dataframe tbody tr th {\n",
       "        vertical-align: top;\n",
       "    }\n",
       "\n",
       "    .dataframe thead th {\n",
       "        text-align: right;\n",
       "    }\n",
       "</style>\n",
       "<table border=\"1\" class=\"dataframe\">\n",
       "  <thead>\n",
       "    <tr style=\"text-align: right;\">\n",
       "      <th></th>\n",
       "      <th>SK_ID_CURR</th>\n",
       "      <th>SK_ID_PREV</th>\n",
       "      <th>NAME_CONTRACT_STATUS</th>\n",
       "      <th>CODE_REJECT_REASON</th>\n",
       "    </tr>\n",
       "  </thead>\n",
       "  <tbody>\n",
       "    <tr>\n",
       "      <th>201668</th>\n",
       "      <td>100001</td>\n",
       "      <td>1369693</td>\n",
       "      <td>Approved</td>\n",
       "      <td>XAP</td>\n",
       "    </tr>\n",
       "    <tr>\n",
       "      <th>892077</th>\n",
       "      <td>100002</td>\n",
       "      <td>1038818</td>\n",
       "      <td>Approved</td>\n",
       "      <td>XAP</td>\n",
       "    </tr>\n",
       "    <tr>\n",
       "      <th>575941</th>\n",
       "      <td>100003</td>\n",
       "      <td>1810518</td>\n",
       "      <td>Approved</td>\n",
       "      <td>XAP</td>\n",
       "    </tr>\n",
       "    <tr>\n",
       "      <th>1021650</th>\n",
       "      <td>100003</td>\n",
       "      <td>2636178</td>\n",
       "      <td>Approved</td>\n",
       "      <td>XAP</td>\n",
       "    </tr>\n",
       "    <tr>\n",
       "      <th>1223745</th>\n",
       "      <td>100003</td>\n",
       "      <td>2396755</td>\n",
       "      <td>Approved</td>\n",
       "      <td>XAP</td>\n",
       "    </tr>\n",
       "    <tr>\n",
       "      <th>935548</th>\n",
       "      <td>100004</td>\n",
       "      <td>1564014</td>\n",
       "      <td>Approved</td>\n",
       "      <td>XAP</td>\n",
       "    </tr>\n",
       "    <tr>\n",
       "      <th>1259112</th>\n",
       "      <td>100005</td>\n",
       "      <td>1857999</td>\n",
       "      <td>Canceled</td>\n",
       "      <td>XAP</td>\n",
       "    </tr>\n",
       "    <tr>\n",
       "      <th>1378978</th>\n",
       "      <td>100005</td>\n",
       "      <td>2495675</td>\n",
       "      <td>Approved</td>\n",
       "      <td>XAP</td>\n",
       "    </tr>\n",
       "    <tr>\n",
       "      <th>98162</th>\n",
       "      <td>100006</td>\n",
       "      <td>2078043</td>\n",
       "      <td>Approved</td>\n",
       "      <td>XAP</td>\n",
       "    </tr>\n",
       "    <tr>\n",
       "      <th>617859</th>\n",
       "      <td>100006</td>\n",
       "      <td>2827850</td>\n",
       "      <td>Canceled</td>\n",
       "      <td>XAP</td>\n",
       "    </tr>\n",
       "  </tbody>\n",
       "</table>\n",
       "</div>"
      ],
      "text/plain": [
       "         SK_ID_CURR  SK_ID_PREV NAME_CONTRACT_STATUS CODE_REJECT_REASON\n",
       "201668       100001     1369693             Approved                XAP\n",
       "892077       100002     1038818             Approved                XAP\n",
       "575941       100003     1810518             Approved                XAP\n",
       "1021650      100003     2636178             Approved                XAP\n",
       "1223745      100003     2396755             Approved                XAP\n",
       "935548       100004     1564014             Approved                XAP\n",
       "1259112      100005     1857999             Canceled                XAP\n",
       "1378978      100005     2495675             Approved                XAP\n",
       "98162        100006     2078043             Approved                XAP\n",
       "617859       100006     2827850             Canceled                XAP"
      ]
     },
     "execution_count": 55,
     "metadata": {},
     "output_type": "execute_result"
    }
   ],
   "source": [
    "prev[['SK_ID_CURR', 'SK_ID_PREV', 'NAME_CONTRACT_STATUS', 'CODE_REJECT_REASON']] \\\n",
    "    .sort_values('SK_ID_CURR').head(10)"
   ]
  },
  {
   "cell_type": "markdown",
   "id": "resistant-identifier",
   "metadata": {},
   "source": [
    "### Loan Applications that we are testing"
   ]
  },
  {
   "cell_type": "code",
   "execution_count": null,
   "id": "demanding-courage",
   "metadata": {},
   "outputs": [],
   "source": [
    "pandas_dtypes = {'NAME_CONTRACT_TYPE': 'category', 'CODE_GENDER': 'category',\n",
    "                          'NAME_TYPE_SUITE': 'category', 'NAME_INCOME_TYPE': 'category',\n",
    "                          'NAME_EDUCATION_TYPE': 'category', 'NAME_FAMILY_STATUS': 'category',\n",
    "                          'NAME_HOUSING_TYPE': 'category', 'FLAG_MOBIL': 'bool', \n",
    "                          'FLAG_EMP_PHONE': 'bool', 'FLAG_WORK_PHONE': 'bool',\n",
    "                          'FLAG_CONT_MOBILE': 'bool', 'FLAG_PHONE': 'bool', \n",
    "                  'FLAG_EMAIL': 'bool',\n",
    "                          'OCCUPATION_TYPE': 'category', 'CNT_FAM_MEMBERS': 'Int64', 'REGION_RATING_CLIENT': 'category',\n",
    "                          'REGION_RATING_CLIENT_W_CITY': 'category', 'WEEKDAY_APPR_PROCESS_START': 'category',\n",
    "                          'HOUR_APPR_PROCESS_START': 'category', 'REG_REGION_NOT_LIVE_REGION': 'bool',\n",
    "                          'REG_REGION_NOT_WORK_REGION': 'bool', 'LIVE_REGION_NOT_WORK_REGION': 'bool',\n",
    "                          'REG_CITY_NOT_LIVE_CITY': 'bool', 'REG_CITY_NOT_WORK_CITY': 'bool',\n",
    "                          'LIVE_CITY_NOT_WORK_CITY': 'bool', 'ORGANIZATION_TYPE': 'category',\n",
    "                          'OBS_30_CNT_SOCIAL_CIRCLE': 'Int64', 'DEF_30_CNT_SOCIAL_CIRCLE': 'Int64',\n",
    "                          'OBS_60_CNT_SOCIAL_CIRCLE': 'Int64', 'DEF_60_CNT_SOCIAL_CIRCLE': 'Int64',\n",
    "                          'DAYS_LAST_PHONE_CHANGE': 'Int64', 'FLAG_DOCUMENT_2': 'bool',\n",
    "                          'FLAG_DOCUMENT_3': 'bool', 'FLAG_DOCUMENT_4': 'bool', 'FLAG_DOCUMENT_5': 'bool',\n",
    "                          'FLAG_DOCUMENT_6': 'bool', 'FLAG_DOCUMENT_7': 'bool', 'FLAG_DOCUMENT_8': 'bool',\n",
    "                          'FLAG_DOCUMENT_9': 'bool', 'FLAG_DOCUMENT_10': 'bool', 'FLAG_DOCUMENT_11': 'bool',\n",
    "                          'FLAG_DOCUMENT_12': 'bool', 'FLAG_DOCUMENT_13': 'bool', 'FLAG_DOCUMENT_14': 'bool', \n",
    "                          'FLAG_DOCUMENT_15': 'bool', 'FLAG_DOCUMENT_16': 'bool', 'FLAG_DOCUMENT_17': 'bool',\n",
    "                          'FLAG_DOCUMENT_18': 'bool', 'FLAG_DOCUMENT_19': 'bool', 'FLAG_DOCUMENT_20': 'bool',\n",
    "                          'FLAG_DOCUMENT_21': 'bool', 'AMT_REQ_CREDIT_BUREAU_HOUR': 'Int64',\n",
    "                          'AMT_REQ_CREDIT_BUREAU_DAY': 'Int64', 'AMT_REQ_CREDIT_BUREAU_WEEK': 'Int64',\n",
    "                          'AMT_REQ_CREDIT_BUREAU_MON': 'Int64', 'AMT_REQ_CREDIT_BUREAU_QRT': 'Int64',\n",
    "                          'AMT_REQ_CREDIT_BUREAU_YEAR': 'Int64'}\n",
    "\n",
    "if RAPIDS: \n",
    "    traintest_dtypes = [] # rapids doesn't accept partial dtypes\n",
    "else: \n",
    "    traintest_dtypes = pandas_dtypes \n",
    "\n",
    "train = dd.read_csv('data/application_train.csv',\n",
    "                    index_col='SK_ID_CURR',\n",
    "                    dtype=traintest_dtypes)\n",
    "test = dd.read_csv('data/application_test.csv',\n",
    "                    index_col='SK_ID_CURR',\n",
    "                    dtype=traintest_dtypes)"
   ]
  },
  {
   "cell_type": "code",
   "execution_count": null,
   "id": "exotic-delay",
   "metadata": {},
   "outputs": [],
   "source": [
    "### Bool Conversions\n",
    "train.FLAG_OWN_CAR = train.FLAG_OWN_CAR.eq('Y').mul(1).astype('bool')\n",
    "train.FLAG_OWN_REALTY = train.FLAG_OWN_REALTY.eq('Y').mul(1).astype('bool')\n",
    "test.FLAG_OWN_CAR = test.FLAG_OWN_CAR.eq('Y').mul(1).astype('bool')\n",
    "test.FLAG_OWN_REALTY = test.FLAG_OWN_REALTY.eq('Y').mul(1).astype('bool')"
   ]
  },
  {
   "cell_type": "code",
   "execution_count": null,
   "id": "animal-florida",
   "metadata": {},
   "outputs": [],
   "source": [
    "train.shape"
   ]
  },
  {
   "cell_type": "code",
   "execution_count": null,
   "id": "timely-initial",
   "metadata": {},
   "outputs": [],
   "source": [
    "list(train.columns)"
   ]
  },
  {
   "cell_type": "code",
   "execution_count": null,
   "id": "higher-warehouse",
   "metadata": {},
   "outputs": [],
   "source": [
    "train.dtypes"
   ]
  },
  {
   "cell_type": "code",
   "execution_count": null,
   "id": "front-spirit",
   "metadata": {},
   "outputs": [],
   "source": [
    "train[['TARGET', 'SK_ID_CURR']].groupby('TARGET').count()"
   ]
  },
  {
   "cell_type": "code",
   "execution_count": null,
   "id": "municipal-trout",
   "metadata": {},
   "outputs": [],
   "source": [
    "train.FLAG_DOCUMENT_2.unique()"
   ]
  },
  {
   "cell_type": "code",
   "execution_count": null,
   "id": "every-patrol",
   "metadata": {},
   "outputs": [],
   "source": [
    "train.DAYS_LAST_PHONE_CHANGE.isnull().unique()"
   ]
  }
 ],
 "metadata": {
  "kernelspec": {
   "display_name": "Python [conda env:rapids]",
   "language": "python",
   "name": "conda-env-rapids-py"
  },
  "language_info": {
   "codemirror_mode": {
    "name": "ipython",
    "version": 3
   },
   "file_extension": ".py",
   "mimetype": "text/x-python",
   "name": "python",
   "nbconvert_exporter": "python",
   "pygments_lexer": "ipython3",
   "version": "3.8.8"
  }
 },
 "nbformat": 4,
 "nbformat_minor": 5
}
