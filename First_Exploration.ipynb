{
 "cells": [
  {
   "cell_type": "markdown",
   "id": "swedish-madagascar",
   "metadata": {},
   "source": [
    "# Exploring the Dataset"
   ]
  },
  {
   "cell_type": "code",
   "execution_count": 26,
   "id": "stable-combining",
   "metadata": {},
   "outputs": [],
   "source": [
    "import cudf as dd\n",
    "import numpy as np\n",
    "import matplotlib.pyplot as plt\n",
    "RAPIDS=True\n",
    "%matplotlib inline"
   ]
  },
  {
   "cell_type": "code",
   "execution_count": 2,
   "id": "spanish-jaguar",
   "metadata": {},
   "outputs": [],
   "source": [
    "#dd.set_option('display.max_rows', 122)"
   ]
  },
  {
   "cell_type": "markdown",
   "id": "found-samoa",
   "metadata": {},
   "source": [
    "### Bureau Balance\n",
    "\n",
    "Shows history of account for a particular SK_ID_BUREAU.\n",
    "The Months Balance is time relative to application date the loan\n",
    "\n",
    "The Status shows details on the Loan with C = Closed, X = unknown status, \n",
    "0 means nothing past due / 1 means something between 0-30 days past due / 2 means something between 31-60 days past due and 5 means something 120 days past due or written off\n"
   ]
  },
  {
   "cell_type": "code",
   "execution_count": 3,
   "id": "competitive-pocket",
   "metadata": {},
   "outputs": [],
   "source": [
    "pandas_dtypes = {'MONTHS_BALANCE': np.int64, 'STATUS': 'category'}\n",
    "\n",
    "if RAPIDS: \n",
    "    bb_dtypes = [] # rapids doesn't accept partial dtypes\n",
    "else: \n",
    "    bb_dtypes = pandas_dtypes \n",
    "\n",
    "bureau_balance = dd.read_csv(filepath_or_buffer='data/bureau_balance.csv', \n",
    "                               #index_col = 'SK_ID_BUREAU',\n",
    "                                dtype=bb_dtypes)"
   ]
  },
  {
   "cell_type": "code",
   "execution_count": 4,
   "id": "painful-modern",
   "metadata": {},
   "outputs": [
    {
     "data": {
      "text/plain": [
       "SK_ID_BUREAU       int64\n",
       "MONTHS_BALANCE     int64\n",
       "STATUS            object\n",
       "dtype: object"
      ]
     },
     "execution_count": 4,
     "metadata": {},
     "output_type": "execute_result"
    }
   ],
   "source": [
    "# check the columns and the dtypes\n",
    "bureau_balance.dtypes"
   ]
  },
  {
   "cell_type": "code",
   "execution_count": 17,
   "id": "sexual-momentum",
   "metadata": {},
   "outputs": [
    {
     "data": {
      "text/plain": [
       "27299925"
      ]
     },
     "execution_count": 17,
     "metadata": {},
     "output_type": "execute_result"
    }
   ],
   "source": [
    "# see if the SK_ID_BUREAU is unique\n",
    "len(bureau_balance) == len(bureau_balance.SK_ID_BUREAU.unique())"
   ]
  },
  {
   "cell_type": "code",
   "execution_count": 33,
   "id": "dynamic-constant",
   "metadata": {},
   "outputs": [
    {
     "data": {
      "text/plain": [
       "(array([ 6189., 12930., 13813., 16700., 16725., 18618., 20896., 20470.,\n",
       "        19647., 18727., 18508., 18628., 17775., 16610., 15893., 15849.,\n",
       "        16343., 15935., 15558., 15063., 14464., 13610., 13439., 13429.,\n",
       "            0., 12795., 12195., 11580., 11708., 11460., 11322., 11196.,\n",
       "        10434., 10218.,  9715.,  9956.,  9764.,  9603.,  9280.,  8928.,\n",
       "         8824.,  8882.,  9035.,  8492.,  8271.,  7515.,  7249.,  7098.,\n",
       "         6992.,     0.,  6769.,  6266.,  6065.,  5994.,  6101.,  5999.,\n",
       "         5840.,  5833.,  5589.,  5415.,  4906.,  4611.,  4247.,  3941.,\n",
       "         3673.,  3504.,  3543.,  3467.,  3190.,  2994.,  2837.,  2610.,\n",
       "         2452.,  2368.,     0.,  2115.,  2077.,  2285.,  2274.,  2367.,\n",
       "         2604.,  2916.,  3439.,  3540.,  3648.,  3505.,  3371.,  3372.,\n",
       "         3008.,  3080.,  2876.,  2888.,  3042.,  2936.,  2671.,  2666.,\n",
       "         2573.,  2362.,  2741., 22494.]),\n",
       " array([ 1.  ,  1.96,  2.92,  3.88,  4.84,  5.8 ,  6.76,  7.72,  8.68,\n",
       "         9.64, 10.6 , 11.56, 12.52, 13.48, 14.44, 15.4 , 16.36, 17.32,\n",
       "        18.28, 19.24, 20.2 , 21.16, 22.12, 23.08, 24.04, 25.  , 25.96,\n",
       "        26.92, 27.88, 28.84, 29.8 , 30.76, 31.72, 32.68, 33.64, 34.6 ,\n",
       "        35.56, 36.52, 37.48, 38.44, 39.4 , 40.36, 41.32, 42.28, 43.24,\n",
       "        44.2 , 45.16, 46.12, 47.08, 48.04, 49.  , 49.96, 50.92, 51.88,\n",
       "        52.84, 53.8 , 54.76, 55.72, 56.68, 57.64, 58.6 , 59.56, 60.52,\n",
       "        61.48, 62.44, 63.4 , 64.36, 65.32, 66.28, 67.24, 68.2 , 69.16,\n",
       "        70.12, 71.08, 72.04, 73.  , 73.96, 74.92, 75.88, 76.84, 77.8 ,\n",
       "        78.76, 79.72, 80.68, 81.64, 82.6 , 83.56, 84.52, 85.48, 86.44,\n",
       "        87.4 , 88.36, 89.32, 90.28, 91.24, 92.2 , 93.16, 94.12, 95.08,\n",
       "        96.04, 97.  ]),\n",
       " <BarContainer object of 100 artists>)"
      ]
     },
     "execution_count": 33,
     "metadata": {},
     "output_type": "execute_result"
    },
    {
     "data": {
      "image/png": "[encoded data removed]",
      "text/plain": [
       "<Figure size 432x288 with 1 Axes>"
      ]
     },
     "metadata": {
      "needs_background": "light"
     },
     "output_type": "display_data"
    }
   ],
   "source": [
    "# see the average months history per bureau id\n",
    "history_count = bureau_balance[['SK_ID_BUREAU', 'MONTHS_BALANCE']].groupby('SK_ID_BUREAU').count()\n",
    "#history_count\n",
    "plt.hist(history_count.MONTHS_BALANCE.to_arrow(), bins=100)"
   ]
  },
  {
   "cell_type": "code",
   "execution_count": 20,
   "id": "comparative-headset",
   "metadata": {},
   "outputs": [
    {
     "data": {
      "text/plain": [
       "0    0\n",
       "1    1\n",
       "2    2\n",
       "3    3\n",
       "4    4\n",
       "5    5\n",
       "6    C\n",
       "7    X\n",
       "Name: STATUS, dtype: object"
      ]
     },
     "execution_count": 20,
     "metadata": {},
     "output_type": "execute_result"
    }
   ],
   "source": [
    "bureau_balance.STATUS.unique()\n",
    "#bureau_balance[['SK_ID_BUREAU', 'STATUS']].unique()"
   ]
  },
  {
   "cell_type": "code",
   "execution_count": 5,
   "id": "reserved-democrat",
   "metadata": {},
   "outputs": [
    {
     "data": {
      "text/html": [
       "<div>\n",
       "<style scoped>\n",
       "    .dataframe tbody tr th:only-of-type {\n",
       "        vertical-align: middle;\n",
       "    }\n",
       "\n",
       "    .dataframe tbody tr th {\n",
       "        vertical-align: top;\n",
       "    }\n",
       "\n",
       "    .dataframe thead th {\n",
       "        text-align: right;\n",
       "    }\n",
       "</style>\n",
       "<table border=\"1\" class=\"dataframe\">\n",
       "  <thead>\n",
       "    <tr style=\"text-align: right;\">\n",
       "      <th></th>\n",
       "      <th>SK_ID_BUREAU</th>\n",
       "      <th>MONTHS_BALANCE</th>\n",
       "      <th>STATUS</th>\n",
       "    </tr>\n",
       "  </thead>\n",
       "  <tbody>\n",
       "    <tr>\n",
       "      <th>0</th>\n",
       "      <td>5715448</td>\n",
       "      <td>0</td>\n",
       "      <td>C</td>\n",
       "    </tr>\n",
       "    <tr>\n",
       "      <th>1</th>\n",
       "      <td>5715448</td>\n",
       "      <td>-1</td>\n",
       "      <td>C</td>\n",
       "    </tr>\n",
       "    <tr>\n",
       "      <th>2</th>\n",
       "      <td>5715448</td>\n",
       "      <td>-2</td>\n",
       "      <td>C</td>\n",
       "    </tr>\n",
       "    <tr>\n",
       "      <th>3</th>\n",
       "      <td>5715448</td>\n",
       "      <td>-3</td>\n",
       "      <td>C</td>\n",
       "    </tr>\n",
       "    <tr>\n",
       "      <th>4</th>\n",
       "      <td>5715448</td>\n",
       "      <td>-4</td>\n",
       "      <td>C</td>\n",
       "    </tr>\n",
       "    <tr>\n",
       "      <th>5</th>\n",
       "      <td>5715448</td>\n",
       "      <td>-5</td>\n",
       "      <td>C</td>\n",
       "    </tr>\n",
       "    <tr>\n",
       "      <th>6</th>\n",
       "      <td>5715448</td>\n",
       "      <td>-6</td>\n",
       "      <td>C</td>\n",
       "    </tr>\n",
       "    <tr>\n",
       "      <th>7</th>\n",
       "      <td>5715448</td>\n",
       "      <td>-7</td>\n",
       "      <td>C</td>\n",
       "    </tr>\n",
       "    <tr>\n",
       "      <th>8</th>\n",
       "      <td>5715448</td>\n",
       "      <td>-8</td>\n",
       "      <td>C</td>\n",
       "    </tr>\n",
       "    <tr>\n",
       "      <th>9</th>\n",
       "      <td>5715448</td>\n",
       "      <td>-9</td>\n",
       "      <td>0</td>\n",
       "    </tr>\n",
       "    <tr>\n",
       "      <th>10</th>\n",
       "      <td>5715448</td>\n",
       "      <td>-10</td>\n",
       "      <td>0</td>\n",
       "    </tr>\n",
       "    <tr>\n",
       "      <th>11</th>\n",
       "      <td>5715448</td>\n",
       "      <td>-11</td>\n",
       "      <td>X</td>\n",
       "    </tr>\n",
       "    <tr>\n",
       "      <th>12</th>\n",
       "      <td>5715448</td>\n",
       "      <td>-12</td>\n",
       "      <td>X</td>\n",
       "    </tr>\n",
       "    <tr>\n",
       "      <th>13</th>\n",
       "      <td>5715448</td>\n",
       "      <td>-13</td>\n",
       "      <td>X</td>\n",
       "    </tr>\n",
       "    <tr>\n",
       "      <th>14</th>\n",
       "      <td>5715448</td>\n",
       "      <td>-14</td>\n",
       "      <td>0</td>\n",
       "    </tr>\n",
       "    <tr>\n",
       "      <th>15</th>\n",
       "      <td>5715448</td>\n",
       "      <td>-15</td>\n",
       "      <td>0</td>\n",
       "    </tr>\n",
       "    <tr>\n",
       "      <th>16</th>\n",
       "      <td>5715448</td>\n",
       "      <td>-16</td>\n",
       "      <td>0</td>\n",
       "    </tr>\n",
       "    <tr>\n",
       "      <th>17</th>\n",
       "      <td>5715448</td>\n",
       "      <td>-17</td>\n",
       "      <td>0</td>\n",
       "    </tr>\n",
       "    <tr>\n",
       "      <th>18</th>\n",
       "      <td>5715448</td>\n",
       "      <td>-18</td>\n",
       "      <td>0</td>\n",
       "    </tr>\n",
       "    <tr>\n",
       "      <th>19</th>\n",
       "      <td>5715448</td>\n",
       "      <td>-19</td>\n",
       "      <td>0</td>\n",
       "    </tr>\n",
       "    <tr>\n",
       "      <th>20</th>\n",
       "      <td>5715448</td>\n",
       "      <td>-20</td>\n",
       "      <td>X</td>\n",
       "    </tr>\n",
       "    <tr>\n",
       "      <th>21</th>\n",
       "      <td>5715448</td>\n",
       "      <td>-21</td>\n",
       "      <td>X</td>\n",
       "    </tr>\n",
       "    <tr>\n",
       "      <th>22</th>\n",
       "      <td>5715448</td>\n",
       "      <td>-22</td>\n",
       "      <td>X</td>\n",
       "    </tr>\n",
       "    <tr>\n",
       "      <th>23</th>\n",
       "      <td>5715448</td>\n",
       "      <td>-23</td>\n",
       "      <td>X</td>\n",
       "    </tr>\n",
       "    <tr>\n",
       "      <th>24</th>\n",
       "      <td>5715448</td>\n",
       "      <td>-24</td>\n",
       "      <td>X</td>\n",
       "    </tr>\n",
       "    <tr>\n",
       "      <th>25</th>\n",
       "      <td>5715448</td>\n",
       "      <td>-25</td>\n",
       "      <td>X</td>\n",
       "    </tr>\n",
       "    <tr>\n",
       "      <th>26</th>\n",
       "      <td>5715448</td>\n",
       "      <td>-26</td>\n",
       "      <td>X</td>\n",
       "    </tr>\n",
       "  </tbody>\n",
       "</table>\n",
       "</div>"
      ],
      "text/plain": [
       "    SK_ID_BUREAU  MONTHS_BALANCE STATUS\n",
       "0        5715448               0      C\n",
       "1        5715448              -1      C\n",
       "2        5715448              -2      C\n",
       "3        5715448              -3      C\n",
       "4        5715448              -4      C\n",
       "5        5715448              -5      C\n",
       "6        5715448              -6      C\n",
       "7        5715448              -7      C\n",
       "8        5715448              -8      C\n",
       "9        5715448              -9      0\n",
       "10       5715448             -10      0\n",
       "11       5715448             -11      X\n",
       "12       5715448             -12      X\n",
       "13       5715448             -13      X\n",
       "14       5715448             -14      0\n",
       "15       5715448             -15      0\n",
       "16       5715448             -16      0\n",
       "17       5715448             -17      0\n",
       "18       5715448             -18      0\n",
       "19       5715448             -19      0\n",
       "20       5715448             -20      X\n",
       "21       5715448             -21      X\n",
       "22       5715448             -22      X\n",
       "23       5715448             -23      X\n",
       "24       5715448             -24      X\n",
       "25       5715448             -25      X\n",
       "26       5715448             -26      X"
      ]
     },
     "execution_count": 5,
     "metadata": {},
     "output_type": "execute_result"
    }
   ],
   "source": [
    "# exploring what is in the records for one SK_ID_BUREAU number\n",
    "bureau_balance[bureau_balance['SK_ID_BUREAU']==5715448]"
   ]
  },
  {
   "cell_type": "code",
   "execution_count": 6,
   "id": "enormous-trinity",
   "metadata": {},
   "outputs": [
    {
     "data": {
      "text/plain": [
       "SK_ID_BUREAU      False\n",
       "MONTHS_BALANCE    False\n",
       "STATUS            False\n",
       "dtype: bool"
      ]
     },
     "execution_count": 6,
     "metadata": {},
     "output_type": "execute_result"
    }
   ],
   "source": [
    "# check for nulls in bureau_balance\n",
    "bureau_balance.isnull().any()"
   ]
  },
  {
   "cell_type": "code",
   "execution_count": 7,
   "id": "refined-infection",
   "metadata": {},
   "outputs": [],
   "source": [
    "bureau_balance.to_parquet('raw_data/bureau_balance.parquet')"
   ]
  },
  {
   "cell_type": "markdown",
   "id": "designed-first",
   "metadata": {},
   "source": [
    "### Bureau"
   ]
  },
  {
   "cell_type": "code",
   "execution_count": 8,
   "id": "exposed-coach",
   "metadata": {},
   "outputs": [],
   "source": [
    "pandas_dtypes = {'CREDIT_ACTIVE': 'category', 'CREDIT_CURRENCY': 'category'}\n",
    "\n",
    "if RAPIDS: \n",
    "    bureau_dtypes = [] # rapids doesn't accept partial dtypes\n",
    "else: \n",
    "    bureau_dtypes = pandas_dtypes \n",
    "\n",
    "bureau = dd.read_csv('data/bureau.csv',\n",
    "                    dtype=bureau_dtypes)"
   ]
  },
  {
   "cell_type": "code",
   "execution_count": 9,
   "id": "advisory-elements",
   "metadata": {},
   "outputs": [
    {
     "data": {
      "text/plain": [
       "(1716428, 17)"
      ]
     },
     "execution_count": 9,
     "metadata": {},
     "output_type": "execute_result"
    }
   ],
   "source": [
    "bureau.shape"
   ]
  },
  {
   "cell_type": "code",
   "execution_count": 10,
   "id": "understanding-volunteer",
   "metadata": {},
   "outputs": [
    {
     "data": {
      "text/plain": [
       "Index(['SK_ID_CURR', 'SK_ID_BUREAU', 'CREDIT_ACTIVE', 'CREDIT_CURRENCY',\n",
       "       'DAYS_CREDIT', 'CREDIT_DAY_OVERDUE', 'DAYS_CREDIT_ENDDATE',\n",
       "       'DAYS_ENDDATE_FACT', 'AMT_CREDIT_MAX_OVERDUE', 'CNT_CREDIT_PROLONG',\n",
       "       'AMT_CREDIT_SUM', 'AMT_CREDIT_SUM_DEBT', 'AMT_CREDIT_SUM_LIMIT',\n",
       "       'AMT_CREDIT_SUM_OVERDUE', 'CREDIT_TYPE', 'DAYS_CREDIT_UPDATE',\n",
       "       'AMT_ANNUITY'],\n",
       "      dtype='object')"
      ]
     },
     "execution_count": 10,
     "metadata": {},
     "output_type": "execute_result"
    }
   ],
   "source": [
    "bureau.columns"
   ]
  },
  {
   "cell_type": "code",
   "execution_count": 11,
   "id": "surprising-comparison",
   "metadata": {},
   "outputs": [],
   "source": [
    "# histogram binning is not yet supported\n",
    "if not RAPIDS:\n",
    "    bureau[['SK_ID_CURR', 'SK_ID_BUREAU']].groupby('SK_ID_CURR').count().hist(bins=70)"
   ]
  },
  {
   "cell_type": "markdown",
   "id": "stylish-associate",
   "metadata": {},
   "source": [
    "We can see that there are loans to customers who have multiple other historical or active loans"
   ]
  },
  {
   "cell_type": "code",
   "execution_count": 12,
   "id": "encouraging-emphasis",
   "metadata": {},
   "outputs": [
    {
     "data": {
      "text/plain": [
       "SK_ID_CURR                  int64\n",
       "SK_ID_BUREAU                int64\n",
       "CREDIT_ACTIVE              object\n",
       "CREDIT_CURRENCY            object\n",
       "DAYS_CREDIT                 int64\n",
       "CREDIT_DAY_OVERDUE          int64\n",
       "DAYS_CREDIT_ENDDATE       float64\n",
       "DAYS_ENDDATE_FACT         float64\n",
       "AMT_CREDIT_MAX_OVERDUE    float64\n",
       "CNT_CREDIT_PROLONG          int64\n",
       "AMT_CREDIT_SUM            float64\n",
       "AMT_CREDIT_SUM_DEBT       float64\n",
       "AMT_CREDIT_SUM_LIMIT      float64\n",
       "AMT_CREDIT_SUM_OVERDUE    float64\n",
       "CREDIT_TYPE                object\n",
       "DAYS_CREDIT_UPDATE          int64\n",
       "AMT_ANNUITY               float64\n",
       "dtype: object"
      ]
     },
     "execution_count": 12,
     "metadata": {},
     "output_type": "execute_result"
    }
   ],
   "source": [
    "bureau.dtypes"
   ]
  },
  {
   "cell_type": "code",
   "execution_count": 13,
   "id": "curious-hollow",
   "metadata": {},
   "outputs": [
    {
     "data": {
      "text/plain": [
       "SK_ID_CURR                False\n",
       "SK_ID_BUREAU              False\n",
       "CREDIT_ACTIVE             False\n",
       "CREDIT_CURRENCY           False\n",
       "DAYS_CREDIT               False\n",
       "CREDIT_DAY_OVERDUE        False\n",
       "DAYS_CREDIT_ENDDATE        True\n",
       "DAYS_ENDDATE_FACT          True\n",
       "AMT_CREDIT_MAX_OVERDUE     True\n",
       "CNT_CREDIT_PROLONG        False\n",
       "AMT_CREDIT_SUM             True\n",
       "AMT_CREDIT_SUM_DEBT        True\n",
       "AMT_CREDIT_SUM_LIMIT       True\n",
       "AMT_CREDIT_SUM_OVERDUE    False\n",
       "CREDIT_TYPE               False\n",
       "DAYS_CREDIT_UPDATE        False\n",
       "AMT_ANNUITY                True\n",
       "dtype: bool"
      ]
     },
     "execution_count": 13,
     "metadata": {},
     "output_type": "execute_result"
    }
   ],
   "source": [
    "bureau.isnull().any()"
   ]
  },
  {
   "cell_type": "code",
   "execution_count": 14,
   "id": "legislative-bedroom",
   "metadata": {},
   "outputs": [
    {
     "data": {
      "text/plain": [
       "0          -153.0\n",
       "1          1075.0\n",
       "2           528.0\n",
       "3             0.0\n",
       "4          1197.0\n",
       "            ...  \n",
       "1716423     -30.0\n",
       "1716424   -2433.0\n",
       "1716425   -1628.0\n",
       "1716426   -1513.0\n",
       "1716427       0.0\n",
       "Name: DAYS_CREDIT_ENDDATE, Length: 1716428, dtype: float64"
      ]
     },
     "execution_count": 14,
     "metadata": {},
     "output_type": "execute_result"
    }
   ],
   "source": [
    "bureau.DAYS_CREDIT_ENDDATE.fillna(0)"
   ]
  },
  {
   "cell_type": "code",
   "execution_count": 15,
   "id": "experimental-victor",
   "metadata": {},
   "outputs": [
    {
     "ename": "AttributeError",
     "evalue": "'Series' object has no attribute 'hist'",
     "output_type": "error",
     "traceback": [
      "\u001b[0;31m\u001b[0m",
      "\u001b[0;31mAttributeError\u001b[0mTraceback (most recent call last)",
      "\u001b[0;32m<ipython-input-15-aa618303d0e5>\u001b[0m in \u001b[0;36m<module>\u001b[0;34m\u001b[0m\n\u001b[0;32m----> 1\u001b[0;31m \u001b[0mbureau\u001b[0m\u001b[0;34m.\u001b[0m\u001b[0mAMT_ANNUITY\u001b[0m\u001b[0;34m.\u001b[0m\u001b[0mhist\u001b[0m\u001b[0;34m(\u001b[0m\u001b[0mbins\u001b[0m\u001b[0;34m=\u001b[0m\u001b[0;36m50\u001b[0m\u001b[0;34m)\u001b[0m\u001b[0;34m\u001b[0m\u001b[0;34m\u001b[0m\u001b[0m\n\u001b[0m",
      "\u001b[0;31mAttributeError\u001b[0m: 'Series' object has no attribute 'hist'"
     ]
    }
   ],
   "source": [
    "bureau.AMT_ANNUITY.hist(bins=50)"
   ]
  },
  {
   "cell_type": "markdown",
   "id": "decreased-scottish",
   "metadata": {},
   "source": [
    "The nulls are all in int and float columns. depending on the column there can be different explanations for the nulls. We just naively set these to zero for now "
   ]
  },
  {
   "cell_type": "code",
   "execution_count": null,
   "id": "welcome-melbourne",
   "metadata": {},
   "outputs": [],
   "source": [
    "bureau.CREDIT_TYPE.unique()"
   ]
  },
  {
   "cell_type": "code",
   "execution_count": null,
   "id": "intensive-belgium",
   "metadata": {},
   "outputs": [],
   "source": [
    "bureau.DAYS_CREDIT_ENDDATE"
   ]
  },
  {
   "cell_type": "markdown",
   "id": "configured-wings",
   "metadata": {},
   "source": [
    "### Credit Card Balance"
   ]
  },
  {
   "cell_type": "code",
   "execution_count": null,
   "id": "interesting-bahrain",
   "metadata": {},
   "outputs": [],
   "source": [
    "pandas_dtypes = {'NAME_CONTRACT_STATUS': 'category'}\n",
    "\n",
    "if RAPIDS: \n",
    "    cc_dtypes = [] # rapids doesn't accept partial dtypes\n",
    "else: \n",
    "    cc_dtypes = pandas_dtypes \n",
    "    \n",
    "    \n",
    "cc_balance = dd.read_csv('data/credit_card_balance.csv',\n",
    "                        dtype=cc_dtypes)"
   ]
  },
  {
   "cell_type": "code",
   "execution_count": null,
   "id": "future-monkey",
   "metadata": {},
   "outputs": [],
   "source": [
    "cc_balance.shape"
   ]
  },
  {
   "cell_type": "code",
   "execution_count": null,
   "id": "integrated-immune",
   "metadata": {},
   "outputs": [],
   "source": [
    "cc_balance.columns"
   ]
  },
  {
   "cell_type": "code",
   "execution_count": null,
   "id": "utility-broadway",
   "metadata": {},
   "outputs": [],
   "source": [
    "cc_balance.dtypes"
   ]
  },
  {
   "cell_type": "code",
   "execution_count": null,
   "id": "located-snake",
   "metadata": {},
   "outputs": [],
   "source": [
    "cc_balance.NAME_CONTRACT_STATUS.unique()"
   ]
  },
  {
   "cell_type": "markdown",
   "id": "divine-building",
   "metadata": {},
   "source": [
    "## Payments"
   ]
  },
  {
   "cell_type": "code",
   "execution_count": null,
   "id": "boxed-makeup",
   "metadata": {},
   "outputs": [],
   "source": [
    "payments = dd.read_csv('data/installments_payments.csv')"
   ]
  },
  {
   "cell_type": "code",
   "execution_count": null,
   "id": "cordless-executive",
   "metadata": {},
   "outputs": [],
   "source": [
    "payments.shape"
   ]
  },
  {
   "cell_type": "code",
   "execution_count": null,
   "id": "tropical-findings",
   "metadata": {},
   "outputs": [],
   "source": [
    "payments.columns"
   ]
  },
  {
   "cell_type": "code",
   "execution_count": null,
   "id": "arctic-national",
   "metadata": {},
   "outputs": [],
   "source": [
    "payments.dtypes"
   ]
  },
  {
   "cell_type": "markdown",
   "id": "amateur-prospect",
   "metadata": {},
   "source": [
    "### POS Cash Balance"
   ]
  },
  {
   "cell_type": "code",
   "execution_count": null,
   "id": "hazardous-partnership",
   "metadata": {},
   "outputs": [],
   "source": [
    "pc_balance = dd.read_csv('data/POS_CASH_balance.csv')"
   ]
  },
  {
   "cell_type": "code",
   "execution_count": null,
   "id": "familiar-wagon",
   "metadata": {},
   "outputs": [],
   "source": [
    "pc_balance.shape"
   ]
  },
  {
   "cell_type": "code",
   "execution_count": null,
   "id": "alpha-corpus",
   "metadata": {},
   "outputs": [],
   "source": [
    "pc_balance.columns"
   ]
  },
  {
   "cell_type": "code",
   "execution_count": null,
   "id": "injured-angle",
   "metadata": {},
   "outputs": [],
   "source": [
    "pc_balance.dtypes"
   ]
  },
  {
   "cell_type": "code",
   "execution_count": null,
   "id": "representative-bernard",
   "metadata": {},
   "outputs": [],
   "source": [
    "pc_balance.NAME_CONTRACT_STATUS.unique()"
   ]
  },
  {
   "cell_type": "markdown",
   "id": "perceived-fruit",
   "metadata": {},
   "source": [
    "### Some Checks and Hypothesises"
   ]
  },
  {
   "cell_type": "markdown",
   "id": "color-daughter",
   "metadata": {},
   "source": [
    "Lets check if POS CASH / Instalments and Credit Card Balance are independent different types of prev balance"
   ]
  },
  {
   "cell_type": "code",
   "execution_count": null,
   "id": "directed-transmission",
   "metadata": {},
   "outputs": [],
   "source": [
    "len(np.intersect1d(pc_balance.SK_ID_PREV, payments.SK_ID_PREV))"
   ]
  },
  {
   "cell_type": "code",
   "execution_count": null,
   "id": "basic-column",
   "metadata": {},
   "outputs": [],
   "source": [
    "len(np.intersect1d(cc_balance.SK_ID_PREV, payments.SK_ID_PREV))"
   ]
  },
  {
   "cell_type": "code",
   "execution_count": null,
   "id": "frequent-thesaurus",
   "metadata": {},
   "outputs": [],
   "source": [
    "len(np.intersect1d(cc_balance.SK_ID_PREV, pc_balance.SK_ID_PREV))"
   ]
  },
  {
   "cell_type": "markdown",
   "id": "threaded-playing",
   "metadata": {},
   "source": [
    "okay so they do overlap..."
   ]
  },
  {
   "cell_type": "markdown",
   "id": "headed-lottery",
   "metadata": {},
   "source": [
    "### Previous Loan Applications"
   ]
  },
  {
   "cell_type": "code",
   "execution_count": null,
   "id": "dedicated-voice",
   "metadata": {},
   "outputs": [],
   "source": [
    "pandas_dtypes = {'NAME_CONTRACT_TYPE': 'category', 'WEEKDAY_APPR_PROCESS_START': 'category',\n",
    "                 'FLAG_LAST_APPL_PER_CONTRACT': 'category', \n",
    "                 'NAME_CONTRACT_STATUS': 'category',\n",
    "                 'NAME_SELLER_INDUSTRY': 'category', 'NAME_YIELD_GROUP': 'category'}\n",
    "\n",
    "if RAPIDS: \n",
    "    prev_dtypes = [] # rapids doesn't accept partial dtypes\n",
    "else: \n",
    "    prev_dtypes = pandas_dtypes \n",
    "    \n",
    "    \n",
    "prev = dd.read_csv('data/previous_application.csv',\n",
    "                  dtype=prev_dtypes)"
   ]
  },
  {
   "cell_type": "code",
   "execution_count": null,
   "id": "accredited-catering",
   "metadata": {},
   "outputs": [],
   "source": [
    "prev.columns"
   ]
  },
  {
   "cell_type": "code",
   "execution_count": null,
   "id": "binding-girlfriend",
   "metadata": {},
   "outputs": [],
   "source": [
    "prev.dtypes"
   ]
  },
  {
   "cell_type": "code",
   "execution_count": null,
   "id": "annual-basket",
   "metadata": {},
   "outputs": [],
   "source": [
    "prev.PRODUCT_COMBINATION.unique()"
   ]
  },
  {
   "cell_type": "code",
   "execution_count": null,
   "id": "assumed-celebrity",
   "metadata": {},
   "outputs": [],
   "source": [
    "prev.shape"
   ]
  },
  {
   "cell_type": "code",
   "execution_count": null,
   "id": "brave-insider",
   "metadata": {},
   "outputs": [],
   "source": [
    "len(prev.SK_ID_PREV.unique())"
   ]
  },
  {
   "cell_type": "markdown",
   "id": "rocky-gathering",
   "metadata": {},
   "source": [
    "SK_ID_PREV is the primary key"
   ]
  },
  {
   "cell_type": "markdown",
   "id": "overall-ownership",
   "metadata": {},
   "source": [
    "### Loan Applications that we are testing"
   ]
  },
  {
   "cell_type": "code",
   "execution_count": null,
   "id": "varying-penny",
   "metadata": {},
   "outputs": [],
   "source": [
    "pandas_dtypes = {'NAME_CONTRACT_TYPE': 'category', 'CODE_GENDER': 'category',\n",
    "                          'NAME_TYPE_SUITE': 'category', 'NAME_INCOME_TYPE': 'category',\n",
    "                          'NAME_EDUCATION_TYPE': 'category', 'NAME_FAMILY_STATUS': 'category',\n",
    "                          'NAME_HOUSING_TYPE': 'category', 'FLAG_MOBIL': 'bool', \n",
    "                          'FLAG_EMP_PHONE': 'bool', 'FLAG_WORK_PHONE': 'bool',\n",
    "                          'FLAG_CONT_MOBILE': 'bool', 'FLAG_PHONE': 'bool', \n",
    "                  'FLAG_EMAIL': 'bool',\n",
    "                          'OCCUPATION_TYPE': 'category', 'CNT_FAM_MEMBERS': 'Int64', 'REGION_RATING_CLIENT': 'category',\n",
    "                          'REGION_RATING_CLIENT_W_CITY': 'category', 'WEEKDAY_APPR_PROCESS_START': 'category',\n",
    "                          'HOUR_APPR_PROCESS_START': 'category', 'REG_REGION_NOT_LIVE_REGION': 'bool',\n",
    "                          'REG_REGION_NOT_WORK_REGION': 'bool', 'LIVE_REGION_NOT_WORK_REGION': 'bool',\n",
    "                          'REG_CITY_NOT_LIVE_CITY': 'bool', 'REG_CITY_NOT_WORK_CITY': 'bool',\n",
    "                          'LIVE_CITY_NOT_WORK_CITY': 'bool', 'ORGANIZATION_TYPE': 'category',\n",
    "                          'OBS_30_CNT_SOCIAL_CIRCLE': 'Int64', 'DEF_30_CNT_SOCIAL_CIRCLE': 'Int64',\n",
    "                          'OBS_60_CNT_SOCIAL_CIRCLE': 'Int64', 'DEF_60_CNT_SOCIAL_CIRCLE': 'Int64',\n",
    "                          'DAYS_LAST_PHONE_CHANGE': 'Int64', 'FLAG_DOCUMENT_2': 'bool',\n",
    "                          'FLAG_DOCUMENT_3': 'bool', 'FLAG_DOCUMENT_4': 'bool', 'FLAG_DOCUMENT_5': 'bool',\n",
    "                          'FLAG_DOCUMENT_6': 'bool', 'FLAG_DOCUMENT_7': 'bool', 'FLAG_DOCUMENT_8': 'bool',\n",
    "                          'FLAG_DOCUMENT_9': 'bool', 'FLAG_DOCUMENT_10': 'bool', 'FLAG_DOCUMENT_11': 'bool',\n",
    "                          'FLAG_DOCUMENT_12': 'bool', 'FLAG_DOCUMENT_13': 'bool', 'FLAG_DOCUMENT_14': 'bool', \n",
    "                          'FLAG_DOCUMENT_15': 'bool', 'FLAG_DOCUMENT_16': 'bool', 'FLAG_DOCUMENT_17': 'bool',\n",
    "                          'FLAG_DOCUMENT_18': 'bool', 'FLAG_DOCUMENT_19': 'bool', 'FLAG_DOCUMENT_20': 'bool',\n",
    "                          'FLAG_DOCUMENT_21': 'bool', 'AMT_REQ_CREDIT_BUREAU_HOUR': 'Int64',\n",
    "                          'AMT_REQ_CREDIT_BUREAU_DAY': 'Int64', 'AMT_REQ_CREDIT_BUREAU_WEEK': 'Int64',\n",
    "                          'AMT_REQ_CREDIT_BUREAU_MON': 'Int64', 'AMT_REQ_CREDIT_BUREAU_QRT': 'Int64',\n",
    "                          'AMT_REQ_CREDIT_BUREAU_YEAR': 'Int64'}\n",
    "\n",
    "if RAPIDS: \n",
    "    traintest_dtypes = [] # rapids doesn't accept partial dtypes\n",
    "else: \n",
    "    traintest_dtypes = pandas_dtypes \n",
    "\n",
    "train = dd.read_csv('data/application_train.csv',\n",
    "                    index_col='SK_ID_CURR',\n",
    "                    dtype=traintest_dtypes)\n",
    "test = dd.read_csv('data/application_test.csv',\n",
    "                    index_col='SK_ID_CURR',\n",
    "                    dtype=traintest_dtypes)"
   ]
  },
  {
   "cell_type": "code",
   "execution_count": null,
   "id": "played-mumbai",
   "metadata": {},
   "outputs": [],
   "source": [
    "### Bool Conversions\n",
    "train.FLAG_OWN_CAR = train.FLAG_OWN_CAR.eq('Y').mul(1).astype('bool')\n",
    "train.FLAG_OWN_REALTY = train.FLAG_OWN_REALTY.eq('Y').mul(1).astype('bool')\n",
    "test.FLAG_OWN_CAR = test.FLAG_OWN_CAR.eq('Y').mul(1).astype('bool')\n",
    "test.FLAG_OWN_REALTY = test.FLAG_OWN_REALTY.eq('Y').mul(1).astype('bool')"
   ]
  },
  {
   "cell_type": "code",
   "execution_count": null,
   "id": "jewish-albert",
   "metadata": {},
   "outputs": [],
   "source": [
    "train.shape"
   ]
  },
  {
   "cell_type": "code",
   "execution_count": null,
   "id": "painted-visitor",
   "metadata": {},
   "outputs": [],
   "source": [
    "list(train.columns)"
   ]
  },
  {
   "cell_type": "code",
   "execution_count": null,
   "id": "alternative-savage",
   "metadata": {},
   "outputs": [],
   "source": [
    "train.dtypes"
   ]
  },
  {
   "cell_type": "code",
   "execution_count": null,
   "id": "unknown-verse",
   "metadata": {},
   "outputs": [],
   "source": [
    "train[['TARGET', 'SK_ID_CURR']].groupby('TARGET').count()"
   ]
  },
  {
   "cell_type": "code",
   "execution_count": null,
   "id": "biblical-voltage",
   "metadata": {},
   "outputs": [],
   "source": [
    "train.FLAG_DOCUMENT_2.unique()"
   ]
  },
  {
   "cell_type": "code",
   "execution_count": null,
   "id": "empirical-discipline",
   "metadata": {},
   "outputs": [],
   "source": [
    "train.DAYS_LAST_PHONE_CHANGE.isnull().unique()"
   ]
  }
 ],
 "metadata": {
  "kernelspec": {
   "display_name": "Python [conda env:rapids]",
   "language": "python",
   "name": "conda-env-rapids-py"
  },
  "language_info": {
   "codemirror_mode": {
    "name": "ipython",
    "version": 3
   },
   "file_extension": ".py",
   "mimetype": "text/x-python",
   "name": "python",
   "nbconvert_exporter": "python",
   "pygments_lexer": "ipython3",
   "version": "3.8.8"
  }
 },
 "nbformat": 4,
 "nbformat_minor": 5
}
