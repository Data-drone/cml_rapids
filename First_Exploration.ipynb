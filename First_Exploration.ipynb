{
 "cells": [
  {
   "cell_type": "markdown",
   "id": "short-puzzle",
   "metadata": {},
   "source": [
    "# Exploring the Dataset"
   ]
  },
  {
   "cell_type": "code",
   "execution_count": 1,
   "id": "native-columbus",
   "metadata": {},
   "outputs": [],
   "source": [
    "import pandas as dd\n",
    "import numpy as np\n",
    "import matplotlib\n",
    "%matplotlib inline"
   ]
  },
  {
   "cell_type": "code",
   "execution_count": 74,
   "id": "handled-boston",
   "metadata": {},
   "outputs": [],
   "source": [
    "dd.set_option('display.max_rows', 122)"
   ]
  },
  {
   "cell_type": "markdown",
   "id": "complimentary-exhibit",
   "metadata": {},
   "source": [
    "### Bureau Balance\n",
    "\n",
    "Shows history of how fast loans paid off"
   ]
  },
  {
   "cell_type": "code",
   "execution_count": 2,
   "id": "excellent-afternoon",
   "metadata": {},
   "outputs": [],
   "source": [
    "bureau_balance = dd.read_csv(filepath_or_buffer='data/bureau_balance.csv', \n",
    "                               #index_col = 'SK_ID_BUREAU',\n",
    "                                dtype={'MONTHS_BALANCE': np.int64, 'STATUS': 'category'})"
   ]
  },
  {
   "cell_type": "code",
   "execution_count": 3,
   "id": "indian-drink",
   "metadata": {},
   "outputs": [
    {
     "data": {
      "text/plain": [
       "SK_ID_BUREAU         int64\n",
       "MONTHS_BALANCE       int64\n",
       "STATUS            category\n",
       "dtype: object"
      ]
     },
     "execution_count": 3,
     "metadata": {},
     "output_type": "execute_result"
    }
   ],
   "source": [
    "bureau_balance.dtypes"
   ]
  },
  {
   "cell_type": "code",
   "execution_count": 4,
   "id": "british-connecticut",
   "metadata": {},
   "outputs": [
    {
     "data": {
      "text/html": [
       "<div>\n",
       "<style scoped>\n",
       "    .dataframe tbody tr th:only-of-type {\n",
       "        vertical-align: middle;\n",
       "    }\n",
       "\n",
       "    .dataframe tbody tr th {\n",
       "        vertical-align: top;\n",
       "    }\n",
       "\n",
       "    .dataframe thead th {\n",
       "        text-align: right;\n",
       "    }\n",
       "</style>\n",
       "<table border=\"1\" class=\"dataframe\">\n",
       "  <thead>\n",
       "    <tr style=\"text-align: right;\">\n",
       "      <th></th>\n",
       "      <th>SK_ID_BUREAU</th>\n",
       "      <th>MONTHS_BALANCE</th>\n",
       "      <th>STATUS</th>\n",
       "    </tr>\n",
       "  </thead>\n",
       "  <tbody>\n",
       "    <tr>\n",
       "      <th>0</th>\n",
       "      <td>5715448</td>\n",
       "      <td>0</td>\n",
       "      <td>C</td>\n",
       "    </tr>\n",
       "    <tr>\n",
       "      <th>1</th>\n",
       "      <td>5715448</td>\n",
       "      <td>-1</td>\n",
       "      <td>C</td>\n",
       "    </tr>\n",
       "    <tr>\n",
       "      <th>2</th>\n",
       "      <td>5715448</td>\n",
       "      <td>-2</td>\n",
       "      <td>C</td>\n",
       "    </tr>\n",
       "    <tr>\n",
       "      <th>3</th>\n",
       "      <td>5715448</td>\n",
       "      <td>-3</td>\n",
       "      <td>C</td>\n",
       "    </tr>\n",
       "    <tr>\n",
       "      <th>4</th>\n",
       "      <td>5715448</td>\n",
       "      <td>-4</td>\n",
       "      <td>C</td>\n",
       "    </tr>\n",
       "    <tr>\n",
       "      <th>5</th>\n",
       "      <td>5715448</td>\n",
       "      <td>-5</td>\n",
       "      <td>C</td>\n",
       "    </tr>\n",
       "    <tr>\n",
       "      <th>6</th>\n",
       "      <td>5715448</td>\n",
       "      <td>-6</td>\n",
       "      <td>C</td>\n",
       "    </tr>\n",
       "    <tr>\n",
       "      <th>7</th>\n",
       "      <td>5715448</td>\n",
       "      <td>-7</td>\n",
       "      <td>C</td>\n",
       "    </tr>\n",
       "    <tr>\n",
       "      <th>8</th>\n",
       "      <td>5715448</td>\n",
       "      <td>-8</td>\n",
       "      <td>C</td>\n",
       "    </tr>\n",
       "    <tr>\n",
       "      <th>9</th>\n",
       "      <td>5715448</td>\n",
       "      <td>-9</td>\n",
       "      <td>0</td>\n",
       "    </tr>\n",
       "    <tr>\n",
       "      <th>10</th>\n",
       "      <td>5715448</td>\n",
       "      <td>-10</td>\n",
       "      <td>0</td>\n",
       "    </tr>\n",
       "    <tr>\n",
       "      <th>11</th>\n",
       "      <td>5715448</td>\n",
       "      <td>-11</td>\n",
       "      <td>X</td>\n",
       "    </tr>\n",
       "    <tr>\n",
       "      <th>12</th>\n",
       "      <td>5715448</td>\n",
       "      <td>-12</td>\n",
       "      <td>X</td>\n",
       "    </tr>\n",
       "    <tr>\n",
       "      <th>13</th>\n",
       "      <td>5715448</td>\n",
       "      <td>-13</td>\n",
       "      <td>X</td>\n",
       "    </tr>\n",
       "    <tr>\n",
       "      <th>14</th>\n",
       "      <td>5715448</td>\n",
       "      <td>-14</td>\n",
       "      <td>0</td>\n",
       "    </tr>\n",
       "    <tr>\n",
       "      <th>15</th>\n",
       "      <td>5715448</td>\n",
       "      <td>-15</td>\n",
       "      <td>0</td>\n",
       "    </tr>\n",
       "    <tr>\n",
       "      <th>16</th>\n",
       "      <td>5715448</td>\n",
       "      <td>-16</td>\n",
       "      <td>0</td>\n",
       "    </tr>\n",
       "    <tr>\n",
       "      <th>17</th>\n",
       "      <td>5715448</td>\n",
       "      <td>-17</td>\n",
       "      <td>0</td>\n",
       "    </tr>\n",
       "    <tr>\n",
       "      <th>18</th>\n",
       "      <td>5715448</td>\n",
       "      <td>-18</td>\n",
       "      <td>0</td>\n",
       "    </tr>\n",
       "    <tr>\n",
       "      <th>19</th>\n",
       "      <td>5715448</td>\n",
       "      <td>-19</td>\n",
       "      <td>0</td>\n",
       "    </tr>\n",
       "    <tr>\n",
       "      <th>20</th>\n",
       "      <td>5715448</td>\n",
       "      <td>-20</td>\n",
       "      <td>X</td>\n",
       "    </tr>\n",
       "    <tr>\n",
       "      <th>21</th>\n",
       "      <td>5715448</td>\n",
       "      <td>-21</td>\n",
       "      <td>X</td>\n",
       "    </tr>\n",
       "    <tr>\n",
       "      <th>22</th>\n",
       "      <td>5715448</td>\n",
       "      <td>-22</td>\n",
       "      <td>X</td>\n",
       "    </tr>\n",
       "    <tr>\n",
       "      <th>23</th>\n",
       "      <td>5715448</td>\n",
       "      <td>-23</td>\n",
       "      <td>X</td>\n",
       "    </tr>\n",
       "    <tr>\n",
       "      <th>24</th>\n",
       "      <td>5715448</td>\n",
       "      <td>-24</td>\n",
       "      <td>X</td>\n",
       "    </tr>\n",
       "    <tr>\n",
       "      <th>25</th>\n",
       "      <td>5715448</td>\n",
       "      <td>-25</td>\n",
       "      <td>X</td>\n",
       "    </tr>\n",
       "    <tr>\n",
       "      <th>26</th>\n",
       "      <td>5715448</td>\n",
       "      <td>-26</td>\n",
       "      <td>X</td>\n",
       "    </tr>\n",
       "  </tbody>\n",
       "</table>\n",
       "</div>"
      ],
      "text/plain": [
       "    SK_ID_BUREAU  MONTHS_BALANCE STATUS\n",
       "0        5715448               0      C\n",
       "1        5715448              -1      C\n",
       "2        5715448              -2      C\n",
       "3        5715448              -3      C\n",
       "4        5715448              -4      C\n",
       "5        5715448              -5      C\n",
       "6        5715448              -6      C\n",
       "7        5715448              -7      C\n",
       "8        5715448              -8      C\n",
       "9        5715448              -9      0\n",
       "10       5715448             -10      0\n",
       "11       5715448             -11      X\n",
       "12       5715448             -12      X\n",
       "13       5715448             -13      X\n",
       "14       5715448             -14      0\n",
       "15       5715448             -15      0\n",
       "16       5715448             -16      0\n",
       "17       5715448             -17      0\n",
       "18       5715448             -18      0\n",
       "19       5715448             -19      0\n",
       "20       5715448             -20      X\n",
       "21       5715448             -21      X\n",
       "22       5715448             -22      X\n",
       "23       5715448             -23      X\n",
       "24       5715448             -24      X\n",
       "25       5715448             -25      X\n",
       "26       5715448             -26      X"
      ]
     },
     "execution_count": 4,
     "metadata": {},
     "output_type": "execute_result"
    }
   ],
   "source": [
    "bureau_balance[bureau_balance['SK_ID_BUREAU']==5715448]"
   ]
  },
  {
   "cell_type": "code",
   "execution_count": 5,
   "id": "tropical-motel",
   "metadata": {},
   "outputs": [],
   "source": [
    "bureau_balance.to_parquet('raw_data/bureau_balance.parquet')"
   ]
  },
  {
   "cell_type": "markdown",
   "id": "reported-wellington",
   "metadata": {},
   "source": [
    "### Bureau"
   ]
  },
  {
   "cell_type": "code",
   "execution_count": 6,
   "id": "whole-lighter",
   "metadata": {},
   "outputs": [],
   "source": [
    "bureau = dd.read_csv('data/bureau.csv',\n",
    "                    dtype={'CREDIT_ACTIVE': 'category', 'CREDIT_CURRENCY': 'category'})"
   ]
  },
  {
   "cell_type": "code",
   "execution_count": 7,
   "id": "planned-exhibit",
   "metadata": {},
   "outputs": [
    {
     "data": {
      "text/plain": [
       "(1716428, 17)"
      ]
     },
     "execution_count": 7,
     "metadata": {},
     "output_type": "execute_result"
    }
   ],
   "source": [
    "bureau.shape"
   ]
  },
  {
   "cell_type": "code",
   "execution_count": 8,
   "id": "atlantic-reply",
   "metadata": {},
   "outputs": [
    {
     "data": {
      "text/plain": [
       "Index(['SK_ID_CURR', 'SK_ID_BUREAU', 'CREDIT_ACTIVE', 'CREDIT_CURRENCY',\n",
       "       'DAYS_CREDIT', 'CREDIT_DAY_OVERDUE', 'DAYS_CREDIT_ENDDATE',\n",
       "       'DAYS_ENDDATE_FACT', 'AMT_CREDIT_MAX_OVERDUE', 'CNT_CREDIT_PROLONG',\n",
       "       'AMT_CREDIT_SUM', 'AMT_CREDIT_SUM_DEBT', 'AMT_CREDIT_SUM_LIMIT',\n",
       "       'AMT_CREDIT_SUM_OVERDUE', 'CREDIT_TYPE', 'DAYS_CREDIT_UPDATE',\n",
       "       'AMT_ANNUITY'],\n",
       "      dtype='object')"
      ]
     },
     "execution_count": 8,
     "metadata": {},
     "output_type": "execute_result"
    }
   ],
   "source": [
    "bureau.columns"
   ]
  },
  {
   "cell_type": "code",
   "execution_count": 13,
   "id": "southern-basic",
   "metadata": {},
   "outputs": [
    {
     "data": {
      "text/plain": [
       "array([[<AxesSubplot:title={'center':'SK_ID_BUREAU'}>]], dtype=object)"
      ]
     },
     "execution_count": 13,
     "metadata": {},
     "output_type": "execute_result"
    },
    {
     "data": {
      "image/png": "[encoded data removed]",
      "text/plain": [
       "<Figure size 432x288 with 1 Axes>"
      ]
     },
     "metadata": {
      "needs_background": "light"
     },
     "output_type": "display_data"
    }
   ],
   "source": [
    "bureau[['SK_ID_CURR', 'SK_ID_BUREAU']].groupby('SK_ID_CURR').count().hist(bins=70)"
   ]
  },
  {
   "cell_type": "markdown",
   "id": "competitive-lemon",
   "metadata": {},
   "source": [
    "We can see that there are loans to customers who have multiple other historical or active loans"
   ]
  },
  {
   "cell_type": "code",
   "execution_count": 53,
   "id": "prime-positive",
   "metadata": {},
   "outputs": [
    {
     "data": {
      "text/plain": [
       "SK_ID_CURR                   int64\n",
       "SK_ID_BUREAU                 int64\n",
       "CREDIT_ACTIVE             category\n",
       "CREDIT_CURRENCY           category\n",
       "DAYS_CREDIT                  int64\n",
       "CREDIT_DAY_OVERDUE           int64\n",
       "DAYS_CREDIT_ENDDATE        float64\n",
       "DAYS_ENDDATE_FACT          float64\n",
       "AMT_CREDIT_MAX_OVERDUE     float64\n",
       "CNT_CREDIT_PROLONG           int64\n",
       "AMT_CREDIT_SUM             float64\n",
       "AMT_CREDIT_SUM_DEBT        float64\n",
       "AMT_CREDIT_SUM_LIMIT       float64\n",
       "AMT_CREDIT_SUM_OVERDUE     float64\n",
       "CREDIT_TYPE                 object\n",
       "DAYS_CREDIT_UPDATE           int64\n",
       "AMT_ANNUITY                float64\n",
       "dtype: object"
      ]
     },
     "execution_count": 53,
     "metadata": {},
     "output_type": "execute_result"
    }
   ],
   "source": [
    "bureau.dtypes"
   ]
  },
  {
   "cell_type": "code",
   "execution_count": 14,
   "id": "awful-adaptation",
   "metadata": {},
   "outputs": [
    {
     "data": {
      "text/plain": [
       "array(['Consumer credit', 'Credit card', 'Mortgage', 'Car loan',\n",
       "       'Microloan', 'Loan for working capital replenishment',\n",
       "       'Loan for business development', 'Real estate loan',\n",
       "       'Unknown type of loan', 'Another type of loan',\n",
       "       'Cash loan (non-earmarked)', 'Loan for the purchase of equipment',\n",
       "       'Mobile operator loan', 'Interbank credit',\n",
       "       'Loan for purchase of shares (margin lending)'], dtype=object)"
      ]
     },
     "execution_count": 14,
     "metadata": {},
     "output_type": "execute_result"
    }
   ],
   "source": [
    "bureau.CREDIT_TYPE.unique()"
   ]
  },
  {
   "cell_type": "markdown",
   "id": "controlled-rover",
   "metadata": {},
   "source": [
    "### Credit Card Balance"
   ]
  },
  {
   "cell_type": "code",
   "execution_count": 22,
   "id": "significant-dynamics",
   "metadata": {},
   "outputs": [],
   "source": [
    "cc_balance = dd.read_csv('data/credit_card_balance.csv',\n",
    "                        dtype={'NAME_CONTRACT_STATUS': 'category'})"
   ]
  },
  {
   "cell_type": "code",
   "execution_count": 16,
   "id": "executive-harvest",
   "metadata": {},
   "outputs": [
    {
     "data": {
      "text/plain": [
       "(3840312, 23)"
      ]
     },
     "execution_count": 16,
     "metadata": {},
     "output_type": "execute_result"
    }
   ],
   "source": [
    "cc_balance.shape"
   ]
  },
  {
   "cell_type": "code",
   "execution_count": 17,
   "id": "assured-birthday",
   "metadata": {},
   "outputs": [
    {
     "data": {
      "text/plain": [
       "Index(['SK_ID_PREV', 'SK_ID_CURR', 'MONTHS_BALANCE', 'AMT_BALANCE',\n",
       "       'AMT_CREDIT_LIMIT_ACTUAL', 'AMT_DRAWINGS_ATM_CURRENT',\n",
       "       'AMT_DRAWINGS_CURRENT', 'AMT_DRAWINGS_OTHER_CURRENT',\n",
       "       'AMT_DRAWINGS_POS_CURRENT', 'AMT_INST_MIN_REGULARITY',\n",
       "       'AMT_PAYMENT_CURRENT', 'AMT_PAYMENT_TOTAL_CURRENT',\n",
       "       'AMT_RECEIVABLE_PRINCIPAL', 'AMT_RECIVABLE', 'AMT_TOTAL_RECEIVABLE',\n",
       "       'CNT_DRAWINGS_ATM_CURRENT', 'CNT_DRAWINGS_CURRENT',\n",
       "       'CNT_DRAWINGS_OTHER_CURRENT', 'CNT_DRAWINGS_POS_CURRENT',\n",
       "       'CNT_INSTALMENT_MATURE_CUM', 'NAME_CONTRACT_STATUS', 'SK_DPD',\n",
       "       'SK_DPD_DEF'],\n",
       "      dtype='object')"
      ]
     },
     "execution_count": 17,
     "metadata": {},
     "output_type": "execute_result"
    }
   ],
   "source": [
    "cc_balance.columns"
   ]
  },
  {
   "cell_type": "code",
   "execution_count": 23,
   "id": "specified-service",
   "metadata": {},
   "outputs": [
    {
     "data": {
      "text/plain": [
       "SK_ID_PREV                       int64\n",
       "SK_ID_CURR                       int64\n",
       "MONTHS_BALANCE                   int64\n",
       "AMT_BALANCE                    float64\n",
       "AMT_CREDIT_LIMIT_ACTUAL          int64\n",
       "AMT_DRAWINGS_ATM_CURRENT       float64\n",
       "AMT_DRAWINGS_CURRENT           float64\n",
       "AMT_DRAWINGS_OTHER_CURRENT     float64\n",
       "AMT_DRAWINGS_POS_CURRENT       float64\n",
       "AMT_INST_MIN_REGULARITY        float64\n",
       "AMT_PAYMENT_CURRENT            float64\n",
       "AMT_PAYMENT_TOTAL_CURRENT      float64\n",
       "AMT_RECEIVABLE_PRINCIPAL       float64\n",
       "AMT_RECIVABLE                  float64\n",
       "AMT_TOTAL_RECEIVABLE           float64\n",
       "CNT_DRAWINGS_ATM_CURRENT       float64\n",
       "CNT_DRAWINGS_CURRENT             int64\n",
       "CNT_DRAWINGS_OTHER_CURRENT     float64\n",
       "CNT_DRAWINGS_POS_CURRENT       float64\n",
       "CNT_INSTALMENT_MATURE_CUM      float64\n",
       "NAME_CONTRACT_STATUS          category\n",
       "SK_DPD                           int64\n",
       "SK_DPD_DEF                       int64\n",
       "dtype: object"
      ]
     },
     "execution_count": 23,
     "metadata": {},
     "output_type": "execute_result"
    }
   ],
   "source": [
    "cc_balance.dtypes"
   ]
  },
  {
   "cell_type": "code",
   "execution_count": 20,
   "id": "creative-celebration",
   "metadata": {},
   "outputs": [
    {
     "data": {
      "text/plain": [
       "array(['Active', 'Completed', 'Demand', 'Signed', 'Sent proposal',\n",
       "       'Refused', 'Approved'], dtype=object)"
      ]
     },
     "execution_count": 20,
     "metadata": {},
     "output_type": "execute_result"
    }
   ],
   "source": [
    "cc_balance.NAME_CONTRACT_STATUS.unique()"
   ]
  },
  {
   "cell_type": "markdown",
   "id": "norman-uzbekistan",
   "metadata": {},
   "source": [
    "## Payments"
   ]
  },
  {
   "cell_type": "code",
   "execution_count": 24,
   "id": "stainless-ambassador",
   "metadata": {},
   "outputs": [],
   "source": [
    "payments = dd.read_csv('data/installments_payments.csv')"
   ]
  },
  {
   "cell_type": "code",
   "execution_count": 25,
   "id": "alert-pursuit",
   "metadata": {},
   "outputs": [
    {
     "data": {
      "text/plain": [
       "(13605401, 8)"
      ]
     },
     "execution_count": 25,
     "metadata": {},
     "output_type": "execute_result"
    }
   ],
   "source": [
    "payments.shape"
   ]
  },
  {
   "cell_type": "code",
   "execution_count": 53,
   "id": "lasting-judgment",
   "metadata": {},
   "outputs": [
    {
     "data": {
      "text/plain": [
       "Index(['SK_ID_PREV', 'SK_ID_CURR', 'NUM_INSTALMENT_VERSION',\n",
       "       'NUM_INSTALMENT_NUMBER', 'DAYS_INSTALMENT', 'DAYS_ENTRY_PAYMENT',\n",
       "       'AMT_INSTALMENT', 'AMT_PAYMENT'],\n",
       "      dtype='object')"
      ]
     },
     "execution_count": 53,
     "metadata": {},
     "output_type": "execute_result"
    }
   ],
   "source": [
    "payments.columns"
   ]
  },
  {
   "cell_type": "code",
   "execution_count": 54,
   "id": "funded-senator",
   "metadata": {},
   "outputs": [
    {
     "data": {
      "text/plain": [
       "SK_ID_PREV                  int64\n",
       "SK_ID_CURR                  int64\n",
       "NUM_INSTALMENT_VERSION    float64\n",
       "NUM_INSTALMENT_NUMBER       int64\n",
       "DAYS_INSTALMENT           float64\n",
       "DAYS_ENTRY_PAYMENT        float64\n",
       "AMT_INSTALMENT            float64\n",
       "AMT_PAYMENT               float64\n",
       "dtype: object"
      ]
     },
     "execution_count": 54,
     "metadata": {},
     "output_type": "execute_result"
    }
   ],
   "source": [
    "payments.dtypes"
   ]
  },
  {
   "cell_type": "markdown",
   "id": "impaired-friendly",
   "metadata": {},
   "source": [
    "### POS Cash Balance"
   ]
  },
  {
   "cell_type": "code",
   "execution_count": 29,
   "id": "digital-appendix",
   "metadata": {},
   "outputs": [],
   "source": [
    "pc_balance = dd.read_csv('data/POS_CASH_balance.csv')"
   ]
  },
  {
   "cell_type": "code",
   "execution_count": 55,
   "id": "external-speaking",
   "metadata": {},
   "outputs": [
    {
     "data": {
      "text/plain": [
       "(10001358, 8)"
      ]
     },
     "execution_count": 55,
     "metadata": {},
     "output_type": "execute_result"
    }
   ],
   "source": [
    "pc_balance.shape"
   ]
  },
  {
   "cell_type": "code",
   "execution_count": 30,
   "id": "tender-spiritual",
   "metadata": {},
   "outputs": [
    {
     "data": {
      "text/plain": [
       "Index(['SK_ID_PREV', 'SK_ID_CURR', 'MONTHS_BALANCE', 'CNT_INSTALMENT',\n",
       "       'CNT_INSTALMENT_FUTURE', 'NAME_CONTRACT_STATUS', 'SK_DPD',\n",
       "       'SK_DPD_DEF'],\n",
       "      dtype='object')"
      ]
     },
     "execution_count": 30,
     "metadata": {},
     "output_type": "execute_result"
    }
   ],
   "source": [
    "pc_balance.columns"
   ]
  },
  {
   "cell_type": "code",
   "execution_count": 56,
   "id": "vital-lancaster",
   "metadata": {},
   "outputs": [
    {
     "data": {
      "text/plain": [
       "SK_ID_PREV                 int64\n",
       "SK_ID_CURR                 int64\n",
       "MONTHS_BALANCE             int64\n",
       "CNT_INSTALMENT           float64\n",
       "CNT_INSTALMENT_FUTURE    float64\n",
       "NAME_CONTRACT_STATUS      object\n",
       "SK_DPD                     int64\n",
       "SK_DPD_DEF                 int64\n",
       "dtype: object"
      ]
     },
     "execution_count": 56,
     "metadata": {},
     "output_type": "execute_result"
    }
   ],
   "source": [
    "pc_balance.dtypes"
   ]
  },
  {
   "cell_type": "code",
   "execution_count": 57,
   "id": "boxed-southwest",
   "metadata": {},
   "outputs": [
    {
     "data": {
      "text/plain": [
       "array(['Active', 'Completed', 'Signed', 'Approved',\n",
       "       'Returned to the store', 'Demand', 'Canceled', 'XNA',\n",
       "       'Amortized debt'], dtype=object)"
      ]
     },
     "execution_count": 57,
     "metadata": {},
     "output_type": "execute_result"
    }
   ],
   "source": [
    "pc_balance.NAME_CONTRACT_STATUS.unique()"
   ]
  },
  {
   "cell_type": "markdown",
   "id": "mighty-eligibility",
   "metadata": {},
   "source": [
    "### Some Checks and Hypothesises"
   ]
  },
  {
   "cell_type": "markdown",
   "id": "integrated-bench",
   "metadata": {},
   "source": [
    "Lets check if POS CASH / Instalments and Credit Card Balance are independent different types of prev balance"
   ]
  },
  {
   "cell_type": "code",
   "execution_count": 34,
   "id": "heated-intersection",
   "metadata": {},
   "outputs": [
    {
     "data": {
      "text/plain": [
       "924949"
      ]
     },
     "execution_count": 34,
     "metadata": {},
     "output_type": "execute_result"
    }
   ],
   "source": [
    "len(np.intersect1d(pc_balance.SK_ID_PREV, payments.SK_ID_PREV))"
   ]
  },
  {
   "cell_type": "code",
   "execution_count": 35,
   "id": "lesbian-hypothetical",
   "metadata": {},
   "outputs": [
    {
     "data": {
      "text/plain": [
       "72466"
      ]
     },
     "execution_count": 35,
     "metadata": {},
     "output_type": "execute_result"
    }
   ],
   "source": [
    "len(np.intersect1d(cc_balance.SK_ID_PREV, payments.SK_ID_PREV))"
   ]
  },
  {
   "cell_type": "code",
   "execution_count": 36,
   "id": "junior-sellers",
   "metadata": {},
   "outputs": [
    {
     "data": {
      "text/plain": [
       "0"
      ]
     },
     "execution_count": 36,
     "metadata": {},
     "output_type": "execute_result"
    }
   ],
   "source": [
    "len(np.intersect1d(cc_balance.SK_ID_PREV, pc_balance.SK_ID_PREV))"
   ]
  },
  {
   "cell_type": "markdown",
   "id": "arbitrary-diana",
   "metadata": {},
   "source": [
    "okay so they do overlap..."
   ]
  },
  {
   "cell_type": "markdown",
   "id": "hearing-maker",
   "metadata": {},
   "source": [
    "### Previous Loan Applications"
   ]
  },
  {
   "cell_type": "code",
   "execution_count": 45,
   "id": "addressed-walker",
   "metadata": {},
   "outputs": [],
   "source": [
    "prev = dd.read_csv('data/previous_application.csv',\n",
    "                  dtype={'NAME_CONTRACT_TYPE': 'category', 'WEEKDAY_APPR_PROCESS_START': 'category',\n",
    "                        'FLAG_LAST_APPL_PER_CONTRACT': 'category', 'NAME_CONTRACT_STATUS': 'category',\n",
    "                        'NAME_SELLER_INDUSTRY': 'category', 'NAME_YIELD_GROUP': 'category'})"
   ]
  },
  {
   "cell_type": "code",
   "execution_count": 40,
   "id": "forced-handbook",
   "metadata": {},
   "outputs": [
    {
     "data": {
      "text/plain": [
       "Index(['SK_ID_PREV', 'SK_ID_CURR', 'NAME_CONTRACT_TYPE', 'AMT_ANNUITY',\n",
       "       'AMT_APPLICATION', 'AMT_CREDIT', 'AMT_DOWN_PAYMENT', 'AMT_GOODS_PRICE',\n",
       "       'WEEKDAY_APPR_PROCESS_START', 'HOUR_APPR_PROCESS_START',\n",
       "       'FLAG_LAST_APPL_PER_CONTRACT', 'NFLAG_LAST_APPL_IN_DAY',\n",
       "       'RATE_DOWN_PAYMENT', 'RATE_INTEREST_PRIMARY',\n",
       "       'RATE_INTEREST_PRIVILEGED', 'NAME_CASH_LOAN_PURPOSE',\n",
       "       'NAME_CONTRACT_STATUS', 'DAYS_DECISION', 'NAME_PAYMENT_TYPE',\n",
       "       'CODE_REJECT_REASON', 'NAME_TYPE_SUITE', 'NAME_CLIENT_TYPE',\n",
       "       'NAME_GOODS_CATEGORY', 'NAME_PORTFOLIO', 'NAME_PRODUCT_TYPE',\n",
       "       'CHANNEL_TYPE', 'SELLERPLACE_AREA', 'NAME_SELLER_INDUSTRY',\n",
       "       'CNT_PAYMENT', 'NAME_YIELD_GROUP', 'PRODUCT_COMBINATION',\n",
       "       'DAYS_FIRST_DRAWING', 'DAYS_FIRST_DUE', 'DAYS_LAST_DUE_1ST_VERSION',\n",
       "       'DAYS_LAST_DUE', 'DAYS_TERMINATION', 'NFLAG_INSURED_ON_APPROVAL'],\n",
       "      dtype='object')"
      ]
     },
     "execution_count": 40,
     "metadata": {},
     "output_type": "execute_result"
    }
   ],
   "source": [
    "prev.columns"
   ]
  },
  {
   "cell_type": "code",
   "execution_count": 46,
   "id": "impressed-marking",
   "metadata": {},
   "outputs": [
    {
     "data": {
      "text/plain": [
       "SK_ID_PREV                        int64\n",
       "SK_ID_CURR                        int64\n",
       "NAME_CONTRACT_TYPE             category\n",
       "AMT_ANNUITY                     float64\n",
       "AMT_APPLICATION                 float64\n",
       "AMT_CREDIT                      float64\n",
       "AMT_DOWN_PAYMENT                float64\n",
       "AMT_GOODS_PRICE                 float64\n",
       "WEEKDAY_APPR_PROCESS_START     category\n",
       "HOUR_APPR_PROCESS_START           int64\n",
       "FLAG_LAST_APPL_PER_CONTRACT      object\n",
       "NFLAG_LAST_APPL_IN_DAY            int64\n",
       "RATE_DOWN_PAYMENT               float64\n",
       "RATE_INTEREST_PRIMARY           float64\n",
       "RATE_INTEREST_PRIVILEGED        float64\n",
       "NAME_CASH_LOAN_PURPOSE           object\n",
       "NAME_CONTRACT_STATUS             object\n",
       "DAYS_DECISION                     int64\n",
       "NAME_PAYMENT_TYPE                object\n",
       "CODE_REJECT_REASON               object\n",
       "NAME_TYPE_SUITE                  object\n",
       "NAME_CLIENT_TYPE                 object\n",
       "NAME_GOODS_CATEGORY              object\n",
       "NAME_PORTFOLIO                   object\n",
       "NAME_PRODUCT_TYPE                object\n",
       "CHANNEL_TYPE                     object\n",
       "SELLERPLACE_AREA                  int64\n",
       "NAME_SELLER_INDUSTRY             object\n",
       "CNT_PAYMENT                     float64\n",
       "NAME_YIELD_GROUP                 object\n",
       "PRODUCT_COMBINATION              object\n",
       "DAYS_FIRST_DRAWING              float64\n",
       "DAYS_FIRST_DUE                  float64\n",
       "DAYS_LAST_DUE_1ST_VERSION       float64\n",
       "DAYS_LAST_DUE                   float64\n",
       "DAYS_TERMINATION                float64\n",
       "NFLAG_INSURED_ON_APPROVAL       float64\n",
       "dtype: object"
      ]
     },
     "execution_count": 46,
     "metadata": {},
     "output_type": "execute_result"
    }
   ],
   "source": [
    "prev.dtypes"
   ]
  },
  {
   "cell_type": "code",
   "execution_count": 52,
   "id": "decent-terminal",
   "metadata": {},
   "outputs": [
    {
     "data": {
      "text/plain": [
       "array(['POS mobile with interest', 'Cash X-Sell: low',\n",
       "       'Cash X-Sell: high', 'Cash X-Sell: middle', 'Cash Street: high',\n",
       "       'Cash', 'POS household without interest',\n",
       "       'POS household with interest', 'POS other with interest',\n",
       "       'Card X-Sell', 'POS mobile without interest', 'Card Street',\n",
       "       'POS industry with interest', 'Cash Street: low',\n",
       "       'POS industry without interest', 'Cash Street: middle',\n",
       "       'POS others without interest', nan], dtype=object)"
      ]
     },
     "execution_count": 52,
     "metadata": {},
     "output_type": "execute_result"
    }
   ],
   "source": [
    "prev.PRODUCT_COMBINATION.unique()"
   ]
  },
  {
   "cell_type": "code",
   "execution_count": 58,
   "id": "binding-planet",
   "metadata": {},
   "outputs": [
    {
     "data": {
      "text/plain": [
       "(1670214, 37)"
      ]
     },
     "execution_count": 58,
     "metadata": {},
     "output_type": "execute_result"
    }
   ],
   "source": [
    "prev.shape"
   ]
  },
  {
   "cell_type": "code",
   "execution_count": 62,
   "id": "collect-tenant",
   "metadata": {},
   "outputs": [
    {
     "data": {
      "text/plain": [
       "1670214"
      ]
     },
     "execution_count": 62,
     "metadata": {},
     "output_type": "execute_result"
    }
   ],
   "source": [
    "len(prev.SK_ID_PREV.unique())"
   ]
  },
  {
   "cell_type": "markdown",
   "id": "norwegian-kelly",
   "metadata": {},
   "source": [
    "SK_ID_PREV is the primary key"
   ]
  },
  {
   "cell_type": "markdown",
   "id": "still-ethics",
   "metadata": {},
   "source": [
    "### Loan Applications that we are testing"
   ]
  },
  {
   "cell_type": "code",
   "execution_count": 119,
   "id": "gentle-theorem",
   "metadata": {},
   "outputs": [],
   "source": [
    "train = dd.read_csv('data/application_train.csv',\n",
    "                    index_col='SK_ID_CURR',\n",
    "                    dtype={'NAME_CONTRACT_TYPE': 'category', 'CODE_GENDER': 'category',\n",
    "                          'NAME_TYPE_SUITE': 'category', 'NAME_INCOME_TYPE': 'category',\n",
    "                          'NAME_EDUCATION_TYPE': 'category', 'NAME_FAMILY_STATUS': 'category',\n",
    "                          'NAME_HOUSING_TYPE': 'category', 'FLAG_MOBIL': 'bool', \n",
    "                          'FLAG_EMP_PHONE': 'bool', 'FLAG_WORK_PHONE': 'bool',\n",
    "                          'FLAG_CONT_MOBILE': 'bool', 'FLAG_PHONE': 'bool', 'FLAG_EMAIL': 'bool',\n",
    "                          'OCCUPATION_TYPE': 'category', 'CNT_FAM_MEMBERS': 'Int64', 'REGION_RATING_CLIENT': 'category',\n",
    "                          'REGION_RATING_CLIENT_W_CITY': 'category', 'WEEKDAY_APPR_PROCESS_START': 'category',\n",
    "                          'HOUR_APPR_PROCESS_START': 'category', 'REG_REGION_NOT_LIVE_REGION': 'bool',\n",
    "                          'REG_REGION_NOT_WORK_REGION': 'bool', 'LIVE_REGION_NOT_WORK_REGION': 'bool',\n",
    "                          'REG_CITY_NOT_LIVE_CITY': 'bool', 'REG_CITY_NOT_WORK_CITY': 'bool',\n",
    "                          'LIVE_CITY_NOT_WORK_CITY': 'bool', 'ORGANIZATION_TYPE': 'category',\n",
    "                          'OBS_30_CNT_SOCIAL_CIRCLE': 'Int64', 'DEF_30_CNT_SOCIAL_CIRCLE': 'Int64',\n",
    "                          'OBS_60_CNT_SOCIAL_CIRCLE': 'Int64', 'DEF_60_CNT_SOCIAL_CIRCLE': 'Int64',\n",
    "                          'DAYS_LAST_PHONE_CHANGE': 'Int64', 'FLAG_DOCUMENT_2': 'bool',\n",
    "                          'FLAG_DOCUMENT_3': 'bool', 'FLAG_DOCUMENT_4': 'bool', 'FLAG_DOCUMENT_5': 'bool',\n",
    "                          'FLAG_DOCUMENT_6': 'bool', 'FLAG_DOCUMENT_7': 'bool', 'FLAG_DOCUMENT_8': 'bool',\n",
    "                          'FLAG_DOCUMENT_9': 'bool', 'FLAG_DOCUMENT_10': 'bool', 'FLAG_DOCUMENT_11': 'bool',\n",
    "                          'FLAG_DOCUMENT_12': 'bool', 'FLAG_DOCUMENT_13': 'bool', 'FLAG_DOCUMENT_14': 'bool', \n",
    "                          'FLAG_DOCUMENT_15': 'bool', 'FLAG_DOCUMENT_16': 'bool', 'FLAG_DOCUMENT_17': 'bool',\n",
    "                          'FLAG_DOCUMENT_18': 'bool', 'FLAG_DOCUMENT_19': 'bool', 'FLAG_DOCUMENT_20': 'bool',\n",
    "                          'FLAG_DOCUMENT_21': 'bool', 'AMT_REQ_CREDIT_BUREAU_HOUR': 'Int64',\n",
    "                          'AMT_REQ_CREDIT_BUREAU_DAY': 'Int64', 'AMT_REQ_CREDIT_BUREAU_WEEK': 'Int64',\n",
    "                          'AMT_REQ_CREDIT_BUREAU_MON': 'Int64', 'AMT_REQ_CREDIT_BUREAU_QRT': 'Int64',\n",
    "                          'AMT_REQ_CREDIT_BUREAU_YEAR': 'Int64'})\n",
    "test = dd.read_csv('data/application_test.csv',\n",
    "                    index_col='SK_ID_CURR',\n",
    "                    dtype={'NAME_CONTRACT_TYPE': 'category', 'CODE_GENDER': 'category',\n",
    "                          'NAME_TYPE_SUITE': 'category', 'NAME_INCOME_TYPE': 'category',\n",
    "                          'NAME_EDUCATION_TYPE': 'category', 'NAME_FAMILY_STATUS': 'category',\n",
    "                          'NAME_HOUSING_TYPE': 'category', 'FLAG_MOBIL': 'bool', \n",
    "                          'FLAG_EMP_PHONE': 'bool', 'FLAG_WORK_PHONE': 'bool',\n",
    "                          'FLAG_CONT_MOBILE': 'bool', 'FLAG_PHONE': 'bool', 'FLAG_EMAIL': 'bool',\n",
    "                          'OCCUPATION_TYPE': 'category', 'CNT_FAM_MEMBERS': 'Int64', 'REGION_RATING_CLIENT': 'category',\n",
    "                          'REGION_RATING_CLIENT_W_CITY': 'category', 'WEEKDAY_APPR_PROCESS_START': 'category',\n",
    "                          'HOUR_APPR_PROCESS_START': 'category', 'REG_REGION_NOT_LIVE_REGION': 'bool',\n",
    "                          'REG_REGION_NOT_WORK_REGION': 'bool', 'LIVE_REGION_NOT_WORK_REGION': 'bool',\n",
    "                          'REG_CITY_NOT_LIVE_CITY': 'bool', 'REG_CITY_NOT_WORK_CITY': 'bool',\n",
    "                          'LIVE_CITY_NOT_WORK_CITY': 'bool', 'ORGANIZATION_TYPE': 'category',\n",
    "                          'OBS_30_CNT_SOCIAL_CIRCLE': 'Int64', 'DEF_30_CNT_SOCIAL_CIRCLE': 'Int64',\n",
    "                          'OBS_60_CNT_SOCIAL_CIRCLE': 'Int64', 'DEF_60_CNT_SOCIAL_CIRCLE': 'Int64',\n",
    "                          'DAYS_LAST_PHONE_CHANGE': 'Int64', 'FLAG_DOCUMENT_2': 'bool',\n",
    "                          'FLAG_DOCUMENT_3': 'bool', 'FLAG_DOCUMENT_4': 'bool', 'FLAG_DOCUMENT_5': 'bool',\n",
    "                          'FLAG_DOCUMENT_6': 'bool', 'FLAG_DOCUMENT_7': 'bool', 'FLAG_DOCUMENT_8': 'bool',\n",
    "                          'FLAG_DOCUMENT_9': 'bool', 'FLAG_DOCUMENT_10': 'bool', 'FLAG_DOCUMENT_11': 'bool',\n",
    "                          'FLAG_DOCUMENT_12': 'bool', 'FLAG_DOCUMENT_13': 'bool', 'FLAG_DOCUMENT_14': 'bool', \n",
    "                          'FLAG_DOCUMENT_15': 'bool', 'FLAG_DOCUMENT_16': 'bool', 'FLAG_DOCUMENT_17': 'bool',\n",
    "                          'FLAG_DOCUMENT_18': 'bool', 'FLAG_DOCUMENT_19': 'bool', 'FLAG_DOCUMENT_20': 'bool',\n",
    "                          'FLAG_DOCUMENT_21': 'bool', 'AMT_REQ_CREDIT_BUREAU_HOUR': 'Int64',\n",
    "                          'AMT_REQ_CREDIT_BUREAU_DAY': 'Int64', 'AMT_REQ_CREDIT_BUREAU_WEEK': 'Int64',\n",
    "                          'AMT_REQ_CREDIT_BUREAU_MON': 'Int64', 'AMT_REQ_CREDIT_BUREAU_QRT': 'Int64',\n",
    "                          'AMT_REQ_CREDIT_BUREAU_YEAR': 'Int64'})"
   ]
  },
  {
   "cell_type": "code",
   "execution_count": 120,
   "id": "military-rebecca",
   "metadata": {},
   "outputs": [],
   "source": [
    "### Bool Conversions\n",
    "train.FLAG_OWN_CAR = train.FLAG_OWN_CAR.eq('Y').mul(1).astype('bool')\n",
    "train.FLAG_OWN_REALTY = train.FLAG_OWN_REALTY.eq('Y').mul(1).astype('bool')\n",
    "test.FLAG_OWN_CAR = test.FLAG_OWN_CAR.eq('Y').mul(1).astype('bool')\n",
    "test.FLAG_OWN_REALTY = test.FLAG_OWN_REALTY.eq('Y').mul(1).astype('bool')"
   ]
  },
  {
   "cell_type": "code",
   "execution_count": 94,
   "id": "uniform-provincial",
   "metadata": {},
   "outputs": [
    {
     "data": {
      "text/plain": [
       "(307511, 121)"
      ]
     },
     "execution_count": 94,
     "metadata": {},
     "output_type": "execute_result"
    }
   ],
   "source": [
    "train.shape"
   ]
  },
  {
   "cell_type": "code",
   "execution_count": 70,
   "id": "frozen-buying",
   "metadata": {
    "collapsed": true,
    "jupyter": {
     "outputs_hidden": true
    }
   },
   "outputs": [
    {
     "data": {
      "text/plain": [
       "['SK_ID_CURR',\n",
       " 'TARGET',\n",
       " 'NAME_CONTRACT_TYPE',\n",
       " 'CODE_GENDER',\n",
       " 'FLAG_OWN_CAR',\n",
       " 'FLAG_OWN_REALTY',\n",
       " 'CNT_CHILDREN',\n",
       " 'AMT_INCOME_TOTAL',\n",
       " 'AMT_CREDIT',\n",
       " 'AMT_ANNUITY',\n",
       " 'AMT_GOODS_PRICE',\n",
       " 'NAME_TYPE_SUITE',\n",
       " 'NAME_INCOME_TYPE',\n",
       " 'NAME_EDUCATION_TYPE',\n",
       " 'NAME_FAMILY_STATUS',\n",
       " 'NAME_HOUSING_TYPE',\n",
       " 'REGION_POPULATION_RELATIVE',\n",
       " 'DAYS_BIRTH',\n",
       " 'DAYS_EMPLOYED',\n",
       " 'DAYS_REGISTRATION',\n",
       " 'DAYS_ID_PUBLISH',\n",
       " 'OWN_CAR_AGE',\n",
       " 'FLAG_MOBIL',\n",
       " 'FLAG_EMP_PHONE',\n",
       " 'FLAG_WORK_PHONE',\n",
       " 'FLAG_CONT_MOBILE',\n",
       " 'FLAG_PHONE',\n",
       " 'FLAG_EMAIL',\n",
       " 'OCCUPATION_TYPE',\n",
       " 'CNT_FAM_MEMBERS',\n",
       " 'REGION_RATING_CLIENT',\n",
       " 'REGION_RATING_CLIENT_W_CITY',\n",
       " 'WEEKDAY_APPR_PROCESS_START',\n",
       " 'HOUR_APPR_PROCESS_START',\n",
       " 'REG_REGION_NOT_LIVE_REGION',\n",
       " 'REG_REGION_NOT_WORK_REGION',\n",
       " 'LIVE_REGION_NOT_WORK_REGION',\n",
       " 'REG_CITY_NOT_LIVE_CITY',\n",
       " 'REG_CITY_NOT_WORK_CITY',\n",
       " 'LIVE_CITY_NOT_WORK_CITY',\n",
       " 'ORGANIZATION_TYPE',\n",
       " 'EXT_SOURCE_1',\n",
       " 'EXT_SOURCE_2',\n",
       " 'EXT_SOURCE_3',\n",
       " 'APARTMENTS_AVG',\n",
       " 'BASEMENTAREA_AVG',\n",
       " 'YEARS_BEGINEXPLUATATION_AVG',\n",
       " 'YEARS_BUILD_AVG',\n",
       " 'COMMONAREA_AVG',\n",
       " 'ELEVATORS_AVG',\n",
       " 'ENTRANCES_AVG',\n",
       " 'FLOORSMAX_AVG',\n",
       " 'FLOORSMIN_AVG',\n",
       " 'LANDAREA_AVG',\n",
       " 'LIVINGAPARTMENTS_AVG',\n",
       " 'LIVINGAREA_AVG',\n",
       " 'NONLIVINGAPARTMENTS_AVG',\n",
       " 'NONLIVINGAREA_AVG',\n",
       " 'APARTMENTS_MODE',\n",
       " 'BASEMENTAREA_MODE',\n",
       " 'YEARS_BEGINEXPLUATATION_MODE',\n",
       " 'YEARS_BUILD_MODE',\n",
       " 'COMMONAREA_MODE',\n",
       " 'ELEVATORS_MODE',\n",
       " 'ENTRANCES_MODE',\n",
       " 'FLOORSMAX_MODE',\n",
       " 'FLOORSMIN_MODE',\n",
       " 'LANDAREA_MODE',\n",
       " 'LIVINGAPARTMENTS_MODE',\n",
       " 'LIVINGAREA_MODE',\n",
       " 'NONLIVINGAPARTMENTS_MODE',\n",
       " 'NONLIVINGAREA_MODE',\n",
       " 'APARTMENTS_MEDI',\n",
       " 'BASEMENTAREA_MEDI',\n",
       " 'YEARS_BEGINEXPLUATATION_MEDI',\n",
       " 'YEARS_BUILD_MEDI',\n",
       " 'COMMONAREA_MEDI',\n",
       " 'ELEVATORS_MEDI',\n",
       " 'ENTRANCES_MEDI',\n",
       " 'FLOORSMAX_MEDI',\n",
       " 'FLOORSMIN_MEDI',\n",
       " 'LANDAREA_MEDI',\n",
       " 'LIVINGAPARTMENTS_MEDI',\n",
       " 'LIVINGAREA_MEDI',\n",
       " 'NONLIVINGAPARTMENTS_MEDI',\n",
       " 'NONLIVINGAREA_MEDI',\n",
       " 'FONDKAPREMONT_MODE',\n",
       " 'HOUSETYPE_MODE',\n",
       " 'TOTALAREA_MODE',\n",
       " 'WALLSMATERIAL_MODE',\n",
       " 'EMERGENCYSTATE_MODE',\n",
       " 'OBS_30_CNT_SOCIAL_CIRCLE',\n",
       " 'DEF_30_CNT_SOCIAL_CIRCLE',\n",
       " 'OBS_60_CNT_SOCIAL_CIRCLE',\n",
       " 'DEF_60_CNT_SOCIAL_CIRCLE',\n",
       " 'DAYS_LAST_PHONE_CHANGE',\n",
       " 'FLAG_DOCUMENT_2',\n",
       " 'FLAG_DOCUMENT_3',\n",
       " 'FLAG_DOCUMENT_4',\n",
       " 'FLAG_DOCUMENT_5',\n",
       " 'FLAG_DOCUMENT_6',\n",
       " 'FLAG_DOCUMENT_7',\n",
       " 'FLAG_DOCUMENT_8',\n",
       " 'FLAG_DOCUMENT_9',\n",
       " 'FLAG_DOCUMENT_10',\n",
       " 'FLAG_DOCUMENT_11',\n",
       " 'FLAG_DOCUMENT_12',\n",
       " 'FLAG_DOCUMENT_13',\n",
       " 'FLAG_DOCUMENT_14',\n",
       " 'FLAG_DOCUMENT_15',\n",
       " 'FLAG_DOCUMENT_16',\n",
       " 'FLAG_DOCUMENT_17',\n",
       " 'FLAG_DOCUMENT_18',\n",
       " 'FLAG_DOCUMENT_19',\n",
       " 'FLAG_DOCUMENT_20',\n",
       " 'FLAG_DOCUMENT_21',\n",
       " 'AMT_REQ_CREDIT_BUREAU_HOUR',\n",
       " 'AMT_REQ_CREDIT_BUREAU_DAY',\n",
       " 'AMT_REQ_CREDIT_BUREAU_WEEK',\n",
       " 'AMT_REQ_CREDIT_BUREAU_MON',\n",
       " 'AMT_REQ_CREDIT_BUREAU_QRT',\n",
       " 'AMT_REQ_CREDIT_BUREAU_YEAR']"
      ]
     },
     "execution_count": 70,
     "metadata": {},
     "output_type": "execute_result"
    }
   ],
   "source": [
    "list(train.columns)"
   ]
  },
  {
   "cell_type": "code",
   "execution_count": 109,
   "id": "perceived-pharmacology",
   "metadata": {},
   "outputs": [
    {
     "data": {
      "text/plain": [
       "TARGET                             int64\n",
       "NAME_CONTRACT_TYPE              category\n",
       "CODE_GENDER                     category\n",
       "FLAG_OWN_CAR                      object\n",
       "FLAG_OWN_REALTY                   object\n",
       "CNT_CHILDREN                       int64\n",
       "AMT_INCOME_TOTAL                 float64\n",
       "AMT_CREDIT                       float64\n",
       "AMT_ANNUITY                      float64\n",
       "AMT_GOODS_PRICE                  float64\n",
       "NAME_TYPE_SUITE                 category\n",
       "NAME_INCOME_TYPE                category\n",
       "NAME_EDUCATION_TYPE             category\n",
       "NAME_FAMILY_STATUS              category\n",
       "NAME_HOUSING_TYPE               category\n",
       "REGION_POPULATION_RELATIVE       float64\n",
       "DAYS_BIRTH                         int64\n",
       "DAYS_EMPLOYED                      int64\n",
       "DAYS_REGISTRATION                float64\n",
       "DAYS_ID_PUBLISH                    int64\n",
       "OWN_CAR_AGE                      float64\n",
       "FLAG_MOBIL                          bool\n",
       "FLAG_EMP_PHONE                      bool\n",
       "FLAG_WORK_PHONE                     bool\n",
       "FLAG_CONT_MOBILE                    bool\n",
       "FLAG_PHONE                          bool\n",
       "FLAG_EMAIL                          bool\n",
       "OCCUPATION_TYPE                 category\n",
       "CNT_FAM_MEMBERS                    Int64\n",
       "REGION_RATING_CLIENT               int64\n",
       "REGION_RATING_CLIENT_W_CITY        int64\n",
       "WEEKDAY_APPR_PROCESS_START        object\n",
       "HOUR_APPR_PROCESS_START            int64\n",
       "REG_REGION_NOT_LIVE_REGION         int64\n",
       "REG_REGION_NOT_WORK_REGION         int64\n",
       "LIVE_REGION_NOT_WORK_REGION        int64\n",
       "REG_CITY_NOT_LIVE_CITY             int64\n",
       "REG_CITY_NOT_WORK_CITY             int64\n",
       "LIVE_CITY_NOT_WORK_CITY            int64\n",
       "ORGANIZATION_TYPE                 object\n",
       "EXT_SOURCE_1                     float64\n",
       "EXT_SOURCE_2                     float64\n",
       "EXT_SOURCE_3                     float64\n",
       "APARTMENTS_AVG                   float64\n",
       "BASEMENTAREA_AVG                 float64\n",
       "YEARS_BEGINEXPLUATATION_AVG      float64\n",
       "YEARS_BUILD_AVG                  float64\n",
       "COMMONAREA_AVG                   float64\n",
       "ELEVATORS_AVG                    float64\n",
       "ENTRANCES_AVG                    float64\n",
       "FLOORSMAX_AVG                    float64\n",
       "FLOORSMIN_AVG                    float64\n",
       "LANDAREA_AVG                     float64\n",
       "LIVINGAPARTMENTS_AVG             float64\n",
       "LIVINGAREA_AVG                   float64\n",
       "NONLIVINGAPARTMENTS_AVG          float64\n",
       "NONLIVINGAREA_AVG                float64\n",
       "APARTMENTS_MODE                  float64\n",
       "BASEMENTAREA_MODE                float64\n",
       "YEARS_BEGINEXPLUATATION_MODE     float64\n",
       "YEARS_BUILD_MODE                 float64\n",
       "COMMONAREA_MODE                  float64\n",
       "ELEVATORS_MODE                   float64\n",
       "ENTRANCES_MODE                   float64\n",
       "FLOORSMAX_MODE                   float64\n",
       "FLOORSMIN_MODE                   float64\n",
       "LANDAREA_MODE                    float64\n",
       "LIVINGAPARTMENTS_MODE            float64\n",
       "LIVINGAREA_MODE                  float64\n",
       "NONLIVINGAPARTMENTS_MODE         float64\n",
       "NONLIVINGAREA_MODE               float64\n",
       "APARTMENTS_MEDI                  float64\n",
       "BASEMENTAREA_MEDI                float64\n",
       "YEARS_BEGINEXPLUATATION_MEDI     float64\n",
       "YEARS_BUILD_MEDI                 float64\n",
       "COMMONAREA_MEDI                  float64\n",
       "ELEVATORS_MEDI                   float64\n",
       "ENTRANCES_MEDI                   float64\n",
       "FLOORSMAX_MEDI                   float64\n",
       "FLOORSMIN_MEDI                   float64\n",
       "LANDAREA_MEDI                    float64\n",
       "LIVINGAPARTMENTS_MEDI            float64\n",
       "LIVINGAREA_MEDI                  float64\n",
       "NONLIVINGAPARTMENTS_MEDI         float64\n",
       "NONLIVINGAREA_MEDI               float64\n",
       "FONDKAPREMONT_MODE                object\n",
       "HOUSETYPE_MODE                    object\n",
       "TOTALAREA_MODE                   float64\n",
       "WALLSMATERIAL_MODE                object\n",
       "EMERGENCYSTATE_MODE               object\n",
       "OBS_30_CNT_SOCIAL_CIRCLE         float64\n",
       "DEF_30_CNT_SOCIAL_CIRCLE         float64\n",
       "OBS_60_CNT_SOCIAL_CIRCLE         float64\n",
       "DEF_60_CNT_SOCIAL_CIRCLE         float64\n",
       "DAYS_LAST_PHONE_CHANGE           float64\n",
       "FLAG_DOCUMENT_2                    int64\n",
       "FLAG_DOCUMENT_3                    int64\n",
       "FLAG_DOCUMENT_4                    int64\n",
       "FLAG_DOCUMENT_5                    int64\n",
       "FLAG_DOCUMENT_6                    int64\n",
       "FLAG_DOCUMENT_7                    int64\n",
       "FLAG_DOCUMENT_8                    int64\n",
       "FLAG_DOCUMENT_9                    int64\n",
       "FLAG_DOCUMENT_10                   int64\n",
       "FLAG_DOCUMENT_11                   int64\n",
       "FLAG_DOCUMENT_12                   int64\n",
       "FLAG_DOCUMENT_13                   int64\n",
       "FLAG_DOCUMENT_14                   int64\n",
       "FLAG_DOCUMENT_15                   int64\n",
       "FLAG_DOCUMENT_16                   int64\n",
       "FLAG_DOCUMENT_17                   int64\n",
       "FLAG_DOCUMENT_18                   int64\n",
       "FLAG_DOCUMENT_19                   int64\n",
       "FLAG_DOCUMENT_20                   int64\n",
       "FLAG_DOCUMENT_21                   int64\n",
       "AMT_REQ_CREDIT_BUREAU_HOUR       float64\n",
       "AMT_REQ_CREDIT_BUREAU_DAY        float64\n",
       "AMT_REQ_CREDIT_BUREAU_WEEK       float64\n",
       "AMT_REQ_CREDIT_BUREAU_MON        float64\n",
       "AMT_REQ_CREDIT_BUREAU_QRT        float64\n",
       "AMT_REQ_CREDIT_BUREAU_YEAR       float64\n",
       "dtype: object"
      ]
     },
     "execution_count": 109,
     "metadata": {},
     "output_type": "execute_result"
    }
   ],
   "source": [
    "train.dtypes"
   ]
  },
  {
   "cell_type": "code",
   "execution_count": 69,
   "id": "alternative-grounds",
   "metadata": {},
   "outputs": [
    {
     "data": {
      "text/html": [
       "<div>\n",
       "<style scoped>\n",
       "    .dataframe tbody tr th:only-of-type {\n",
       "        vertical-align: middle;\n",
       "    }\n",
       "\n",
       "    .dataframe tbody tr th {\n",
       "        vertical-align: top;\n",
       "    }\n",
       "\n",
       "    .dataframe thead th {\n",
       "        text-align: right;\n",
       "    }\n",
       "</style>\n",
       "<table border=\"1\" class=\"dataframe\">\n",
       "  <thead>\n",
       "    <tr style=\"text-align: right;\">\n",
       "      <th></th>\n",
       "      <th>SK_ID_CURR</th>\n",
       "    </tr>\n",
       "    <tr>\n",
       "      <th>TARGET</th>\n",
       "      <th></th>\n",
       "    </tr>\n",
       "  </thead>\n",
       "  <tbody>\n",
       "    <tr>\n",
       "      <th>0</th>\n",
       "      <td>282686</td>\n",
       "    </tr>\n",
       "    <tr>\n",
       "      <th>1</th>\n",
       "      <td>24825</td>\n",
       "    </tr>\n",
       "  </tbody>\n",
       "</table>\n",
       "</div>"
      ],
      "text/plain": [
       "        SK_ID_CURR\n",
       "TARGET            \n",
       "0           282686\n",
       "1            24825"
      ]
     },
     "execution_count": 69,
     "metadata": {},
     "output_type": "execute_result"
    }
   ],
   "source": [
    "train[['TARGET', 'SK_ID_CURR']].groupby('TARGET').count()"
   ]
  },
  {
   "cell_type": "code",
   "execution_count": 118,
   "id": "remarkable-boutique",
   "metadata": {},
   "outputs": [
    {
     "data": {
      "text/plain": [
       "array([0, 1])"
      ]
     },
     "execution_count": 118,
     "metadata": {},
     "output_type": "execute_result"
    }
   ],
   "source": [
    "train.FLAG_DOCUMENT_2.unique()"
   ]
  },
  {
   "cell_type": "code",
   "execution_count": 117,
   "id": "coastal-guess",
   "metadata": {},
   "outputs": [
    {
     "data": {
      "text/plain": [
       "array([False,  True])"
      ]
     },
     "execution_count": 117,
     "metadata": {},
     "output_type": "execute_result"
    }
   ],
   "source": [
    "train.DAYS_LAST_PHONE_CHANGE.isnull().unique()"
   ]
  }
 ],
 "metadata": {
  "kernelspec": {
   "display_name": "Python [conda env:rapids]",
   "language": "python",
   "name": "conda-env-rapids-py"
  },
  "language_info": {
   "codemirror_mode": {
    "name": "ipython",
    "version": 3
   },
   "file_extension": ".py",
   "mimetype": "text/x-python",
   "name": "python",
   "nbconvert_exporter": "python",
   "pygments_lexer": "ipython3",
   "version": "3.8.8"
  }
 },
 "nbformat": 4,
 "nbformat_minor": 5
}
