{
 "cells": [
  {
   "cell_type": "markdown",
   "id": "alive-awareness",
   "metadata": {},
   "source": [
    "# Feature Engineering Testing Book"
   ]
  },
  {
   "cell_type": "markdown",
   "id": "legendary-story",
   "metadata": {},
   "source": [
    "This is for experimenting with feature engineering processes"
   ]
  },
  {
   "cell_type": "code",
   "execution_count": 1,
   "id": "rocky-killing",
   "metadata": {},
   "outputs": [],
   "source": [
    "import numpy as np\n",
    "import cudf as dd"
   ]
  },
  {
   "cell_type": "code",
   "execution_count": null,
   "id": "incredible-chambers",
   "metadata": {},
   "outputs": [],
   "source": [
    "agg_func = ['mean', 'max', 'min', 'sum', 'std']"
   ]
  },
  {
   "cell_type": "markdown",
   "id": "usual-equality",
   "metadata": {},
   "source": [
    "### Check Bureau merge and nulls"
   ]
  },
  {
   "cell_type": "code",
   "execution_count": null,
   "id": "interested-victoria",
   "metadata": {},
   "outputs": [],
   "source": [
    "bureau_balance = dd.read_parquet('raw_data/bureau_balance.parquet')\n",
    "bureau = dd.read_parquet('raw_data/bureau.parquet')"
   ]
  },
  {
   "cell_type": "code",
   "execution_count": null,
   "id": "brazilian-lambda",
   "metadata": {},
   "outputs": [],
   "source": [
    "\n",
    "print(\"procecssing bureau balance\")\n",
    "\n",
    "## Build Average Bureau Balance\n",
    "avg_bbalance = bureau_balance.select_dtypes('number') \\\n",
    "                    .groupby('SK_ID_BUREAU').agg(agg_func)\n",
    "\n",
    "avg_bbalance.columns = [\"_\".join(x) for x in avg_bbalance.columns.ravel()]\n",
    "avg_bbalance['MONTHS_BALANCE_std'] = avg_bbalance.MONTHS_BALANCE_std.fillna(0)"
   ]
  },
  {
   "cell_type": "code",
   "execution_count": null,
   "id": "catholic-storage",
   "metadata": {},
   "outputs": [],
   "source": [
    "avg_bbalance.columns"
   ]
  },
  {
   "cell_type": "code",
   "execution_count": null,
   "id": "burning-creativity",
   "metadata": {},
   "outputs": [],
   "source": [
    "bureau['DAYS_CREDIT_ENDDATE'] = bureau['DAYS_CREDIT_ENDDATE'].fillna(0)\n",
    "bureau['DAYS_ENDDATE_FACT'] = bureau['DAYS_ENDDATE_FACT'].fillna(0)\n",
    "bureau['AMT_CREDIT_MAX_OVERDUE'] = bureau['AMT_CREDIT_MAX_OVERDUE'].fillna(0)\n",
    "bureau['AMT_CREDIT_SUM'] = bureau['AMT_CREDIT_SUM'].fillna(0)\n",
    "bureau['AMT_CREDIT_SUM_DEBT'] = bureau['AMT_CREDIT_SUM_DEBT'].fillna(0)\n",
    "bureau['AMT_CREDIT_SUM_LIMIT'] = bureau['AMT_CREDIT_SUM_LIMIT'].fillna(0)\n",
    "bureau['AMT_ANNUITY'] = bureau['AMT_ANNUITY'].fillna(0)\n",
    "\n",
    "avg_bureau = bureau.merge(avg_bbalance, how='left', \n",
    "                              left_on='SK_ID_BUREAU', \n",
    "                              right_index=True)\n",
    "\n",
    "avg_bureau.set_index('SK_ID_CURR')"
   ]
  },
  {
   "cell_type": "code",
   "execution_count": null,
   "id": "genetic-durham",
   "metadata": {},
   "outputs": [],
   "source": [
    "avg_bureau.isnull().any()"
   ]
  },
  {
   "cell_type": "markdown",
   "id": "golden-kelly",
   "metadata": {},
   "source": [
    "I guess there are a lot of bureau IDs that don't have records in the bureau balance table"
   ]
  },
  {
   "cell_type": "markdown",
   "id": "oriental-heather",
   "metadata": {},
   "source": [
    "### Lets look at the behavioural data in cc_balance / payments and pc_balance"
   ]
  },
  {
   "cell_type": "code",
   "execution_count": null,
   "id": "second-poster",
   "metadata": {},
   "outputs": [],
   "source": [
    "# check the other historical records to see if we should stack and merge\n",
    "cc_balance = dd.read_parquet('raw_data/cc_balance.parquet')"
   ]
  },
  {
   "cell_type": "code",
   "execution_count": null,
   "id": "threatened-lightweight",
   "metadata": {},
   "outputs": [],
   "source": [
    "cc_balance.isnull().any()"
   ]
  },
  {
   "cell_type": "code",
   "execution_count": null,
   "id": "colored-premiere",
   "metadata": {},
   "outputs": [],
   "source": [
    "# so we have time series data\n",
    "cc_balance.SK_ID_PREV.unique == len(cc_balance)"
   ]
  },
  {
   "cell_type": "code",
   "execution_count": null,
   "id": "loaded-title",
   "metadata": {},
   "outputs": [],
   "source": [
    "cc_balance['AMT_DRAWINGS_ATM_CURRENT'] = cc_balance['AMT_DRAWINGS_ATM_CURRENT'].fillna(0)\n",
    "cc_balance['AMT_DRAWINGS_OTHER_CURRENT'] = cc_balance['AMT_DRAWINGS_OTHER_CURRENT'].fillna(0)\n",
    "cc_balance['AMT_DRAWINGS_POS_CURRENT'] = cc_balance['AMT_DRAWINGS_POS_CURRENT'].fillna(0)\n",
    "cc_balance['AMT_INST_MIN_REGULARITY'] = cc_balance['AMT_INST_MIN_REGULARITY'].fillna(0)\n",
    "cc_balance['AMT_PAYMENT_CURRENT'] = cc_balance['AMT_PAYMENT_CURRENT'].fillna(0)\n",
    "cc_balance['CNT_DRAWINGS_ATM_CURRENT'] = cc_balance['CNT_DRAWINGS_ATM_CURRENT'].fillna(0)\n",
    "cc_balance['CNT_DRAWINGS_OTHER_CURRENT'] = cc_balance['CNT_DRAWINGS_OTHER_CURRENT'].fillna(0)\n",
    "cc_balance['CNT_DRAWINGS_POS_CURRENT'] = cc_balance['CNT_DRAWINGS_POS_CURRENT'].fillna(0)\n",
    "cc_balance['CNT_INSTALMENT_MATURE_CUM'] = cc_balance['CNT_INSTALMENT_MATURE_CUM'].fillna(0)"
   ]
  },
  {
   "cell_type": "code",
   "execution_count": null,
   "id": "adverse-front",
   "metadata": {},
   "outputs": [],
   "source": [
    "sum_cc_balance = cc_balance.drop('SK_ID_PREV', axis=1) \\\n",
    "                        .select_dtypes('number').groupby('SK_ID_CURR') \\\n",
    "                        .agg(agg_func)\n",
    "\n",
    "sum_cc_balance.columns = [\"_\".join(x) for x in sum_cc_balance.columns.ravel()]\n"
   ]
  },
  {
   "cell_type": "code",
   "execution_count": null,
   "id": "requested-gross",
   "metadata": {},
   "outputs": [],
   "source": [
    "type(sum_cc_balance)"
   ]
  },
  {
   "cell_type": "code",
   "execution_count": null,
   "id": "forbidden-discussion",
   "metadata": {},
   "outputs": [],
   "source": [
    "sum_cc_balance.isnull().any().index.to_arrow().tolist()"
   ]
  },
  {
   "cell_type": "markdown",
   "id": "necessary-toolbox",
   "metadata": {},
   "source": [
    "### POS Balance"
   ]
  },
  {
   "cell_type": "code",
   "execution_count": null,
   "id": "subsequent-hierarchy",
   "metadata": {},
   "outputs": [],
   "source": [
    "pc_balance = dd.read_parquet('raw_data/pc_balance.parquet')"
   ]
  },
  {
   "cell_type": "code",
   "execution_count": null,
   "id": "modern-sheet",
   "metadata": {},
   "outputs": [],
   "source": [
    "pc_balance.dtypes"
   ]
  },
  {
   "cell_type": "code",
   "execution_count": null,
   "id": "social-reproduction",
   "metadata": {},
   "outputs": [],
   "source": [
    "pc_balance.isnull().any()"
   ]
  },
  {
   "cell_type": "code",
   "execution_count": null,
   "id": "central-newark",
   "metadata": {},
   "outputs": [],
   "source": [
    "pc_balance['CNT_INSTALMENT'] = pc_balance['CNT_INSTALMENT'].fillna(0)\n",
    "pc_balance['CNT_INSTALMENT'] = pc_balance['CNT_INSTALMENT_FUTURE'].fillna(0)"
   ]
  },
  {
   "cell_type": "code",
   "execution_count": null,
   "id": "organized-coffee",
   "metadata": {},
   "outputs": [],
   "source": [
    "sum_pc_balance = pc_balance.drop('SK_ID_PREV', axis=1).select_dtypes('number').groupby('SK_ID_CURR') \\\n",
    "                .agg(agg_func)\n",
    "\n",
    "sum_pc_balance.columns = [\"_\".join(x) for x in sum_pc_balance.columns.ravel()]"
   ]
  },
  {
   "cell_type": "code",
   "execution_count": null,
   "id": "enormous-reader",
   "metadata": {},
   "outputs": [],
   "source": [
    "sum_pc_balance.columns"
   ]
  },
  {
   "cell_type": "code",
   "execution_count": null,
   "id": "union-render",
   "metadata": {},
   "outputs": [],
   "source": [
    "sum_pc_balance.isnull().any()"
   ]
  },
  {
   "cell_type": "code",
   "execution_count": null,
   "id": "early-ambassador",
   "metadata": {},
   "outputs": [],
   "source": [
    "sum_pc_balance['CNT_INSTALMENT_std'] = sum_pc_balance['CNT_INSTALMENT_std'].fillna(0)\n",
    "sum_pc_balance['CNT_INSTALMENT_FUTURE_mean'] = sum_pc_balance['CNT_INSTALMENT_FUTURE_mean'].fillna(0)\n",
    "sum_pc_balance['CNT_INSTALMENT_FUTURE_max'] = sum_pc_balance['CNT_INSTALMENT_FUTURE_max'].fillna(0)\n",
    "sum_pc_balance['CNT_INSTALMENT_FUTURE_min'] = sum_pc_balance['CNT_INSTALMENT_FUTURE_min'].fillna(0)\n",
    "sum_pc_balance['CNT_INSTALMENT_FUTURE_sum'] = sum_pc_balance['CNT_INSTALMENT_FUTURE_sum'].fillna(0)\n",
    "sum_pc_balance['CNT_INSTALMENT_FUTURE_std'] = sum_pc_balance['CNT_INSTALMENT_FUTURE_std'].fillna(0)\n",
    "sum_pc_balance['SK_DPD_std'] = sum_pc_balance['SK_DPD_std'].fillna(0)\n",
    "sum_pc_balance['SK_DPD_DEF_std'] = sum_pc_balance['SK_DPD_DEF_std'].fillna(0)\n",
    "sum_pc_balance['MONTHS_BALANCE_std'] = sum_pc_balance['MONTHS_BALANCE_std'].fillna(0)"
   ]
  },
  {
   "cell_type": "code",
   "execution_count": null,
   "id": "close-arrow",
   "metadata": {},
   "outputs": [],
   "source": [
    "sum_pc_balance.isnull().any()"
   ]
  },
  {
   "cell_type": "markdown",
   "id": "earlier-irrigation",
   "metadata": {},
   "source": [
    "### Process Payments"
   ]
  },
  {
   "cell_type": "code",
   "execution_count": null,
   "id": "standing-expense",
   "metadata": {},
   "outputs": [],
   "source": [
    "payments = dd.read_parquet('raw_data/payments.parquet')"
   ]
  },
  {
   "cell_type": "code",
   "execution_count": null,
   "id": "polished-plaza",
   "metadata": {},
   "outputs": [],
   "source": [
    "payments.isnull().any()"
   ]
  },
  {
   "cell_type": "code",
   "execution_count": null,
   "id": "intermediate-williams",
   "metadata": {},
   "outputs": [],
   "source": [
    "payments['DAYS_ENTRY_PAYMENT'] = payments['DAYS_ENTRY_PAYMENT'].fillna(0)\n",
    "payments['AMT_PAYMENT'] = payments['AMT_PAYMENT'].fillna(0)"
   ]
  },
  {
   "cell_type": "code",
   "execution_count": null,
   "id": "varied-noise",
   "metadata": {},
   "outputs": [],
   "source": [
    "sum_payments = payments.drop('SK_ID_PREV', axis=1)\n",
    "sum_payments['PAYMENT_PERC'] = sum_payments.AMT_PAYMENT / sum_payments.AMT_INSTALMENT\n",
    "sum_payments['PAYMENT_PERC'] = sum_payments['PAYMENT_PERC'].fillna(0)\n",
    "sum_payments['PAYMENT_DIFF'] = sum_payments.AMT_INSTALMENT - sum_payments.AMT_PAYMENT\n",
    "sum_payments['DPD'] = sum_payments.DAYS_ENTRY_PAYMENT - sum_payments.DAYS_INSTALMENT\n",
    "sum_payments['DBD'] = sum_payments.DAYS_INSTALMENT - sum_payments.DAYS_ENTRY_PAYMENT\n",
    "    \n",
    "# turn negatives into 0\n",
    "sum_payments['DPD'] = sum_payments['DPD'].map(lambda x: x if x > 0 else 0)\n",
    "sum_payments['DBD'] = sum_payments['DBD'].map(lambda x: x if x > 0 else 0)\n"
   ]
  },
  {
   "cell_type": "code",
   "execution_count": null,
   "id": "accessible-criterion",
   "metadata": {},
   "outputs": [],
   "source": [
    "sum_payments.isnull().any()"
   ]
  },
  {
   "cell_type": "code",
   "execution_count": null,
   "id": "maritime-fluid",
   "metadata": {},
   "outputs": [],
   "source": [
    "sum_payments = sum_payments.select_dtypes('number').groupby('SK_ID_CURR') \\\n",
    "                .agg(agg_func)\n",
    "sum_payments.columns = [\"_\".join(x) for x in sum_payments.columns.ravel()]"
   ]
  },
  {
   "cell_type": "code",
   "execution_count": null,
   "id": "mental-chain",
   "metadata": {},
   "outputs": [],
   "source": [
    "sum_payments.columns"
   ]
  },
  {
   "cell_type": "code",
   "execution_count": null,
   "id": "fifteen-location",
   "metadata": {},
   "outputs": [],
   "source": [
    "sum_payments['NUM_INSTALMENT_VERSION_std'] = sum_payments['NUM_INSTALMENT_VERSION_std'].fillna(0)\n",
    "sum_payments['NUM_INSTALMENT_NUMBER_std'] = sum_payments['NUM_INSTALMENT_NUMBER_std'].fillna(0)\n",
    "sum_payments['DAYS_INSTALMENT_std'] = sum_payments['DAYS_INSTALMENT_std'].fillna(0)\n",
    "sum_payments['DAYS_ENTRY_PAYMENT_std'] = sum_payments['DAYS_ENTRY_PAYMENT_std'].fillna(0)\n",
    "sum_payments['AMT_INSTALMENT_std'] = sum_payments['AMT_INSTALMENT_std'].fillna(0)\n",
    "sum_payments['AMT_PAYMENT_std'] = sum_payments['AMT_PAYMENT_std'].fillna(0)\n",
    "sum_payments['PAYMENT_PERC_std'] = sum_payments['PAYMENT_PERC_std'].fillna(0)\n",
    "sum_payments['PAYMENT_DIFF_std'] = sum_payments['PAYMENT_DIFF_std'].fillna(0)\n",
    "sum_payments['DPD_std'] = sum_payments['DPD_std'].fillna(0)\n",
    "sum_payments['DBD_std'] = sum_payments['DBD_std'].fillna(0)"
   ]
  },
  {
   "cell_type": "code",
   "execution_count": null,
   "id": "corrected-collectible",
   "metadata": {},
   "outputs": [],
   "source": [
    "# check overlaps with bureau_balance on the SK_ID_CURR\n",
    "np.intersect1d(cc_balance.SK_ID_PREV.to_arrow().to_pylist(), pc_balance.SK_ID_PREV.to_arrow().to_pylist())"
   ]
  },
  {
   "cell_type": "code",
   "execution_count": null,
   "id": "coral-positive",
   "metadata": {},
   "outputs": [],
   "source": [
    "np.intersect1d(cc_balance.SK_ID_PREV.to_arrow().to_pylist(), payments.SK_ID_PREV.to_arrow().to_pylist())"
   ]
  },
  {
   "cell_type": "code",
   "execution_count": null,
   "id": "automatic-covering",
   "metadata": {},
   "outputs": [],
   "source": [
    "cc_balance[cc_balance['SK_ID_PREV']==1000018]"
   ]
  },
  {
   "cell_type": "code",
   "execution_count": null,
   "id": "liberal-thesaurus",
   "metadata": {},
   "outputs": [],
   "source": [
    "payments[payments['SK_ID_PREV']==1000018]"
   ]
  },
  {
   "cell_type": "code",
   "execution_count": null,
   "id": "geological-doubt",
   "metadata": {},
   "outputs": [],
   "source": [
    "np.intersect1d(pc_balance.SK_ID_PREV.to_arrow().to_pylist(), payments.SK_ID_PREV.to_arrow().to_pylist())"
   ]
  },
  {
   "cell_type": "markdown",
   "id": "driving-adaptation",
   "metadata": {},
   "source": [
    "I think my hypothesis the behaviour data is for different types of transactions is wrong. Can revisit if there is time otherwise lets fillnas to 0 then continue to modelling for now"
   ]
  },
  {
   "cell_type": "markdown",
   "id": "verified-correspondence",
   "metadata": {},
   "source": [
    "### Explore Prev"
   ]
  },
  {
   "cell_type": "code",
   "execution_count": null,
   "id": "removed-aggregate",
   "metadata": {},
   "outputs": [],
   "source": [
    "import pandas as pd"
   ]
  },
  {
   "cell_type": "code",
   "execution_count": null,
   "id": "arctic-rachel",
   "metadata": {},
   "outputs": [],
   "source": [
    "prev = pd.read_parquet('raw_data/prev.parquet')"
   ]
  },
  {
   "cell_type": "code",
   "execution_count": null,
   "id": "municipal-climate",
   "metadata": {},
   "outputs": [],
   "source": [
    "from feature_engineering import process_prev"
   ]
  },
  {
   "cell_type": "code",
   "execution_count": null,
   "id": "alike-stamp",
   "metadata": {},
   "outputs": [],
   "source": [
    "sum_prev = process_prev(prev, agg_func)"
   ]
  },
  {
   "cell_type": "code",
   "execution_count": null,
   "id": "personal-johns",
   "metadata": {},
   "outputs": [],
   "source": [
    "sum_prev.isnull().any()[sum_prev.isnull().any()==True]"
   ]
  },
  {
   "cell_type": "code",
   "execution_count": null,
   "id": "stainless-radio",
   "metadata": {},
   "outputs": [],
   "source": [
    "len(sum_prev.isnull().any()[sum_prev.isnull().any()==True].index)"
   ]
  },
  {
   "cell_type": "markdown",
   "id": "elegant-cornwall",
   "metadata": {},
   "source": [
    "## Exploring training frame"
   ]
  },
  {
   "cell_type": "code",
   "execution_count": null,
   "id": "spoken-carter",
   "metadata": {},
   "outputs": [],
   "source": [
    "import pandas as pd\n",
    "train = pd.read_parquet('raw_data/train.parquet')\n",
    "test = pd.read_parquet('raw_data/test.parquet')\n",
    "\n",
    "train_target = train['TARGET']\n",
    "unified = pd.concat([train.drop('TARGET', axis=1), test])\n",
    "unified.NAME_TYPE_SUITE"
   ]
  },
  {
   "cell_type": "code",
   "execution_count": null,
   "id": "exciting-hierarchy",
   "metadata": {},
   "outputs": [],
   "source": []
  },
  {
   "cell_type": "code",
   "execution_count": null,
   "id": "soviet-refrigerator",
   "metadata": {},
   "outputs": [],
   "source": [
    "train = dd.read_parquet('raw_data/train.parquet')\n",
    "test = dd.read_parquet('raw_data/test.parquet')\n",
    "\n",
    "train_target = train['TARGET']\n",
    "unified = dd.concat([train.drop('TARGET', axis=1), test])"
   ]
  },
  {
   "cell_type": "code",
   "execution_count": null,
   "id": "criminal-relationship",
   "metadata": {},
   "outputs": [],
   "source": [
    "unified.EMERGENCYSTATE_MODE.unique()"
   ]
  },
  {
   "cell_type": "code",
   "execution_count": null,
   "id": "received-reset",
   "metadata": {},
   "outputs": [],
   "source": [
    "from feature_engineering import process_unified"
   ]
  },
  {
   "cell_type": "code",
   "execution_count": null,
   "id": "viral-georgia",
   "metadata": {},
   "outputs": [],
   "source": [
    "unified = process_unified(unified)"
   ]
  },
  {
   "cell_type": "code",
   "execution_count": null,
   "id": "difficult-export",
   "metadata": {},
   "outputs": [],
   "source": [
    "unified.isnull().any()[unified.isnull().any()==True].index"
   ]
  },
  {
   "cell_type": "code",
   "execution_count": null,
   "id": "professional-birthday",
   "metadata": {},
   "outputs": [],
   "source": [
    "np.median(unified['YEARS_BUILD_AVG'])"
   ]
  },
  {
   "cell_type": "code",
   "execution_count": null,
   "id": "original-television",
   "metadata": {},
   "outputs": [],
   "source": [
    "unified.AMT_REQ_CREDIT_BUREAU_YEAR.unique()"
   ]
  },
  {
   "cell_type": "markdown",
   "id": "engaging-nicaragua",
   "metadata": {},
   "source": [
    "## Exploring merged nulls"
   ]
  },
  {
   "cell_type": "code",
   "execution_count": 2,
   "id": "collect-ending",
   "metadata": {},
   "outputs": [],
   "source": [
    "train_feats = dd.read_parquet('data_eng/feats/train_feats.parquet')"
   ]
  },
  {
   "cell_type": "code",
   "execution_count": 3,
   "id": "varying-combine",
   "metadata": {},
   "outputs": [
    {
     "data": {
      "text/plain": [
       "[]"
      ]
     },
     "execution_count": 3,
     "metadata": {},
     "output_type": "execute_result"
    }
   ],
   "source": [
    "train_feats.isnull().any()[train_feats.isnull().any()==True].index.to_arrow().tolist()"
   ]
  }
 ],
 "metadata": {
  "kernelspec": {
   "display_name": "Python [conda env:rapids]",
   "language": "python",
   "name": "conda-env-rapids-py"
  },
  "language_info": {
   "codemirror_mode": {
    "name": "ipython",
    "version": 3
   },
   "file_extension": ".py",
   "mimetype": "text/x-python",
   "name": "python",
   "nbconvert_exporter": "python",
   "pygments_lexer": "ipython3",
   "version": "3.8.8"
  }
 },
 "nbformat": 4,
 "nbformat_minor": 5
}
