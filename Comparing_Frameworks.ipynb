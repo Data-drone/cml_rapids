{
 "cells": [
  {
   "cell_type": "markdown",
   "id": "advisory-england",
   "metadata": {},
   "source": [
    "# Advanced Feature Engineering"
   ]
  },
  {
   "cell_type": "markdown",
   "id": "magnetic-discussion",
   "metadata": {},
   "source": [
    "In this notebook we will look at advanced feature engineering and compare pandas and cudf in this"
   ]
  },
  {
   "cell_type": "markdown",
   "id": "accompanied-leader",
   "metadata": {},
   "source": [
    "## RAPIDS cuDF"
   ]
  },
  {
   "cell_type": "code",
   "execution_count": 1,
   "id": "stone-grave",
   "metadata": {},
   "outputs": [],
   "source": [
    "from feature_engineering_2 import process_unified, process_bureau_and_balance, process_previous_applications\n",
    "import cudf as dd\n",
    "import gc"
   ]
  },
  {
   "cell_type": "code",
   "execution_count": 2,
   "id": "contained-necklace",
   "metadata": {},
   "outputs": [],
   "source": [
    "%load_ext autoreload\n",
    "%autoreload 2"
   ]
  },
  {
   "cell_type": "code",
   "execution_count": 3,
   "id": "possible-ghost",
   "metadata": {},
   "outputs": [
    {
     "name": "stdout",
     "output_type": "stream",
     "text": [
      "CPU times: user 1.35 s, sys: 357 ms, total: 1.71 s\n",
      "Wall time: 1.73 s\n"
     ]
    },
    {
     "data": {
      "text/plain": [
       "0"
      ]
     },
     "execution_count": 3,
     "metadata": {},
     "output_type": "execute_result"
    }
   ],
   "source": [
    "%%time\n",
    "bureau_balance = dd.read_parquet('raw_data/bureau_balance.parquet')\n",
    "bureau = dd.read_parquet('raw_data/bureau.parquet')\n",
    "cc_balance = dd.read_parquet('raw_data/cc_balance.parquet')\n",
    "payments = dd.read_parquet('raw_data/payments.parquet')\n",
    "pc_balance = dd.read_parquet('raw_data/pc_balance.parquet')\n",
    "prev = dd.read_parquet('raw_data/prev.parquet')\n",
    "train = dd.read_parquet('raw_data/train.parquet')\n",
    "test = dd.read_parquet('raw_data/test.parquet')\n",
    "\n",
    "train_index = train.index\n",
    "test_index = test.index\n",
    "\n",
    "train_target = train['TARGET']\n",
    "unified = dd.concat([train.drop('TARGET', axis=1), test])\n",
    "\n",
    "del(train)\n",
    "del(test)\n",
    "gc.collect()"
   ]
  },
  {
   "cell_type": "code",
   "execution_count": 4,
   "id": "surface-completion",
   "metadata": {},
   "outputs": [
    {
     "name": "stdout",
     "output_type": "stream",
     "text": [
      "CPU times: user 1.5 s, sys: 778 ms, total: 2.28 s\n",
      "Wall time: 2.3 s\n"
     ]
    }
   ],
   "source": [
    "%%time\n",
    "\n",
    "unified_feat = process_unified(unified, dd)\n",
    "\n",
    "bureau_agg = process_bureau_and_balance(bureau, bureau_balance, dd)\n",
    "\n",
    "unified_feat = unified_feat.join(bureau_agg, how='left', on='SK_ID_CURR')\n",
    "\n",
    "# we can't use bool column types in xgb later on\n",
    "bool_columns = [col for col in unified_feat.columns if (unified_feat[col].dtype in ['bool']) ]    \n",
    "unified_feat[bool_columns] = unified_feat[bool_columns].astype('int64')\n",
    "\n",
    "train_feats = unified_feat.loc[train_index].merge(train_target, how='left', \n",
    "                                               left_index=True, right_index=True)\n",
    "test_feats = unified_feat.loc[test_index]"
   ]
  },
  {
   "cell_type": "code",
   "execution_count": 5,
   "id": "adult-queue",
   "metadata": {},
   "outputs": [
    {
     "name": "stdout",
     "output_type": "stream",
     "text": [
      "CPU times: user 389 ms, sys: 195 ms, total: 584 ms\n",
      "Wall time: 584 ms\n"
     ]
    }
   ],
   "source": [
    "%%time\n",
    "train_feats.to_parquet('data_eng/feats/train_feats.parquet')\n",
    "test_feats.to_parquet('data_eng/feats/test_feats.parquet')"
   ]
  },
  {
   "cell_type": "markdown",
   "id": "saving-appreciation",
   "metadata": {},
   "source": [
    "## Pandas"
   ]
  },
  {
   "cell_type": "code",
   "execution_count": 7,
   "id": "medical-table",
   "metadata": {},
   "outputs": [],
   "source": [
    "from feature_engineering_2 import process_unified, process_bureau_and_balance\n",
    "import pandas as dd\n",
    "import gc"
   ]
  },
  {
   "cell_type": "code",
   "execution_count": 8,
   "id": "congressional-transcription",
   "metadata": {},
   "outputs": [
    {
     "name": "stdout",
     "output_type": "stream",
     "text": [
      "CPU times: user 5.26 s, sys: 4.22 s, total: 9.48 s\n",
      "Wall time: 5.08 s\n"
     ]
    },
    {
     "data": {
      "text/plain": [
       "0"
      ]
     },
     "execution_count": 8,
     "metadata": {},
     "output_type": "execute_result"
    }
   ],
   "source": [
    "%%time\n",
    "bureau_balance = dd.read_parquet('raw_data/bureau_balance.parquet')\n",
    "bureau = dd.read_parquet('raw_data/bureau.parquet')\n",
    "cc_balance = dd.read_parquet('raw_data/cc_balance.parquet')\n",
    "payments = dd.read_parquet('raw_data/payments.parquet')\n",
    "pc_balance = dd.read_parquet('raw_data/pc_balance.parquet')\n",
    "prev = dd.read_parquet('raw_data/prev.parquet')\n",
    "train = dd.read_parquet('raw_data/train.parquet')\n",
    "test = dd.read_parquet('raw_data/test.parquet')\n",
    "\n",
    "train_index = train.index\n",
    "test_index = test.index\n",
    "\n",
    "train_target = train['TARGET']\n",
    "unified = dd.concat([train.drop('TARGET', axis=1), test])\n",
    "\n",
    "del(train)\n",
    "del(test)\n",
    "gc.collect()"
   ]
  },
  {
   "cell_type": "code",
   "execution_count": 9,
   "id": "upper-creek",
   "metadata": {},
   "outputs": [],
   "source": [
    "# fix for the process functions not working with columns of type `category`\n",
    "bureau_balance['STATUS'] = bureau_balance['STATUS'].astype('object') \n",
    "bureau['CREDIT_ACTIVE'] = bureau['CREDIT_ACTIVE'].astype('object')\n",
    "bureau['CREDIT_CURRENCY'] = bureau['CREDIT_CURRENCY'].astype('object')"
   ]
  },
  {
   "cell_type": "code",
   "execution_count": 10,
   "id": "given-petite",
   "metadata": {},
   "outputs": [
    {
     "name": "stdout",
     "output_type": "stream",
     "text": [
      "CPU times: user 8.85 s, sys: 1.45 s, total: 10.3 s\n",
      "Wall time: 10.3 s\n"
     ]
    }
   ],
   "source": [
    "%%time\n",
    "\n",
    "unified_feat = process_unified(unified, dd)\n",
    "\n",
    "bureau_agg = process_bureau_and_balance(bureau, bureau_balance, dd)\n",
    "\n",
    "unified_feat = unified_feat.join(bureau_agg, how='left', on='SK_ID_CURR')\n",
    "\n",
    "# we can't use bool column types in xgb later on\n",
    "bool_columns = [col for col in unified_feat.columns if (unified_feat[col].dtype in ['bool']) ]    \n",
    "unified_feat[bool_columns] = unified_feat[bool_columns].astype('int64')\n",
    "\n",
    "train_feats = unified_feat.loc[train_index].merge(train_target, how='left', \n",
    "                                               left_index=True, right_index=True)\n",
    "test_feats = unified_feat.loc[test_index]"
   ]
  },
  {
   "cell_type": "code",
   "execution_count": 11,
   "id": "political-recruitment",
   "metadata": {},
   "outputs": [
    {
     "name": "stdout",
     "output_type": "stream",
     "text": [
      "CPU times: user 2.79 s, sys: 147 ms, total: 2.94 s\n",
      "Wall time: 2.31 s\n"
     ]
    }
   ],
   "source": [
    "%%time\n",
    "train_feats.to_parquet('data_eng/feats/train_feats.parquet')\n",
    "test_feats.to_parquet('data_eng/feats/test_feats.parquet')"
   ]
  }
 ],
 "metadata": {
  "kernelspec": {
   "display_name": "Python [conda env:rapids]",
   "language": "python",
   "name": "conda-env-rapids-py"
  },
  "language_info": {
   "codemirror_mode": {
    "name": "ipython",
    "version": 3
   },
   "file_extension": ".py",
   "mimetype": "text/x-python",
   "name": "python",
   "nbconvert_exporter": "python",
   "pygments_lexer": "ipython3",
   "version": "3.8.8"
  }
 },
 "nbformat": 4,
 "nbformat_minor": 5
}
