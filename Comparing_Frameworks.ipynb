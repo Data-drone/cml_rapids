{
 "cells": [
  {
   "cell_type": "markdown",
   "id": "continuing-analyst",
   "metadata": {},
   "source": [
    "# Advanced Feature Engineering"
   ]
  },
  {
   "cell_type": "markdown",
   "id": "developing-ukraine",
   "metadata": {},
   "source": [
    "In this notebook we will look at advanced feature engineering and compare pandas and cudf in this"
   ]
  },
  {
   "cell_type": "markdown",
   "id": "designing-ensemble",
   "metadata": {},
   "source": [
    "## RAPIDS cuDF"
   ]
  },
  {
   "cell_type": "code",
   "execution_count": 1,
   "id": "enabling-bargain",
   "metadata": {},
   "outputs": [],
   "source": [
    "from feature_engineering_2 import (\n",
    "    pos_cash, process_unified, process_bureau_and_balance, \n",
    "    process_previous_applications, installments_payments,\n",
    "    credit_card_balance\n",
    "    )\n",
    "import cudf as xd\n",
    "import gc\n",
    "import numpy as np\n",
    "import pandas as pd"
   ]
  },
  {
   "cell_type": "code",
   "execution_count": 2,
   "id": "d27d4faf-f5a1-490b-bfc9-4f62504af911",
   "metadata": {},
   "outputs": [],
   "source": [
    "xd.set_allocator(pool=True, initial_pool_size=14e9) # roughly 14GB pool"
   ]
  },
  {
   "cell_type": "code",
   "execution_count": 3,
   "id": "bright-dutch",
   "metadata": {},
   "outputs": [],
   "source": [
    "%load_ext autoreload\n",
    "%autoreload 2"
   ]
  },
  {
   "cell_type": "code",
   "execution_count": 4,
   "id": "printable-agreement",
   "metadata": {},
   "outputs": [
    {
     "name": "stdout",
     "output_type": "stream",
     "text": [
      "CPU times: user 794 ms, sys: 268 ms, total: 1.06 s\n",
      "Wall time: 1.06 s\n"
     ]
    },
    {
     "data": {
      "text/plain": [
       "19"
      ]
     },
     "execution_count": 4,
     "metadata": {},
     "output_type": "execute_result"
    }
   ],
   "source": [
    "%%time\n",
    "bureau_balance = xd.read_parquet('raw_data/bureau_balance.parquet')\n",
    "bureau = xd.read_parquet('raw_data/bureau.parquet')\n",
    "cc_balance = xd.read_parquet('raw_data/cc_balance.parquet')\n",
    "payments = xd.read_parquet('raw_data/payments.parquet')\n",
    "pc_balance = xd.read_parquet('raw_data/pc_balance.parquet')\n",
    "prev = xd.read_parquet('raw_data/prev.parquet')\n",
    "train = xd.read_parquet('raw_data/train.parquet')\n",
    "test = xd.read_parquet('raw_data/test.parquet')\n",
    "\n",
    "train_index = train.index\n",
    "test_index = test.index\n",
    "\n",
    "train_target = train['TARGET']\n",
    "unified = xd.concat([train.drop('TARGET', axis=1), test])\n",
    "\n",
    "del(train)\n",
    "del(test)\n",
    "gc.collect()"
   ]
  },
  {
   "cell_type": "code",
   "execution_count": 5,
   "id": "typical-offer",
   "metadata": {},
   "outputs": [
    {
     "name": "stdout",
     "output_type": "stream",
     "text": [
      "CPU times: user 4.21 s, sys: 779 ms, total: 4.98 s\n",
      "Wall time: 5.05 s\n"
     ]
    }
   ],
   "source": [
    "%%time\n",
    "\n",
    "unified_feat = process_unified(unified, xd)\n",
    "\n",
    "bureau_agg = process_bureau_and_balance(bureau, bureau_balance, xd)\n",
    "del unified, bureau, bureau_balance\n",
    "\n",
    "prev_agg = process_previous_applications(prev, xd)\n",
    "pos_agg = pos_cash(pc_balance, xd)\n",
    "ins_agg = installments_payments(payments, xd)\n",
    "cc_agg = credit_card_balance(cc_balance, xd)\n",
    "\n",
    "del prev, pc_balance, payments, cc_balance\n",
    "gc.collect()\n",
    "\n",
    "unified_feat = unified_feat.join(bureau_agg, how='left', on='SK_ID_CURR') \\\n",
    "    .join(prev_agg, how='left', on='SK_ID_CURR') \\\n",
    "    .join(pos_agg, how='left', on='SK_ID_CURR') \\\n",
    "    .join(ins_agg, how='left', on='SK_ID_CURR') \\\n",
    "    .join(cc_agg, how='left', on='SK_ID_CURR')\n",
    "\n",
    "del bureau_agg, prev_agg, pos_agg, ins_agg, cc_agg\n",
    "gc.collect()\n",
    "\n",
    "# we can't use bool column types in xgb later on\n",
    "bool_columns = [col for col in unified_feat.columns if (unified_feat[col].dtype in ['bool']) ]    \n",
    "unified_feat[bool_columns] = unified_feat[bool_columns].astype('int64')\n",
    "\n",
    "# We will label encode for xgb later on\n",
    "from sklearn.preprocessing import LabelEncoder\n",
    "# label encode cats\n",
    "label_encode_dict = {}\n",
    "\n",
    "categorical = unified_feat.select_dtypes(include=pd.CategoricalDtype).columns \n",
    "for column in categorical:\n",
    "    label_encode_dict[column] = LabelEncoder()\n",
    "    unified_feat[column] =  label_encode_dict[column].fit_transform(unified_feat[column])\n",
    "    unified_feat[column] = unified_feat[column].astype('int64')\n",
    "\n",
    "### Fix for Int64D\n",
    "Int64D = unified_feat.select_dtypes(include=[pd.Int64Dtype]).columns\n",
    "unified_feat[Int64D] = unified_feat[Int64D].fillna(0)\n",
    "unified_feat[Int64D] = unified_feat[Int64D].astype('int64')\n",
    "\n",
    "### fix unit8\n",
    "uint8 = unified_feat.select_dtypes(include=['uint8']).columns\n",
    "unified_feat[uint8] = unified_feat[uint8].astype('int64')\n",
    "\n",
    "#unified_feat.replace([np.inf, -np.inf], np.nan, inplace=True)\n",
    "na_cols = unified_feat.isna().any()[unified_feat.isna().any()==True].index.to_arrow().to_pylist()\n",
    "unified_feat[na_cols] = unified_feat[na_cols].fillna(0)\n",
    "\n",
    "train_feats = unified_feat.loc[train_index].merge(train_target, how='left', \n",
    "                                               left_index=True, right_index=True)\n",
    "test_feats = unified_feat.loc[test_index]"
   ]
  },
  {
   "cell_type": "code",
   "execution_count": 6,
   "id": "certain-miami",
   "metadata": {},
   "outputs": [
    {
     "name": "stdout",
     "output_type": "stream",
     "text": [
      "CPU times: user 748 ms, sys: 292 ms, total: 1.04 s\n",
      "Wall time: 1.04 s\n"
     ]
    }
   ],
   "source": [
    "%%time\n",
    "train_feats.to_parquet('data_eng/feats/train_feats.parquet')\n",
    "del train_feats\n",
    "\n",
    "test_feats.to_parquet('data_eng/feats/test_feats.parquet')"
   ]
  },
  {
   "cell_type": "markdown",
   "id": "important-stylus",
   "metadata": {},
   "source": [
    "## Pandas"
   ]
  },
  {
   "cell_type": "code",
   "execution_count": 7,
   "id": "central-corrections",
   "metadata": {},
   "outputs": [],
   "source": [
    "from feature_engineering_2 import process_unified, process_bureau_and_balance\n",
    "import pandas as xd\n",
    "import gc"
   ]
  },
  {
   "cell_type": "code",
   "execution_count": 8,
   "id": "grave-lunch",
   "metadata": {},
   "outputs": [
    {
     "name": "stdout",
     "output_type": "stream",
     "text": [
      "CPU times: user 6.25 s, sys: 4.63 s, total: 10.9 s\n",
      "Wall time: 7.57 s\n"
     ]
    },
    {
     "data": {
      "text/plain": [
       "0"
      ]
     },
     "execution_count": 8,
     "metadata": {},
     "output_type": "execute_result"
    }
   ],
   "source": [
    "%%time\n",
    "bureau_balance = xd.read_parquet('raw_data/bureau_balance.parquet')\n",
    "bureau = xd.read_parquet('raw_data/bureau.parquet')\n",
    "cc_balance = xd.read_parquet('raw_data/cc_balance.parquet')\n",
    "payments = xd.read_parquet('raw_data/payments.parquet')\n",
    "pc_balance = xd.read_parquet('raw_data/pc_balance.parquet')\n",
    "prev = xd.read_parquet('raw_data/prev.parquet')\n",
    "train = xd.read_parquet('raw_data/train.parquet')\n",
    "test = xd.read_parquet('raw_data/test.parquet')\n",
    "\n",
    "train_index = train.index\n",
    "test_index = test.index\n",
    "\n",
    "train_target = train['TARGET']\n",
    "unified = xd.concat([train.drop('TARGET', axis=1), test])\n",
    "\n",
    "del(train)\n",
    "del(test)\n",
    "gc.collect()"
   ]
  },
  {
   "cell_type": "code",
   "execution_count": 9,
   "id": "precious-pepper",
   "metadata": {},
   "outputs": [],
   "source": [
    "# fix for the process functions not working with columns of type `category`\n",
    "bureau_balance['STATUS'] = bureau_balance['STATUS'].astype('object') \n",
    "bureau['CREDIT_ACTIVE'] = bureau['CREDIT_ACTIVE'].astype('object')\n",
    "bureau['CREDIT_CURRENCY'] = bureau['CREDIT_CURRENCY'].astype('object')\n",
    "\n",
    "prev['NAME_CONTRACT_STATUS'] = prev['NAME_CONTRACT_STATUS'].astype('object')"
   ]
  },
  {
   "cell_type": "code",
   "execution_count": 10,
   "id": "experimental-adams",
   "metadata": {},
   "outputs": [
    {
     "name": "stdout",
     "output_type": "stream",
     "text": [
      "CPU times: user 47.8 s, sys: 9.15 s, total: 56.9 s\n",
      "Wall time: 56.9 s\n"
     ]
    }
   ],
   "source": [
    "%%time\n",
    "\n",
    "unified_feat = process_unified(unified, xd)\n",
    "\n",
    "bureau_agg = process_bureau_and_balance(bureau, bureau_balance, xd)\n",
    "\n",
    "prev_agg = process_previous_applications(prev, xd)\n",
    "pos_agg = pos_cash(pc_balance, xd)\n",
    "ins_agg = installments_payments(payments, xd)\n",
    "cc_agg = credit_card_balance(cc_balance, xd)\n",
    "\n",
    "unified_feat = unified_feat.join(bureau_agg, how='left', on='SK_ID_CURR') \\\n",
    "    .join(prev_agg, how='left', on='SK_ID_CURR') \\\n",
    "    .join(pos_agg, how='left', on='SK_ID_CURR') \\\n",
    "    .join(ins_agg, how='left', on='SK_ID_CURR') \\\n",
    "    .join(cc_agg, how='left', on='SK_ID_CURR')\n",
    "\n",
    "# we can't use bool column types in xgb later on\n",
    "bool_columns = [col for col in unified_feat.columns if (unified_feat[col].dtype in ['bool']) ]    \n",
    "unified_feat[bool_columns] = unified_feat[bool_columns].astype('int64')\n",
    "\n",
    "# We will label encode for xgb later on\n",
    "from sklearn.preprocessing import LabelEncoder\n",
    "# label encode cats\n",
    "label_encode_dict = {}\n",
    "\n",
    "categorical = unified_feat.select_dtypes(include=pd.CategoricalDtype).columns \n",
    "for column in categorical:\n",
    "    label_encode_dict[column] = LabelEncoder()\n",
    "    unified_feat[column] =  label_encode_dict[column].fit_transform(unified_feat[column])\n",
    "    unified_feat[column] = unified_feat[column].astype('int64')\n",
    "\n",
    "### Fix for Int64D\n",
    "Int64D = unified_feat.select_dtypes(include=[pd.Int64Dtype]).columns\n",
    "unified_feat[Int64D] = unified_feat[Int64D].fillna(0)\n",
    "unified_feat[Int64D] = unified_feat[Int64D].astype('int64')\n",
    "\n",
    "### fix unit8\n",
    "uint8 = unified_feat.select_dtypes(include=['uint8']).columns\n",
    "unified_feat[uint8] = unified_feat[uint8].astype('int64')\n",
    "\n",
    "nan_columns = unified_feat.columns[unified_feat.isna().any()].tolist()\n",
    "unified_feat.replace([np.inf, -np.inf], np.nan, inplace=True)\n",
    "unified_feat[nan_columns] = unified_feat[nan_columns].fillna(0)\n",
    "\n",
    "train_feats = unified_feat.loc[train_index].merge(train_target, how='left', \n",
    "                                               left_index=True, right_index=True)\n",
    "test_feats = unified_feat.loc[test_index]"
   ]
  },
  {
   "cell_type": "code",
   "execution_count": 11,
   "id": "packed-rescue",
   "metadata": {},
   "outputs": [
    {
     "name": "stdout",
     "output_type": "stream",
     "text": [
      "CPU times: user 5.72 s, sys: 315 ms, total: 6.04 s\n",
      "Wall time: 5.39 s\n"
     ]
    }
   ],
   "source": [
    "%%time\n",
    "train_feats.to_parquet('data_eng/feats/train_feats.parquet')\n",
    "test_feats.to_parquet('data_eng/feats/test_feats.parquet')"
   ]
  }
 ],
 "metadata": {
  "kernelspec": {
   "display_name": "Python 3",
   "language": "python",
   "name": "python3"
  },
  "language_info": {
   "codemirror_mode": {
    "name": "ipython",
    "version": 3
   },
   "file_extension": ".py",
   "mimetype": "text/x-python",
   "name": "python",
   "nbconvert_exporter": "python",
   "pygments_lexer": "ipython3",
   "version": "3.8.10"
  }
 },
 "nbformat": 4,
 "nbformat_minor": 5
}
