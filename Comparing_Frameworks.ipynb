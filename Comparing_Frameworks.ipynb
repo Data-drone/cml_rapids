{
 "cells": [
  {
   "cell_type": "markdown",
   "id": "adjusted-blackjack",
   "metadata": {},
   "source": [
    "# Feature Engineering with cudf"
   ]
  },
  {
   "cell_type": "code",
   "execution_count": null,
   "id": "dated-blocking",
   "metadata": {},
   "outputs": [],
   "source": [
    "from feature_engineering import feature_engineering\n",
    "import cudf as dd"
   ]
  },
  {
   "cell_type": "code",
   "execution_count": null,
   "id": "bigger-target",
   "metadata": {},
   "outputs": [],
   "source": [
    "import gc"
   ]
  },
  {
   "cell_type": "code",
   "execution_count": null,
   "id": "ceramic-communication",
   "metadata": {},
   "outputs": [],
   "source": [
    "bureau_balance = dd.read_parquet('raw_data/bureau_balance.parquet')\n",
    "bureau = dd.read_parquet('raw_data/bureau.parquet')\n",
    "cc_balance = dd.read_parquet('raw_data/cc_balance.parquet')\n",
    "payments = dd.read_parquet('raw_data/payments.parquet')\n",
    "pc_balance = dd.read_parquet('raw_data/pc_balance.parquet')\n",
    "prev = dd.read_parquet('raw_data/prev.parquet')\n",
    "train = dd.read_parquet('raw_data/train.parquet')\n",
    "test = dd.read_parquet('raw_data/test.parquet')"
   ]
  },
  {
   "cell_type": "code",
   "execution_count": null,
   "id": "careful-stevens",
   "metadata": {},
   "outputs": [],
   "source": [
    "train.shape"
   ]
  },
  {
   "cell_type": "code",
   "execution_count": null,
   "id": "iraqi-token",
   "metadata": {},
   "outputs": [],
   "source": [
    "test.shape"
   ]
  },
  {
   "cell_type": "code",
   "execution_count": null,
   "id": "critical-sustainability",
   "metadata": {},
   "outputs": [],
   "source": [
    "train_target = train['TARGET']\n",
    "unified = dd.concat([train.drop('TARGET', axis=1), test])"
   ]
  },
  {
   "cell_type": "code",
   "execution_count": null,
   "id": "interested-verification",
   "metadata": {},
   "outputs": [],
   "source": [
    "unified.shape"
   ]
  },
  {
   "cell_type": "code",
   "execution_count": null,
   "id": "asian-least",
   "metadata": {},
   "outputs": [],
   "source": [
    "del(train)\n",
    "del(test)\n",
    "gc.collect()"
   ]
  },
  {
   "cell_type": "code",
   "execution_count": null,
   "id": "downtown-gambling",
   "metadata": {},
   "outputs": [],
   "source": [
    "unified_feat = \\\n",
    "    feature_engineering(bureau_balance, bureau, cc_balance, payments, pc_balance, \n",
    "                        prev, unified)"
   ]
  },
  {
   "cell_type": "code",
   "execution_count": null,
   "id": "funky-floor",
   "metadata": {},
   "outputs": [],
   "source": [
    "del(avg_bureau)\n",
    "del(sum_cc_balance)\n",
    "del(sum_payments)\n",
    "del(sum_pc_balance)\n",
    "del(sum_prev)"
   ]
  },
  {
   "cell_type": "code",
   "execution_count": null,
   "id": "neutral-stress",
   "metadata": {},
   "outputs": [],
   "source": [
    "train_feats = unified_feat.iloc[:307511].merge(train_target, how='left', \n",
    "                                               left_index=True, right_index=True)"
   ]
  },
  {
   "cell_type": "code",
   "execution_count": null,
   "id": "behind-avatar",
   "metadata": {},
   "outputs": [],
   "source": [
    "test_feats = unified_feat.iloc[307511:]"
   ]
  },
  {
   "cell_type": "code",
   "execution_count": null,
   "id": "nonprofit-albany",
   "metadata": {},
   "outputs": [],
   "source": [
    "train_feats[['TARGET', 'CODE_GENDER']].groupby('TARGET').count()"
   ]
  },
  {
   "cell_type": "code",
   "execution_count": null,
   "id": "derived-functionality",
   "metadata": {},
   "outputs": [],
   "source": [
    "train_feats.to_parquet('data_eng/feats/train_feats.parquet')\n",
    "test_feats.to_parquet('data_eng/feats/test_feats.parquet')"
   ]
  },
  {
   "cell_type": "markdown",
   "id": "cardiac-makeup",
   "metadata": {},
   "source": [
    "# Testing with cu-dask"
   ]
  },
  {
   "cell_type": "code",
   "execution_count": 1,
   "id": "light-closure",
   "metadata": {},
   "outputs": [],
   "source": [
    "#cudf load\n",
    "from dask_cuda import LocalCUDACluster\n",
    "cluster=LocalCUDACluster(n_workers=2, threads_per_worker=6 )#, protocol=\"ucx\", enable_tcp_over_ucx=True, enable_nvlink=True,\n",
    "                        #rmm_pool_size=\"7GB\", device_memory_limit=\"30GB\")"
   ]
  },
  {
   "cell_type": "markdown",
   "id": "cleared-royal",
   "metadata": {},
   "source": [
    "NOTE: enter proxy/8787/status to get the dask dashboard - issue with kernels / conda / juypter"
   ]
  },
  {
   "cell_type": "code",
   "execution_count": 2,
   "id": "labeled-hazard",
   "metadata": {},
   "outputs": [
    {
     "data": {
      "text/html": [
       "<table style=\"border: 2px solid white;\">\n",
       "<tr>\n",
       "<td style=\"vertical-align: top; border: 0px solid white\">\n",
       "<h3 style=\"text-align: left;\">Client</h3>\n",
       "<ul style=\"text-align: left; list-style: none; margin: 0; padding: 0;\">\n",
       "  <li><b>Scheduler: </b>tcp://127.0.0.1:35911</li>\n",
       "  <li><b>Dashboard: </b><a href='http://127.0.0.1:8787/status' target='_blank'>http://127.0.0.1:8787/status</a></li>\n",
       "</ul>\n",
       "</td>\n",
       "<td style=\"vertical-align: top; border: 0px solid white\">\n",
       "<h3 style=\"text-align: left;\">Cluster</h3>\n",
       "<ul style=\"text-align: left; list-style:none; margin: 0; padding: 0;\">\n",
       "  <li><b>Workers: </b>2</li>\n",
       "  <li><b>Cores: </b>12</li>\n",
       "  <li><b>Memory: </b>125.63 GiB</li>\n",
       "</ul>\n",
       "</td>\n",
       "</tr>\n",
       "</table>"
      ],
      "text/plain": [
       "<Client: 'tcp://127.0.0.1:35911' processes=2 threads=12, memory=125.63 GiB>"
      ]
     },
     "execution_count": 2,
     "metadata": {},
     "output_type": "execute_result"
    }
   ],
   "source": [
    "from dask.distributed import Client\n",
    "#import dask.dataframe as dd\n",
    "client = Client(cluster)\n",
    "client"
   ]
  },
  {
   "cell_type": "code",
   "execution_count": null,
   "id": "difficult-syria",
   "metadata": {},
   "outputs": [],
   "source": [
    "# when using ucx then we need something more?\n",
    "# client.close()\n",
    "client.close()"
   ]
  },
  {
   "cell_type": "code",
   "execution_count": null,
   "id": "freelance-macintosh",
   "metadata": {},
   "outputs": [],
   "source": [
    "client.shutdown()"
   ]
  },
  {
   "cell_type": "code",
   "execution_count": 3,
   "id": "informative-corps",
   "metadata": {},
   "outputs": [],
   "source": [
    "import cudf as dd\n",
    "import dask_cudf as dc\n",
    "import gc"
   ]
  },
  {
   "cell_type": "code",
   "execution_count": 4,
   "id": "diagnostic-guinea",
   "metadata": {},
   "outputs": [],
   "source": [
    "### Load Data\n",
    "bureau_balance = dc.read_parquet('raw_data/bureau_balance.parquet')\n",
    "bureau = dc.read_parquet('raw_data/bureau.parquet')\n",
    "cc_balance = dc.read_parquet('raw_data/cc_balance.parquet')\n",
    "payments = dc.read_parquet('raw_data/payments.parquet')\n",
    "pc_balance = dc.read_parquet('raw_data/pc_balance.parquet')\n",
    "prev = dc.read_parquet('raw_data/prev.parquet')\n",
    "train = dd.read_parquet('raw_data/train.parquet')\n",
    "test = dd.read_parquet('raw_data/test.parquet')\n",
    "\n",
    "train_target = dc.from_cudf(train['TARGET'], npartitions=2)\n",
    "unified = dd.concat([train.drop('TARGET', axis=1), test])\n",
    "\n",
    "train_index = train.index.to_arrow().tolist()\n",
    "test_index = test.index.to_arrow().tolist()\n",
    "\n",
    "unified_dask = dc.from_cudf(unified, npartitions=2)\n",
    "\n",
    "#del(train)\n",
    "#del(test)\n",
    "#del(unified)\n",
    "#gc.collect()\n"
   ]
  },
  {
   "cell_type": "markdown",
   "id": "incorporated-finger",
   "metadata": {},
   "source": [
    "DEBUG SUM PAYMENTS"
   ]
  },
  {
   "cell_type": "code",
   "execution_count": null,
   "id": "copyrighted-attack",
   "metadata": {},
   "outputs": [],
   "source": [
    "agg_func = ['mean', 'max', 'min', 'sum', 'std']"
   ]
  },
  {
   "cell_type": "code",
   "execution_count": null,
   "id": "static-shield",
   "metadata": {},
   "outputs": [],
   "source": [
    "payments['DAYS_ENTRY_PAYMENT'] = payments['DAYS_ENTRY_PAYMENT'].fillna(0)\n",
    "payments['AMT_PAYMENT'] = payments['AMT_PAYMENT'].fillna(0)\n",
    "## Buld Payments\n",
    "sum_payments = payments.drop('SK_ID_PREV', axis=1)\n",
    "sum_payments['PAYMENT_PERC'] = sum_payments.AMT_PAYMENT / sum_payments.AMT_INSTALMENT\n",
    "sum_payments['PAYMENT_PERC'] = sum_payments['PAYMENT_PERC'].fillna(0)\n",
    "sum_payments['PAYMENT_DIFF'] = sum_payments.AMT_INSTALMENT - sum_payments.AMT_PAYMENT\n",
    "sum_payments['DPD'] = sum_payments.DAYS_ENTRY_PAYMENT - sum_payments.DAYS_INSTALMENT\n",
    "sum_payments['DBD'] = sum_payments.DAYS_INSTALMENT - sum_payments.DAYS_ENTRY_PAYMENT\n",
    "\n",
    "# turn negatives into 0\n",
    "sum_payments['DPD'] = sum_payments['DPD'].map(lambda x: x if x > 0 else 0)\n",
    "sum_payments['DBD'] = sum_payments['DBD'].map(lambda x: x if x > 0 else 0)\n",
    "\n",
    "sum_payments = sum_payments.select_dtypes('number').groupby('SK_ID_CURR') \\\n",
    "            .agg(agg_func)\n",
    "sum_payments.columns = [\"_\".join(x) for x in sum_payments.columns.ravel()]\n",
    "\n",
    "sum_payments['NUM_INSTALMENT_VERSION_std'] = sum_payments['NUM_INSTALMENT_VERSION_std'].fillna(0)\n",
    "sum_payments['NUM_INSTALMENT_NUMBER_std'] = sum_payments['NUM_INSTALMENT_NUMBER_std'].fillna(0)\n",
    "sum_payments['DAYS_INSTALMENT_std'] = sum_payments['DAYS_INSTALMENT_std'].fillna(0)\n",
    "sum_payments['DAYS_ENTRY_PAYMENT_std'] = sum_payments['DAYS_ENTRY_PAYMENT_std'].fillna(0)\n",
    "sum_payments['AMT_INSTALMENT_std'] = sum_payments['AMT_INSTALMENT_std'].fillna(0)\n",
    "sum_payments['AMT_PAYMENT_std'] = sum_payments['AMT_PAYMENT_std'].fillna(0)\n",
    "sum_payments['PAYMENT_PERC_std'] = sum_payments['PAYMENT_PERC_std'].fillna(0)\n",
    "sum_payments['PAYMENT_DIFF_std'] = sum_payments['PAYMENT_DIFF_std'].fillna(0)\n",
    "sum_payments['DPD_std'] = sum_payments['DPD_std'].fillna(0)\n",
    "sum_payments['DBD_std'] = sum_payments['DBD_std'].fillna(0)"
   ]
  },
  {
   "cell_type": "code",
   "execution_count": null,
   "id": "exact-experience",
   "metadata": {},
   "outputs": [],
   "source": [
    "sum_payments.to_parquet('test')"
   ]
  },
  {
   "cell_type": "markdown",
   "id": "mediterranean-polymer",
   "metadata": {},
   "source": [
    "### Debug"
   ]
  },
  {
   "cell_type": "code",
   "execution_count": 5,
   "id": "clean-commissioner",
   "metadata": {},
   "outputs": [],
   "source": [
    "from feature_engineering_adv import *"
   ]
  },
  {
   "cell_type": "code",
   "execution_count": 6,
   "id": "legendary-gospel",
   "metadata": {},
   "outputs": [
    {
     "name": "stdout",
     "output_type": "stream",
     "text": [
      "procecssing bureau balance\n"
     ]
    }
   ],
   "source": [
    "agg_func = ['mean', 'max', 'min', 'sum', 'std']\n",
    "print(\"procecssing bureau balance\")\n",
    "avg_bbalance = process_bureau_balance(bureau_balance, agg_func)"
   ]
  },
  {
   "cell_type": "code",
   "execution_count": null,
   "id": "international-admission",
   "metadata": {},
   "outputs": [],
   "source": [
    "#avg_bbalance.columns"
   ]
  },
  {
   "cell_type": "code",
   "execution_count": null,
   "id": "dedicated-position",
   "metadata": {},
   "outputs": [],
   "source": [
    "print(\"procecssing bureau\")\n",
    "## Build Avg Bureau table\n",
    "avg_bureau = process_bureau(bureau, avg_bbalance)"
   ]
  },
  {
   "cell_type": "code",
   "execution_count": null,
   "id": "stuffed-device",
   "metadata": {},
   "outputs": [],
   "source": [
    "#avg_bureau.columns"
   ]
  },
  {
   "cell_type": "code",
   "execution_count": null,
   "id": "generous-shape",
   "metadata": {},
   "outputs": [],
   "source": [
    "print(\"procecssing cc balance\")\n",
    "\n",
    "sum_cc_balance = process_cc_balance(cc_balance, agg_func)"
   ]
  },
  {
   "cell_type": "code",
   "execution_count": null,
   "id": "determined-destination",
   "metadata": {},
   "outputs": [],
   "source": [
    "print(\"procecssing payments\")\n",
    "\n",
    "sum_payments = process_payments(payments, agg_func)"
   ]
  },
  {
   "cell_type": "code",
   "execution_count": null,
   "id": "japanese-mortgage",
   "metadata": {},
   "outputs": [],
   "source": [
    "sum_payments.head(10)"
   ]
  },
  {
   "cell_type": "code",
   "execution_count": null,
   "id": "knowing-dispatch",
   "metadata": {},
   "outputs": [],
   "source": []
  },
  {
   "cell_type": "code",
   "execution_count": 7,
   "id": "current-address",
   "metadata": {},
   "outputs": [
    {
     "name": "stdout",
     "output_type": "stream",
     "text": [
      "process unified dataset\n"
     ]
    }
   ],
   "source": [
    "print(\"process unified dataset\")\n",
    "\n",
    "unified = process_unified(unified_dask)"
   ]
  },
  {
   "cell_type": "code",
   "execution_count": null,
   "id": "executed-apple",
   "metadata": {},
   "outputs": [],
   "source": [
    "feats = unified \\\n",
    "    .merge(avg_bureau, how='left', left_index=True, right_index=True) \\\n",
    "    .merge(sum_cc_balance, how='left', left_index=True, right_index=True) \\\n",
    "    .merge(sum_payments, how='left', left_index=True, right_index=True)"
   ]
  },
  {
   "cell_type": "code",
   "execution_count": 8,
   "id": "expected-works",
   "metadata": {},
   "outputs": [],
   "source": [
    "tt = unified\n",
    "for col in tt.select_dtypes('category').columns.tolist():\n",
    "    tt[col] = tt[col].astype('object')\n",
    "    \n",
    "tt.to_parquet('test')"
   ]
  },
  {
   "cell_type": "code",
   "execution_count": null,
   "id": "absolute-strike",
   "metadata": {},
   "outputs": [],
   "source": [
    "del(tt)\n",
    "gc.collect()"
   ]
  },
  {
   "cell_type": "code",
   "execution_count": null,
   "id": "fatal-wiring",
   "metadata": {},
   "outputs": [],
   "source": [
    "print(\"procecssing cc balance\")\n",
    "\n",
    "sum_cc_balance = process_cc_balance(cc_balance, agg_func)\n"
   ]
  },
  {
   "cell_type": "code",
   "execution_count": null,
   "id": "complicated-browse",
   "metadata": {},
   "outputs": [],
   "source": [
    "payments['DAYS_ENTRY_PAYMENT'] = payments['DAYS_ENTRY_PAYMENT'].fillna(0)\n",
    "payments['AMT_PAYMENT'] = payments['AMT_PAYMENT'].fillna(0)\n",
    "\n",
    "    ## Buld Payments\n",
    "sum_payments = payments.drop('SK_ID_PREV', axis=1)\n",
    "sum_payments['PAYMENT_PERC'] = sum_payments.AMT_PAYMENT / sum_payments.AMT_INSTALMENT\n",
    "sum_payments['PAYMENT_PERC'] = sum_payments['PAYMENT_PERC'].fillna(0)\n",
    "sum_payments['PAYMENT_DIFF'] = sum_payments.AMT_INSTALMENT - sum_payments.AMT_PAYMENT\n",
    "sum_payments['DPD'] = sum_payments.DAYS_ENTRY_PAYMENT - sum_payments.DAYS_INSTALMENT\n",
    "sum_payments['DBD'] = sum_payments.DAYS_INSTALMENT - sum_payments.DAYS_ENTRY_PAYMENT\n",
    "    \n",
    "sum_payments['DPD'] = sum_payments['DPD'].map(lambda x: x if x > 0 else 0)\n",
    "sum_payments['DBD'] = sum_payments['DBD'].map(lambda x: x if x > 0 else 0)"
   ]
  },
  {
   "cell_type": "code",
   "execution_count": null,
   "id": "greek-spelling",
   "metadata": {},
   "outputs": [],
   "source": [
    "sum_payments = sum_payments.select_dtypes('number').groupby('SK_ID_CURR') \\\n",
    "                .agg(agg_func)"
   ]
  },
  {
   "cell_type": "code",
   "execution_count": null,
   "id": "separate-findings",
   "metadata": {},
   "outputs": [],
   "source": [
    "sum_payments.columns = [\"_\".join(x) for x in sum_payments.columns.ravel()]"
   ]
  },
  {
   "cell_type": "code",
   "execution_count": null,
   "id": "separate-tobago",
   "metadata": {},
   "outputs": [],
   "source": [
    "test = sum_payments.compute() #.head(10)"
   ]
  },
  {
   "cell_type": "code",
   "execution_count": null,
   "id": "otherwise-scout",
   "metadata": {},
   "outputs": [],
   "source": []
  },
  {
   "cell_type": "code",
   "execution_count": null,
   "id": "arbitrary-assault",
   "metadata": {},
   "outputs": [],
   "source": [
    "print(\"procecssing payments\")\n",
    "\n",
    "sum_payments = process_payments(payments, agg_func)"
   ]
  },
  {
   "cell_type": "markdown",
   "id": "homeless-mistake",
   "metadata": {},
   "source": [
    "### End Break"
   ]
  },
  {
   "cell_type": "code",
   "execution_count": null,
   "id": "prompt-brighton",
   "metadata": {},
   "outputs": [],
   "source": [
    "del(feature_engineering)"
   ]
  },
  {
   "cell_type": "code",
   "execution_count": null,
   "id": "rational-providence",
   "metadata": {},
   "outputs": [],
   "source": [
    "from feature_engineering_adv import feature_engineering"
   ]
  },
  {
   "cell_type": "code",
   "execution_count": null,
   "id": "behavioral-outline",
   "metadata": {},
   "outputs": [],
   "source": [
    "unified_feat = feature_engineering(bureau_balance,\n",
    "        bureau, cc_balance, payments, pc_balance,\n",
    "        prev, unified_dask, dc, checks=False)"
   ]
  },
  {
   "cell_type": "code",
   "execution_count": null,
   "id": "senior-pearl",
   "metadata": {},
   "outputs": [],
   "source": [
    "unified_dask.to_parquet('test')"
   ]
  },
  {
   "cell_type": "code",
   "execution_count": null,
   "id": "underlying-patrol",
   "metadata": {},
   "outputs": [],
   "source": [
    "train_feats = unified_feat.loc[train_index] #.merge(train_target, how='left', left_index=True, right_index=True)\n",
    "test_feats = unified_feat.loc[test_index]"
   ]
  },
  {
   "cell_type": "code",
   "execution_count": null,
   "id": "american-european",
   "metadata": {},
   "outputs": [],
   "source": [
    "unified_feat #.head(10)"
   ]
  },
  {
   "cell_type": "code",
   "execution_count": null,
   "id": "altered-albany",
   "metadata": {},
   "outputs": [],
   "source": [
    "from dask import dataframe as daskd"
   ]
  },
  {
   "cell_type": "code",
   "execution_count": null,
   "id": "reserved-placement",
   "metadata": {},
   "outputs": [],
   "source": [
    "\n",
    "#avg_bureau.to_parquet(path='data_eng/avg_bureau')\n",
    "#sum_cc_balance.to_parquet(path='data_eng/sum_cc_balance')\n",
    "#sum_payments.to_parquet(path='data_eng/sum_payments')\n",
    "#sum_pc_balance.to_parquet(path='data_eng/sum_pc_balance')\n",
    "#sum_prev.to_parquet(path='data_eng/sum_prev')\n",
    "\n",
    "train_feats.to_parquet('data_eng/feats/train_feats.parquet')\n",
    "test_feats.to_parquet('data_eng/feats/test_feats.parquet')\n"
   ]
  },
  {
   "cell_type": "code",
   "execution_count": null,
   "id": "multiple-kingston",
   "metadata": {},
   "outputs": [],
   "source": [
    "client.shutdown()"
   ]
  }
 ],
 "metadata": {
  "kernelspec": {
   "display_name": "Python [conda env:rapids]",
   "language": "python",
   "name": "conda-env-rapids-py"
  },
  "language_info": {
   "codemirror_mode": {
    "name": "ipython",
    "version": 3
   },
   "file_extension": ".py",
   "mimetype": "text/x-python",
   "name": "python",
   "nbconvert_exporter": "python",
   "pygments_lexer": "ipython3",
   "version": "3.8.8"
  }
 },
 "nbformat": 4,
 "nbformat_minor": 5
}
