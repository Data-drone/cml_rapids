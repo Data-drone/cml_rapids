{
 "cells": [
  {
   "cell_type": "markdown",
   "id": "distinct-conditions",
   "metadata": {},
   "source": [
    "# Feature Engineering with cudf"
   ]
  },
  {
   "cell_type": "code",
   "execution_count": 1,
   "id": "affiliated-uruguay",
   "metadata": {},
   "outputs": [],
   "source": [
    "from feature_engineering import feature_engineering\n",
    "import cudf as dd"
   ]
  },
  {
   "cell_type": "code",
   "execution_count": 6,
   "id": "delayed-eugene",
   "metadata": {},
   "outputs": [],
   "source": [
    "import gc"
   ]
  },
  {
   "cell_type": "code",
   "execution_count": 2,
   "id": "outstanding-andorra",
   "metadata": {},
   "outputs": [],
   "source": [
    "bureau_balance = dd.read_parquet('raw_data/bureau_balance.parquet')\n",
    "bureau = dd.read_parquet('raw_data/bureau.parquet')\n",
    "cc_balance = dd.read_parquet('raw_data/cc_balance.parquet')\n",
    "payments = dd.read_parquet('raw_data/payments.parquet')\n",
    "pc_balance = dd.read_parquet('raw_data/pc_balance.parquet')\n",
    "prev = dd.read_parquet('raw_data/prev.parquet')\n",
    "train = dd.read_parquet('raw_data/train.parquet')\n",
    "test = dd.read_parquet('raw_data/test.parquet')"
   ]
  },
  {
   "cell_type": "code",
   "execution_count": 3,
   "id": "forward-vietnam",
   "metadata": {},
   "outputs": [
    {
     "data": {
      "text/plain": [
       "(307511, 121)"
      ]
     },
     "execution_count": 3,
     "metadata": {},
     "output_type": "execute_result"
    }
   ],
   "source": [
    "train.shape"
   ]
  },
  {
   "cell_type": "code",
   "execution_count": 5,
   "id": "tropical-conspiracy",
   "metadata": {},
   "outputs": [
    {
     "data": {
      "text/plain": [
       "(48744, 120)"
      ]
     },
     "execution_count": 5,
     "metadata": {},
     "output_type": "execute_result"
    }
   ],
   "source": [
    "test.shape"
   ]
  },
  {
   "cell_type": "code",
   "execution_count": 4,
   "id": "indonesian-prompt",
   "metadata": {},
   "outputs": [],
   "source": [
    "train_target = train['TARGET']\n",
    "unified = dd.concat([train.drop('TARGET', axis=1), test])"
   ]
  },
  {
   "cell_type": "code",
   "execution_count": 11,
   "id": "governmental-revelation",
   "metadata": {},
   "outputs": [
    {
     "data": {
      "text/plain": [
       "(356255, 120)"
      ]
     },
     "execution_count": 11,
     "metadata": {},
     "output_type": "execute_result"
    }
   ],
   "source": [
    "unified.shape"
   ]
  },
  {
   "cell_type": "code",
   "execution_count": 7,
   "id": "functioning-isolation",
   "metadata": {},
   "outputs": [
    {
     "data": {
      "text/plain": [
       "51"
      ]
     },
     "execution_count": 7,
     "metadata": {},
     "output_type": "execute_result"
    }
   ],
   "source": [
    "del(train)\n",
    "del(test)\n",
    "gc.collect()"
   ]
  },
  {
   "cell_type": "code",
   "execution_count": 8,
   "id": "durable-ethiopia",
   "metadata": {},
   "outputs": [
    {
     "name": "stdout",
     "output_type": "stream",
     "text": [
      "procecssing bureau balance\n",
      "procecssing cc balance\n",
      "procecssing bureau\n",
      "procecssing payments\n",
      "processing pc_balance\n",
      "processing prev table\n",
      "merging feats into train and test - part1\n",
      "extra feats\n",
      "feats done\n"
     ]
    }
   ],
   "source": [
    "avg_bureau, sum_cc_balance, sum_payments, sum_pc_balance, sum_prev, unified_feat = \\\n",
    "    feature_engineering(bureau_balance, bureau, cc_balance, payments, pc_balance, \n",
    "                        prev, unified)"
   ]
  },
  {
   "cell_type": "code",
   "execution_count": 20,
   "id": "driven-kitchen",
   "metadata": {},
   "outputs": [],
   "source": [
    "del(avg_bureau)\n",
    "del(sum_cc_balance)\n",
    "del(sum_payments)\n",
    "del(sum_pc_balance)\n",
    "del(sum_prev)"
   ]
  },
  {
   "cell_type": "code",
   "execution_count": 23,
   "id": "important-underground",
   "metadata": {},
   "outputs": [],
   "source": [
    "train_feats = unified_feat.iloc[:307511].merge(train_target, how='left', \n",
    "                                               left_index=True, right_index=True)"
   ]
  },
  {
   "cell_type": "code",
   "execution_count": 22,
   "id": "fancy-kinase",
   "metadata": {},
   "outputs": [],
   "source": [
    "test_feats = unified_feat.iloc[307511:]"
   ]
  },
  {
   "cell_type": "code",
   "execution_count": 26,
   "id": "supreme-onion",
   "metadata": {},
   "outputs": [
    {
     "data": {
      "text/html": [
       "<div>\n",
       "<style scoped>\n",
       "    .dataframe tbody tr th:only-of-type {\n",
       "        vertical-align: middle;\n",
       "    }\n",
       "\n",
       "    .dataframe tbody tr th {\n",
       "        vertical-align: top;\n",
       "    }\n",
       "\n",
       "    .dataframe thead th {\n",
       "        text-align: right;\n",
       "    }\n",
       "</style>\n",
       "<table border=\"1\" class=\"dataframe\">\n",
       "  <thead>\n",
       "    <tr style=\"text-align: right;\">\n",
       "      <th></th>\n",
       "      <th>CODE_GENDER</th>\n",
       "    </tr>\n",
       "    <tr>\n",
       "      <th>TARGET</th>\n",
       "      <th></th>\n",
       "    </tr>\n",
       "  </thead>\n",
       "  <tbody>\n",
       "    <tr>\n",
       "      <th>0</th>\n",
       "      <td>277216</td>\n",
       "    </tr>\n",
       "    <tr>\n",
       "      <th>1</th>\n",
       "      <td>24375</td>\n",
       "    </tr>\n",
       "  </tbody>\n",
       "</table>\n",
       "</div>"
      ],
      "text/plain": [
       "        CODE_GENDER\n",
       "TARGET             \n",
       "0            277216\n",
       "1             24375"
      ]
     },
     "execution_count": 26,
     "metadata": {},
     "output_type": "execute_result"
    }
   ],
   "source": [
    "train_feats[['TARGET', 'CODE_GENDER']].groupby('TARGET').count()"
   ]
  },
  {
   "cell_type": "code",
   "execution_count": 27,
   "id": "identified-architect",
   "metadata": {},
   "outputs": [],
   "source": [
    "train_feats.to_parquet('data_eng/feats/train_feats.parquet')\n",
    "test_feats.to_parquet('data_eng/feats/test_feats.parquet')"
   ]
  },
  {
   "cell_type": "markdown",
   "id": "covered-structure",
   "metadata": {},
   "source": [
    "# Testing with cu-dask"
   ]
  },
  {
   "cell_type": "code",
   "execution_count": null,
   "id": "dimensional-light",
   "metadata": {},
   "outputs": [],
   "source": [
    "#cudf load\n",
    "from dask_cuda import LocalCUDACluster\n",
    "cluster=LocalCUDACluster()"
   ]
  },
  {
   "cell_type": "markdown",
   "id": "careful-sugar",
   "metadata": {},
   "source": [
    "NOTE: enter proxy/8787/status to get the dask dashboard - issue with kernels / conda / juypter"
   ]
  },
  {
   "cell_type": "code",
   "execution_count": null,
   "id": "experimental-spectacular",
   "metadata": {},
   "outputs": [],
   "source": [
    "from dask.distributed import Client\n",
    "#import dask.dataframe as dd\n",
    "client = Client(cluster)\n",
    "client"
   ]
  },
  {
   "cell_type": "code",
   "execution_count": null,
   "id": "spiritual-privilege",
   "metadata": {},
   "outputs": [],
   "source": [
    "client.id"
   ]
  },
  {
   "cell_type": "code",
   "execution_count": null,
   "id": "ultimate-chancellor",
   "metadata": {},
   "outputs": [],
   "source": [
    "client.shutdown()"
   ]
  },
  {
   "cell_type": "markdown",
   "id": "excellent-interference",
   "metadata": {},
   "source": [
    "## Temp Debug"
   ]
  },
  {
   "cell_type": "code",
   "execution_count": null,
   "id": "urban-lucas",
   "metadata": {},
   "outputs": [],
   "source": [
    "type(sum_prev)"
   ]
  },
  {
   "cell_type": "markdown",
   "id": "anticipated-melissa",
   "metadata": {},
   "source": [
    "### Loading our previous test data"
   ]
  },
  {
   "cell_type": "code",
   "execution_count": null,
   "id": "working-mainstream",
   "metadata": {},
   "outputs": [],
   "source": [
    "## reload our parquet\n",
    "avg_bureau = dd.read_parquet('data_eng/avg_bureau')\n",
    "sum_cc_balance = dd.read_parquet(path='data_eng/sum_cc_balance') # index\n",
    "sum_payments = dd.read_parquet(path='data_eng/sum_payments')\n",
    "sum_pc_balance = dd.read_parquet(path='data_eng/sum_pc_balance') # index\n",
    "sum_prev = dd.read_parquet(path='data_eng/sum_prev') # index\n",
    "train = dd.read_csv('data/application_train.csv')"
   ]
  },
  {
   "cell_type": "code",
   "execution_count": null,
   "id": "regional-requirement",
   "metadata": {},
   "outputs": [],
   "source": [
    "train.SK_ID_CURR.isnull().any().compute()"
   ]
  },
  {
   "cell_type": "code",
   "execution_count": null,
   "id": "federal-genome",
   "metadata": {},
   "outputs": [],
   "source": [
    "# Merging the dataframes\n",
    "## Lets try and merge everything with dask this time\n",
    "train_feat_1 = train.drop('TARGET', axis=1) \\\n",
    "    .merge(sum_prev, how='left', left_on='SK_ID_CURR', right_index=True) #\\\n",
    "    #.drop('SK_ID_CURR', axis=1) \n",
    "    "
   ]
  },
  {
   "cell_type": "code",
   "execution_count": null,
   "id": "wanted-grove",
   "metadata": {},
   "outputs": [],
   "source": [
    "    .merge(avg_bureau, how='left', left_on='SK_ID_CURR', right_on='SK_ID_CURR') \\\n",
    "    .merge(sum_cc_balance, how='left', left_on='SK_ID_CURR', right_index=True) #\\\n",
    "    .merge(sum_payments, how='left', left_on='SK_ID_CURR', right_on='SK_ID_CURR') \\\n",
    "    .merge(sum_pc_balance, how='left', left_on='SK_ID_CURR', right_index=True) #\\\n",
    "    "
   ]
  },
  {
   "cell_type": "code",
   "execution_count": null,
   "id": "working-phase",
   "metadata": {},
   "outputs": [],
   "source": [
    "train_feat_1.SK_ID_CURR.isnull().any().compute()\n",
    "#.head(10)"
   ]
  },
  {
   "cell_type": "code",
   "execution_count": null,
   "id": "floppy-council",
   "metadata": {},
   "outputs": [],
   "source": [
    "train_feat_1.SK_ID_CURR.isnull().count().compute()\n",
    "#train_feat_1.SK_ID_CURR.head(10)"
   ]
  },
  {
   "cell_type": "code",
   "execution_count": null,
   "id": "sharing-static",
   "metadata": {},
   "outputs": [],
   "source": [
    "train_feat_1.head(10)"
   ]
  },
  {
   "cell_type": "code",
   "execution_count": null,
   "id": "departmental-allah",
   "metadata": {},
   "outputs": [],
   "source": [
    "client.shutdown()"
   ]
  }
 ],
 "metadata": {
  "kernelspec": {
   "display_name": "Python [conda env:rapids]",
   "language": "python",
   "name": "conda-env-rapids-py"
  },
  "language_info": {
   "codemirror_mode": {
    "name": "ipython",
    "version": 3
   },
   "file_extension": ".py",
   "mimetype": "text/x-python",
   "name": "python",
   "nbconvert_exporter": "python",
   "pygments_lexer": "ipython3",
   "version": "3.8.8"
  }
 },
 "nbformat": 4,
 "nbformat_minor": 5
}
