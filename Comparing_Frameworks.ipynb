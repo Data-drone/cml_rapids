{
 "cells": [
  {
   "cell_type": "markdown",
   "id": "canadian-brick",
   "metadata": {},
   "source": [
    "# Advanced Feature Engineering"
   ]
  },
  {
   "cell_type": "markdown",
   "id": "fuzzy-modern",
   "metadata": {},
   "source": [
    "In this notebook we will look at advanced feature engineering and compare pandas and cudf in this"
   ]
  },
  {
   "cell_type": "markdown",
   "id": "middle-career",
   "metadata": {},
   "source": [
    "## RAPIDS cuDF"
   ]
  },
  {
   "cell_type": "code",
   "execution_count": 14,
   "id": "attended-crossing",
   "metadata": {},
   "outputs": [],
   "source": [
    "from feature_engineering_2 import (\n",
    "    pos_cash, process_unified, process_bureau_and_balance, \n",
    "    process_previous_applications, installments_payments,\n",
    "    credit_card_balance\n",
    "    )\n",
    "import cudf as dd\n",
    "import gc\n",
    "import numpy as np\n",
    "import pandas as pd"
   ]
  },
  {
   "cell_type": "code",
   "execution_count": 15,
   "id": "intense-cursor",
   "metadata": {},
   "outputs": [],
   "source": [
    "# this allows for overflow of gpu ram to normal ram and hence avoid Out of Memory Errors\n",
    "dd.set_allocator(\"managed\")"
   ]
  },
  {
   "cell_type": "code",
   "execution_count": 16,
   "id": "multiple-american",
   "metadata": {},
   "outputs": [
    {
     "name": "stdout",
     "output_type": "stream",
     "text": [
      "The autoreload extension is already loaded. To reload it, use:\n",
      "  %reload_ext autoreload\n"
     ]
    }
   ],
   "source": [
    "%load_ext autoreload\n",
    "%autoreload 2"
   ]
  },
  {
   "cell_type": "code",
   "execution_count": 21,
   "id": "choice-source",
   "metadata": {},
   "outputs": [
    {
     "name": "stdout",
     "output_type": "stream",
     "text": [
      "CPU times: user 1.33 s, sys: 255 ms, total: 1.58 s\n",
      "Wall time: 1.58 s\n"
     ]
    },
    {
     "data": {
      "text/plain": [
       "0"
      ]
     },
     "execution_count": 21,
     "metadata": {},
     "output_type": "execute_result"
    }
   ],
   "source": [
    "%%time\n",
    "bureau_balance = dd.read_parquet('raw_data/bureau_balance.parquet')\n",
    "bureau = dd.read_parquet('raw_data/bureau.parquet')\n",
    "cc_balance = dd.read_parquet('raw_data/cc_balance.parquet')\n",
    "payments = dd.read_parquet('raw_data/payments.parquet')\n",
    "pc_balance = dd.read_parquet('raw_data/pc_balance.parquet')\n",
    "prev = dd.read_parquet('raw_data/prev.parquet')\n",
    "train = dd.read_parquet('raw_data/train.parquet')\n",
    "test = dd.read_parquet('raw_data/test.parquet')\n",
    "\n",
    "train_index = train.index\n",
    "test_index = test.index\n",
    "\n",
    "train_target = train['TARGET']\n",
    "unified = dd.concat([train.drop('TARGET', axis=1), test])\n",
    "\n",
    "del(train)\n",
    "del(test)\n",
    "gc.collect()"
   ]
  },
  {
   "cell_type": "code",
   "execution_count": 48,
   "id": "recreational-digit",
   "metadata": {},
   "outputs": [
    {
     "name": "stdout",
     "output_type": "stream",
     "text": [
      "CPU times: user 13.7 s, sys: 2.37 s, total: 16.1 s\n",
      "Wall time: 16.1 s\n"
     ]
    }
   ],
   "source": [
    "%%time\n",
    "\n",
    "unified_feat = process_unified(unified, dd)\n",
    "\n",
    "bureau_agg = process_bureau_and_balance(bureau, bureau_balance, dd)\n",
    "\n",
    "prev_agg = process_previous_applications(prev, dd)\n",
    "pos_agg = pos_cash(pc_balance, dd)\n",
    "ins_agg = installments_payments(payments, dd)\n",
    "cc_agg = credit_card_balance(cc_balance, dd)\n",
    "\n",
    "unified_feat = unified_feat.join(bureau_agg, how='left', on='SK_ID_CURR') \\\n",
    "    .join(prev_agg, how='left', on='SK_ID_CURR') \\\n",
    "    .join(pos_agg, how='left', on='SK_ID_CURR') \\\n",
    "    .join(ins_agg, how='left', on='SK_ID_CURR') \\\n",
    "    .join(cc_agg, how='left', on='SK_ID_CURR')\n",
    "\n",
    "# we can't use bool column types in xgb later on\n",
    "bool_columns = [col for col in unified_feat.columns if (unified_feat[col].dtype in ['bool']) ]    \n",
    "unified_feat[bool_columns] = unified_feat[bool_columns].astype('int64')\n",
    "\n",
    "# We will label encode for xgb later on\n",
    "from sklearn.preprocessing import LabelEncoder\n",
    "# label encode cats\n",
    "label_encode_dict = {}\n",
    "\n",
    "categorical = unified_feat.select_dtypes(include=pd.CategoricalDtype).columns \n",
    "for column in categorical:\n",
    "    label_encode_dict[column] = LabelEncoder()\n",
    "    unified_feat[column] =  label_encode_dict[column].fit_transform(unified_feat[column])\n",
    "    unified_feat[column] = unified_feat[column].astype('int64')\n",
    "\n",
    "### Fix for Int64D\n",
    "Int64D = unified_feat.select_dtypes(include=[pd.Int64Dtype]).columns\n",
    "unified_feat[Int64D] = unified_feat[Int64D].fillna(0)\n",
    "unified_feat[Int64D] = unified_feat[Int64D].astype('int64')\n",
    "\n",
    "### fix unit8\n",
    "uint8 = unified_feat.select_dtypes(include=['uint8']).columns\n",
    "unified_feat[uint8] = unified_feat[uint8].astype('int64')\n",
    "\n",
    "#unified_feat.replace([np.inf, -np.inf], np.nan, inplace=True)\n",
    "na_cols = unified_feat.isna().any()[unified_feat.isna().any()==True].index.to_arrow().to_pylist()\n",
    "unified_feat[na_cols] = unified_feat[na_cols].fillna(0)\n",
    "\n",
    "train_feats = unified_feat.loc[train_index].merge(train_target, how='left', \n",
    "                                               left_index=True, right_index=True)\n",
    "test_feats = unified_feat.loc[test_index]"
   ]
  },
  {
   "cell_type": "code",
   "execution_count": 47,
   "id": "underlying-orientation",
   "metadata": {},
   "outputs": [
    {
     "name": "stdout",
     "output_type": "stream",
     "text": [
      "CPU times: user 3.65 s, sys: 437 ms, total: 4.08 s\n",
      "Wall time: 4.35 s\n"
     ]
    }
   ],
   "source": [
    "%%time\n",
    "train_feats.to_parquet('data_eng/feats/train_feats.parquet')\n",
    "test_feats.to_parquet('data_eng/feats/test_feats.parquet')"
   ]
  },
  {
   "cell_type": "markdown",
   "id": "romantic-iraqi",
   "metadata": {},
   "source": [
    "## Pandas"
   ]
  },
  {
   "cell_type": "code",
   "execution_count": 3,
   "id": "electoral-companion",
   "metadata": {},
   "outputs": [],
   "source": [
    "from feature_engineering_2 import process_unified, process_bureau_and_balance\n",
    "import pandas as dd\n",
    "import gc"
   ]
  },
  {
   "cell_type": "code",
   "execution_count": 4,
   "id": "failing-jefferson",
   "metadata": {},
   "outputs": [
    {
     "name": "stdout",
     "output_type": "stream",
     "text": [
      "CPU times: user 7.03 s, sys: 4.39 s, total: 11.4 s\n",
      "Wall time: 5.4 s\n"
     ]
    },
    {
     "data": {
      "text/plain": [
       "0"
      ]
     },
     "execution_count": 4,
     "metadata": {},
     "output_type": "execute_result"
    }
   ],
   "source": [
    "%%time\n",
    "bureau_balance = dd.read_parquet('raw_data/bureau_balance.parquet')\n",
    "bureau = dd.read_parquet('raw_data/bureau.parquet')\n",
    "cc_balance = dd.read_parquet('raw_data/cc_balance.parquet')\n",
    "payments = dd.read_parquet('raw_data/payments.parquet')\n",
    "pc_balance = dd.read_parquet('raw_data/pc_balance.parquet')\n",
    "prev = dd.read_parquet('raw_data/prev.parquet')\n",
    "train = dd.read_parquet('raw_data/train.parquet')\n",
    "test = dd.read_parquet('raw_data/test.parquet')\n",
    "\n",
    "train_index = train.index\n",
    "test_index = test.index\n",
    "\n",
    "train_target = train['TARGET']\n",
    "unified = dd.concat([train.drop('TARGET', axis=1), test])\n",
    "\n",
    "del(train)\n",
    "del(test)\n",
    "gc.collect()"
   ]
  },
  {
   "cell_type": "code",
   "execution_count": 5,
   "id": "smooth-introduction",
   "metadata": {},
   "outputs": [],
   "source": [
    "# fix for the process functions not working with columns of type `category`\n",
    "bureau_balance['STATUS'] = bureau_balance['STATUS'].astype('object') \n",
    "bureau['CREDIT_ACTIVE'] = bureau['CREDIT_ACTIVE'].astype('object')\n",
    "bureau['CREDIT_CURRENCY'] = bureau['CREDIT_CURRENCY'].astype('object')\n",
    "\n",
    "prev['NAME_CONTRACT_STATUS'] = prev['NAME_CONTRACT_STATUS'].astype('object')"
   ]
  },
  {
   "cell_type": "code",
   "execution_count": 8,
   "id": "answering-killing",
   "metadata": {},
   "outputs": [
    {
     "name": "stdout",
     "output_type": "stream",
     "text": [
      "CPU times: user 36.1 s, sys: 2 s, total: 38.1 s\n",
      "Wall time: 38.1 s\n"
     ]
    }
   ],
   "source": [
    "%%time\n",
    "\n",
    "unified_feat = process_unified(unified, dd)\n",
    "\n",
    "bureau_agg = process_bureau_and_balance(bureau, bureau_balance, dd)\n",
    "\n",
    "prev_agg = process_previous_applications(prev, dd)\n",
    "pos_agg = pos_cash(pc_balance, dd)\n",
    "ins_agg = installments_payments(payments, dd)\n",
    "cc_agg = credit_card_balance(cc_balance, dd)\n",
    "\n",
    "unified_feat = unified_feat.join(bureau_agg, how='left', on='SK_ID_CURR') \\\n",
    "    .join(prev_agg, how='left', on='SK_ID_CURR') \\\n",
    "    .join(pos_agg, how='left', on='SK_ID_CURR') \\\n",
    "    .join(ins_agg, how='left', on='SK_ID_CURR') \\\n",
    "    .join(cc_agg, how='left', on='SK_ID_CURR')\n",
    "\n",
    "# we can't use bool column types in xgb later on\n",
    "bool_columns = [col for col in unified_feat.columns if (unified_feat[col].dtype in ['bool']) ]    \n",
    "unified_feat[bool_columns] = unified_feat[bool_columns].astype('int64')\n",
    "\n",
    "# We will label encode for xgb later on\n",
    "from sklearn.preprocessing import LabelEncoder\n",
    "# label encode cats\n",
    "label_encode_dict = {}\n",
    "\n",
    "categorical = unified_feat.select_dtypes(include=pd.CategoricalDtype).columns \n",
    "for column in categorical:\n",
    "    label_encode_dict[column] = LabelEncoder()\n",
    "    unified_feat[column] =  label_encode_dict[column].fit_transform(unified_feat[column])\n",
    "    unified_feat[column] = unified_feat[column].astype('int64')\n",
    "\n",
    "### Fix for Int64D\n",
    "Int64D = unified_feat.select_dtypes(include=[pd.Int64Dtype]).columns\n",
    "unified_feat[Int64D] = unified_feat[Int64D].fillna(0)\n",
    "unified_feat[Int64D] = unified_feat[Int64D].astype('int64')\n",
    "\n",
    "### fix unit8\n",
    "uint8 = unified_feat.select_dtypes(include=['uint8']).columns\n",
    "unified_feat[uint8] = unified_feat[uint8].astype('int64')\n",
    "\n",
    "nan_columns = unified_feat.columns[unified_feat.isna().any()].tolist()\n",
    "unified_feat.replace([np.inf, -np.inf], np.nan, inplace=True)\n",
    "unified_feat[nan_columns] = unified_feat[nan_columns].fillna(0)\n",
    "\n",
    "train_feats = unified_feat.loc[train_index].merge(train_target, how='left', \n",
    "                                               left_index=True, right_index=True)\n",
    "test_feats = unified_feat.loc[test_index]"
   ]
  },
  {
   "cell_type": "code",
   "execution_count": 13,
   "id": "spare-emerald",
   "metadata": {},
   "outputs": [
    {
     "name": "stdout",
     "output_type": "stream",
     "text": [
      "CPU times: user 5.53 s, sys: 280 ms, total: 5.81 s\n",
      "Wall time: 4.83 s\n"
     ]
    }
   ],
   "source": [
    "%%time\n",
    "train_feats.to_parquet('data_eng/feats/train_feats.parquet')\n",
    "test_feats.to_parquet('data_eng/feats/test_feats.parquet')"
   ]
  }
 ],
 "metadata": {
  "kernelspec": {
   "display_name": "Python [conda env:rapids]",
   "language": "python",
   "name": "conda-env-rapids-py"
  },
  "language_info": {
   "codemirror_mode": {
    "name": "ipython",
    "version": 3
   },
   "file_extension": ".py",
   "mimetype": "text/x-python",
   "name": "python",
   "nbconvert_exporter": "python",
   "pygments_lexer": "ipython3",
   "version": "3.8.8"
  }
 },
 "nbformat": 4,
 "nbformat_minor": 5
}
