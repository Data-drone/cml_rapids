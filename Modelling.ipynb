{
 "cells": [
  {
   "cell_type": "markdown",
   "id": "opening-adapter",
   "metadata": {},
   "source": [
    "## Advanced Modelling of the Data"
   ]
  },
  {
   "cell_type": "code",
   "execution_count": 1,
   "id": "arranged-premises",
   "metadata": {},
   "outputs": [],
   "source": [
    "%load_ext autoreload\n",
    "%autoreload 2"
   ]
  },
  {
   "cell_type": "code",
   "execution_count": 2,
   "id": "arabic-stations",
   "metadata": {},
   "outputs": [],
   "source": [
    "use_gpu=True"
   ]
  },
  {
   "cell_type": "code",
   "execution_count": 3,
   "id": "white-sleeping",
   "metadata": {},
   "outputs": [],
   "source": [
    "if use_gpu:\n",
    "    import cudf as dd\n",
    "    from cuml.preprocessing.model_selection import train_test_split\n",
    "    from cuml.metrics import confusion_matrix, roc_auc_score\n",
    "else:\n",
    "    import pandas as dd\n",
    "    from sklearn.model_selection import train_test_split\n",
    "    from sklearn.metrics import confusion_matrix, roc_auc_score"
   ]
  },
  {
   "cell_type": "code",
   "execution_count": 84,
   "id": "extreme-guard",
   "metadata": {},
   "outputs": [],
   "source": [
    "# first lets reload the dataset\n",
    "# we do need to import pandas as it is also need for display max_rows \n",
    "import pandas as pd\n",
    "import cudf\n",
    "import numpy as np\n",
    "import gc\n",
    "import cupy\n",
    "import matplotlib.pyplot as plt\n",
    "%matplotlib inline"
   ]
  },
  {
   "cell_type": "code",
   "execution_count": 5,
   "id": "worldwide-interface",
   "metadata": {},
   "outputs": [],
   "source": [
    "# to avoid issues due to lack of VRAM\n",
    "if use_gpu:\n",
    "    cudf.set_allocator(\"managed\")"
   ]
  },
  {
   "cell_type": "markdown",
   "id": "green-grocery",
   "metadata": {},
   "source": [
    "## Read in the Features"
   ]
  },
  {
   "cell_type": "code",
   "execution_count": 6,
   "id": "religious-diary",
   "metadata": {},
   "outputs": [],
   "source": [
    "## testing our previous big feats table\n",
    "train = dd.read_parquet('data_eng/feats/train_feats.parquet')\n",
    "\n",
    "## test is the kaggle test set which we only need for submission \n",
    "#test = dd.read_parquet('data_eng/feats/test_feats.parquet')\n",
    "train_target = train['TARGET']\n",
    "train = train.drop('TARGET', axis =1)"
   ]
  },
  {
   "cell_type": "code",
   "execution_count": 7,
   "id": "golden-american",
   "metadata": {},
   "outputs": [
    {
     "data": {
      "text/plain": [
       "(307511, 638)"
      ]
     },
     "execution_count": 7,
     "metadata": {},
     "output_type": "execute_result"
    }
   ],
   "source": [
    "train.shape"
   ]
  },
  {
   "cell_type": "code",
   "execution_count": 8,
   "id": "defensive-technique",
   "metadata": {},
   "outputs": [
    {
     "data": {
      "text/plain": [
       "11.387150050352467"
      ]
     },
     "execution_count": 8,
     "metadata": {},
     "output_type": "execute_result"
    }
   ],
   "source": [
    "# we have an unbalanced pos to negative ratio so it will help to feed this into xgb\n",
    "ratio = (train_target == 0).sum()/ (train_target == 1).sum()\n",
    "ratio"
   ]
  },
  {
   "cell_type": "markdown",
   "id": "korean-grant",
   "metadata": {},
   "source": [
    "## Cross Validating our XGB Model"
   ]
  },
  {
   "cell_type": "markdown",
   "id": "aware-walker",
   "metadata": {},
   "source": [
    "Default train test split"
   ]
  },
  {
   "cell_type": "code",
   "execution_count": 9,
   "id": "assured-balloon",
   "metadata": {},
   "outputs": [],
   "source": [
    "X_train, X_test, y_train, y_test = train_test_split(train, train_target, \n",
    "                                                    test_size=0.3, \n",
    "                                                    random_state=42)"
   ]
  },
  {
   "cell_type": "code",
   "execution_count": 10,
   "id": "surrounded-india",
   "metadata": {},
   "outputs": [],
   "source": [
    "import xgboost as xgb\n",
    "from sklearn.model_selection import StratifiedKFold"
   ]
  },
  {
   "cell_type": "markdown",
   "id": "compact-saskatchewan",
   "metadata": {},
   "source": [
    "We use stratified KFold as the classes are heavily unbalanced. Stratified KFold makes sure that we have a same proportion of target variables (0/1) in each kfold split "
   ]
  },
  {
   "cell_type": "code",
   "execution_count": 11,
   "id": "corresponding-subject",
   "metadata": {},
   "outputs": [],
   "source": [
    "skf = StratifiedKFold()"
   ]
  },
  {
   "cell_type": "code",
   "execution_count": 12,
   "id": "checked-monitoring",
   "metadata": {},
   "outputs": [],
   "source": [
    "cv_params = {'tree_method': 'gpu_hist', 'max_depth': 6, \n",
    "             'learning_rate': 0.05, 'subsample':0.5, \n",
    "             'objective': 'binary:logistic',\n",
    "             'eval_metric':'auc', 'scale_pos_weight': ratio,\n",
    "             'gamma':0.3, 'subsample':0.5}"
   ]
  },
  {
   "cell_type": "markdown",
   "id": "included-subdivision",
   "metadata": {},
   "source": [
    "We use stratified KFold to check and see if different splits of the data produce consistant results. This is important to make sure we aren't overfitting to a particular subset of data"
   ]
  },
  {
   "cell_type": "code",
   "execution_count": 13,
   "id": "acute-mouth",
   "metadata": {},
   "outputs": [
    {
     "name": "stdout",
     "output_type": "stream",
     "text": [
      "Fold 0\n",
      "[0]\ttrain-auc:0.73321\tvalid-auc:0.71745\n",
      "[20]\ttrain-auc:0.77740\tvalid-auc:0.75342\n",
      "[40]\ttrain-auc:0.79448\tvalid-auc:0.76197\n",
      "[60]\ttrain-auc:0.80838\tvalid-auc:0.76900\n",
      "[80]\ttrain-auc:0.81995\tvalid-auc:0.77272\n",
      "[99]\ttrain-auc:0.82852\tvalid-auc:0.77489\n",
      "Fold 1\n",
      "[0]\ttrain-auc:0.73559\tvalid-auc:0.70825\n",
      "[20]\ttrain-auc:0.77842\tvalid-auc:0.74388\n",
      "[40]\ttrain-auc:0.79482\tvalid-auc:0.75355\n",
      "[60]\ttrain-auc:0.80983\tvalid-auc:0.76029\n",
      "[80]\ttrain-auc:0.82071\tvalid-auc:0.76386\n",
      "[99]\ttrain-auc:0.82961\tvalid-auc:0.76641\n",
      "Fold 2\n",
      "[0]\ttrain-auc:0.73406\tvalid-auc:0.71950\n",
      "[20]\ttrain-auc:0.77802\tvalid-auc:0.75499\n",
      "[40]\ttrain-auc:0.79453\tvalid-auc:0.76350\n",
      "[60]\ttrain-auc:0.80849\tvalid-auc:0.77025\n",
      "[80]\ttrain-auc:0.81937\tvalid-auc:0.77492\n",
      "[99]\ttrain-auc:0.82800\tvalid-auc:0.77774\n",
      "Fold 3\n",
      "[0]\ttrain-auc:0.73394\tvalid-auc:0.71491\n",
      "[20]\ttrain-auc:0.77867\tvalid-auc:0.75626\n",
      "[40]\ttrain-auc:0.79454\tvalid-auc:0.76432\n",
      "[60]\ttrain-auc:0.80924\tvalid-auc:0.77047\n",
      "[80]\ttrain-auc:0.81986\tvalid-auc:0.77462\n",
      "[99]\ttrain-auc:0.82855\tvalid-auc:0.77697\n",
      "Fold 4\n",
      "[0]\ttrain-auc:0.73572\tvalid-auc:0.71467\n",
      "[20]\ttrain-auc:0.77951\tvalid-auc:0.74824\n",
      "[40]\ttrain-auc:0.79655\tvalid-auc:0.75650\n",
      "[60]\ttrain-auc:0.81137\tvalid-auc:0.76282\n",
      "[80]\ttrain-auc:0.82144\tvalid-auc:0.76670\n",
      "[99]\ttrain-auc:0.82998\tvalid-auc:0.76970\n"
     ]
    }
   ],
   "source": [
    "for i, (train_index, test_index) in enumerate(skf.split(X_train.index.to_arrow().tolist(), \n",
    "                                                        y_train.to_arrow().tolist())):\n",
    "    print(\"Fold {0}\".format(i))\n",
    "    X_train_kf, X_valid_kf = X_train.iloc[train_index], X_train.iloc[test_index]\n",
    "    y_train_kf, y_valid_kf = y_train.iloc[train_index], y_train.iloc[test_index]\n",
    "    \n",
    "    train_matrix_kf= xgb.DMatrix(X_train_kf, label=y_train_kf)\n",
    "    val_matrix_kf = xgb.DMatrix(X_valid_kf, label=y_valid_kf)\n",
    "    \n",
    "    bst = xgb.train(params=cv_params, dtrain=train_matrix_kf, \n",
    "                evals=[(train_matrix_kf, 'train'), (val_matrix_kf, 'valid')], \n",
    "                num_boost_round=100, early_stopping_rounds=20, verbose_eval=20)"
   ]
  },
  {
   "cell_type": "code",
   "execution_count": 22,
   "id": "strange-classification",
   "metadata": {},
   "outputs": [
    {
     "data": {
      "text/plain": [
       "17"
      ]
     },
     "execution_count": 22,
     "metadata": {},
     "output_type": "execute_result"
    }
   ],
   "source": [
    "del X_train_kf, X_valid_kf\n",
    "gc.collect()"
   ]
  },
  {
   "cell_type": "code",
   "execution_count": 21,
   "id": "disturbed-cardiff",
   "metadata": {},
   "outputs": [
    {
     "data": {
      "text/plain": [
       "113"
      ]
     },
     "execution_count": 21,
     "metadata": {},
     "output_type": "execute_result"
    }
   ],
   "source": [
    "del bst, train_matrix_kf, val_matrix_kf\n",
    "gc.collect()"
   ]
  },
  {
   "cell_type": "markdown",
   "id": "romance-logging",
   "metadata": {},
   "source": [
    "Once things look a bit stable with the tuning, we will train our \"final\" model on the full dataset"
   ]
  },
  {
   "cell_type": "code",
   "execution_count": 14,
   "id": "horizontal-canada",
   "metadata": {},
   "outputs": [],
   "source": [
    "full_cv_params =  cv_params\n",
    "# a common technique is to set learning rate lower and \n",
    "# boost the num_boost_rounds for the full train\n",
    "full_cv_params['learning_rate'] = cv_params['learning_rate']/10"
   ]
  },
  {
   "cell_type": "code",
   "execution_count": 15,
   "id": "desperate-dealer",
   "metadata": {},
   "outputs": [
    {
     "name": "stdout",
     "output_type": "stream",
     "text": [
      "[0]\ttrain-auc:0.73264\tvalid-auc:0.71409\n",
      "[50]\ttrain-auc:0.76342\tvalid-auc:0.74143\n",
      "[100]\ttrain-auc:0.76780\tvalid-auc:0.74401\n",
      "[150]\ttrain-auc:0.77172\tvalid-auc:0.74643\n",
      "[200]\ttrain-auc:0.77549\tvalid-auc:0.74850\n",
      "[250]\ttrain-auc:0.77932\tvalid-auc:0.75078\n",
      "[300]\ttrain-auc:0.78314\tvalid-auc:0.75308\n",
      "[350]\ttrain-auc:0.78689\tvalid-auc:0.75513\n",
      "[400]\ttrain-auc:0.79072\tvalid-auc:0.75737\n",
      "[450]\ttrain-auc:0.79462\tvalid-auc:0.75957\n",
      "[500]\ttrain-auc:0.79835\tvalid-auc:0.76154\n",
      "[550]\ttrain-auc:0.80182\tvalid-auc:0.76344\n",
      "[600]\ttrain-auc:0.80472\tvalid-auc:0.76488\n",
      "[650]\ttrain-auc:0.80756\tvalid-auc:0.76630\n",
      "[700]\ttrain-auc:0.81034\tvalid-auc:0.76763\n",
      "[750]\ttrain-auc:0.81303\tvalid-auc:0.76885\n",
      "[800]\ttrain-auc:0.81551\tvalid-auc:0.76992\n",
      "[850]\ttrain-auc:0.81787\tvalid-auc:0.77085\n",
      "[900]\ttrain-auc:0.82010\tvalid-auc:0.77179\n",
      "[950]\ttrain-auc:0.82211\tvalid-auc:0.77252\n",
      "[999]\ttrain-auc:0.82410\tvalid-auc:0.77329\n"
     ]
    }
   ],
   "source": [
    "train_matrix = xgb.DMatrix(X_train, label=y_train)\n",
    "val_matrix = xgb.DMatrix(X_test, label=y_test)\n",
    "    \n",
    "final_bst = xgb.train(params=full_cv_params, dtrain=train_matrix, \n",
    "                evals=[(train_matrix, 'train'), (val_matrix, 'valid')], \n",
    "                num_boost_round=1000, early_stopping_rounds=20, \n",
    "                verbose_eval=50)"
   ]
  },
  {
   "cell_type": "code",
   "execution_count": 16,
   "id": "green-permission",
   "metadata": {},
   "outputs": [],
   "source": [
    "adv_y_pred = final_bst.predict(val_matrix)\n",
    "# convert to 0/1 based on threshold\n",
    "adv_y_final = np.where(adv_y_pred>0.5, 1, 0)"
   ]
  },
  {
   "cell_type": "markdown",
   "id": "polar-assault",
   "metadata": {},
   "source": [
    "# Final Assessments"
   ]
  },
  {
   "cell_type": "code",
   "execution_count": 17,
   "id": "celtic-forth",
   "metadata": {},
   "outputs": [
    {
     "name": "stderr",
     "output_type": "stream",
     "text": [
      "<ipython-input-17-3f2062bd99d2>:1: DeprecationWarning: Numeric-style type codes are deprecated and will result in an error in the future.\n",
      "  confusion_matrix(y_test, adv_y_final.astype('Int64'))\n"
     ]
    },
    {
     "data": {
      "text/html": [
       "<div>\n",
       "<style scoped>\n",
       "    .dataframe tbody tr th:only-of-type {\n",
       "        vertical-align: middle;\n",
       "    }\n",
       "\n",
       "    .dataframe tbody tr th {\n",
       "        vertical-align: top;\n",
       "    }\n",
       "\n",
       "    .dataframe thead th {\n",
       "        text-align: right;\n",
       "    }\n",
       "</style>\n",
       "<table border=\"1\" class=\"dataframe\">\n",
       "  <thead>\n",
       "    <tr style=\"text-align: right;\">\n",
       "      <th></th>\n",
       "      <th>0</th>\n",
       "      <th>1</th>\n",
       "    </tr>\n",
       "  </thead>\n",
       "  <tbody>\n",
       "    <tr>\n",
       "      <th>0</th>\n",
       "      <td>62376</td>\n",
       "      <td>22395</td>\n",
       "    </tr>\n",
       "    <tr>\n",
       "      <th>1</th>\n",
       "      <td>2457</td>\n",
       "      <td>5025</td>\n",
       "    </tr>\n",
       "  </tbody>\n",
       "</table>\n",
       "</div>"
      ],
      "text/plain": [
       "       0      1\n",
       "0  62376  22395\n",
       "1   2457   5025"
      ]
     },
     "execution_count": 17,
     "metadata": {},
     "output_type": "execute_result"
    }
   ],
   "source": [
    "confusion_matrix(y_test, adv_y_final.astype('Int64'))"
   ]
  },
  {
   "cell_type": "code",
   "execution_count": 18,
   "id": "complicated-projector",
   "metadata": {},
   "outputs": [
    {
     "data": {
      "text/plain": [
       "0.7732909321784973"
      ]
     },
     "execution_count": 18,
     "metadata": {},
     "output_type": "execute_result"
    }
   ],
   "source": [
    "roc_auc_score(y_test, adv_y_pred)"
   ]
  },
  {
   "cell_type": "markdown",
   "id": "technical-slovakia",
   "metadata": {},
   "source": [
    "## Evaluating Feature Importances\n",
    "\n",
    "Evaluating the importance of features using SHAP values"
   ]
  },
  {
   "cell_type": "code",
   "execution_count": 19,
   "id": "dangerous-speaker",
   "metadata": {},
   "outputs": [],
   "source": [
    "final_bst.set_param({\"predictor\": \"gpu_predictor\"})\n",
    "shap_values = final_bst.predict(val_matrix, pred_contribs=True)"
   ]
  },
  {
   "cell_type": "code",
   "execution_count": 48,
   "id": "recreational-wrestling",
   "metadata": {},
   "outputs": [
    {
     "data": {
      "text/plain": [
       "(92253, 638)"
      ]
     },
     "execution_count": 48,
     "metadata": {},
     "output_type": "execute_result"
    }
   ],
   "source": [
    "shap_values.shape"
   ]
  },
  {
   "cell_type": "code",
   "execution_count": 86,
   "id": "alternative-compatibility",
   "metadata": {},
   "outputs": [
    {
     "data": {
      "text/plain": [
       "numpy.ndarray"
      ]
     },
     "execution_count": 86,
     "metadata": {},
     "output_type": "execute_result"
    }
   ],
   "source": [
    "type(cupy.asnumpy(X_test.iloc[0].values))"
   ]
  },
  {
   "cell_type": "code",
   "execution_count": 74,
   "id": "corrected-scotland",
   "metadata": {},
   "outputs": [],
   "source": [
    "# We can use the shap package\n",
    "import shap\n",
    "\n",
    "# shap will call the GPU accelerated version as long as the predictor \n",
    "# parameter is set to \"gpu_predictor\"\n",
    "final_bst.set_param({\"predictor\": \"gpu_predictor\"})\n",
    "explainer = shap.TreeExplainer(final_bst)\n",
    "shap_values = explainer.shap_values(X_test)"
   ]
  },
  {
   "cell_type": "code",
   "execution_count": 96,
   "id": "ruled-drain",
   "metadata": {},
   "outputs": [],
   "source": [
    "row=0"
   ]
  },
  {
   "cell_type": "code",
   "execution_count": 97,
   "id": "utility-scenario",
   "metadata": {},
   "outputs": [
    {
     "data": {
      "image/png": "[encoded data removed]",
      "text/plain": [
       "<Figure size 1440x216 with 1 Axes>"
      ]
     },
     "metadata": {
      "needs_background": "light"
     },
     "output_type": "display_data"
    }
   ],
   "source": [
    "# visualize the first prediction's explanation\n",
    "shap.force_plot(\n",
    "    explainer.expected_value,\n",
    "    shap_values[row, :],\n",
    "    cupy.asnumpy(X_test.iloc[row].values),\n",
    "    feature_names=X_test.columns.to_list(),\n",
    "    matplotlib=True\n",
    ")"
   ]
  },
  {
   "cell_type": "code",
   "execution_count": 31,
   "id": "structural-radius",
   "metadata": {},
   "outputs": [
    {
     "data": {
      "image/png": "[encoded data removed]",
      "text/plain": [
       "<Figure size 576x684 with 1 Axes>"
      ]
     },
     "metadata": {
      "needs_background": "light"
     },
     "output_type": "display_data"
    }
   ],
   "source": [
    "# Show a summary of feature importance\n",
    "shap.summary_plot(shap_values, X_test, plot_type=\"bar\", \n",
    "                  feature_names=X_test.columns)"
   ]
  },
  {
   "cell_type": "code",
   "execution_count": 66,
   "id": "unique-papua",
   "metadata": {},
   "outputs": [],
   "source": [
    "# quick test\n",
    "from sklearn.datasets import fetch_california_housing\n",
    "data = fetch_california_housing()\n",
    "X = data.data\n",
    "y = data.target\n"
   ]
  }
 ],
 "metadata": {
  "kernelspec": {
   "display_name": "Python [conda env:rapids]",
   "language": "python",
   "name": "conda-env-rapids-py"
  },
  "language_info": {
   "codemirror_mode": {
    "name": "ipython",
    "version": 3
   },
   "file_extension": ".py",
   "mimetype": "text/x-python",
   "name": "python",
   "nbconvert_exporter": "python",
   "pygments_lexer": "ipython3",
   "version": "3.8.8"
  }
 },
 "nbformat": 4,
 "nbformat_minor": 5
}
