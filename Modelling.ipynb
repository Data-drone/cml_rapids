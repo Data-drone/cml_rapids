{
 "cells": [
  {
   "cell_type": "markdown",
   "id": "classical-population",
   "metadata": {},
   "source": [
    "## Advanced Modelling of the Data"
   ]
  },
  {
   "cell_type": "code",
   "execution_count": 1,
   "id": "universal-lawyer",
   "metadata": {},
   "outputs": [],
   "source": [
    "%load_ext autoreload\n",
    "%autoreload 2"
   ]
  },
  {
   "cell_type": "code",
   "execution_count": 2,
   "id": "treated-culture",
   "metadata": {},
   "outputs": [],
   "source": [
    "# first lets reload the dataset\n",
    "# we do need to import pandas as it is also need for display max_rows \n",
    "import pandas as pd\n",
    "import cudf\n",
    "import cudf as dd\n",
    "import numpy as np\n",
    "import gc\n",
    "import matplotlib.pyplot as plt\n",
    "from cuml.preprocessing.model_selection import train_test_split\n",
    "from cuml.metrics import confusion_matrix, roc_auc_score\n",
    "use_gpu=True\n",
    "%matplotlib inline"
   ]
  },
  {
   "cell_type": "markdown",
   "id": "dying-television",
   "metadata": {},
   "source": [
    "## Read in the Features"
   ]
  },
  {
   "cell_type": "code",
   "execution_count": 3,
   "id": "wired-ownership",
   "metadata": {},
   "outputs": [],
   "source": [
    "## testing our previous big feats table\n",
    "train = dd.read_parquet('data_eng/feats/train_feats.parquet')\n",
    "test = dd.read_parquet('data_eng/feats/test_feats.parquet')\n",
    "train_target = train['TARGET']\n",
    "train = train.drop('TARGET', axis =1)"
   ]
  },
  {
   "cell_type": "code",
   "execution_count": 4,
   "id": "skilled-drilling",
   "metadata": {},
   "outputs": [
    {
     "data": {
      "text/plain": [
       "(307511, 380)"
      ]
     },
     "execution_count": 4,
     "metadata": {},
     "output_type": "execute_result"
    }
   ],
   "source": [
    "train.shape"
   ]
  },
  {
   "cell_type": "code",
   "execution_count": 5,
   "id": "aging-devices",
   "metadata": {},
   "outputs": [
    {
     "data": {
      "text/plain": [
       "11.387150050352467"
      ]
     },
     "execution_count": 5,
     "metadata": {},
     "output_type": "execute_result"
    }
   ],
   "source": [
    "# we have an unbalanced pos to negative ratio so it will help to feed this into xgb\n",
    "ratio = (train_target == 0).sum()/ (train_target == 1).sum()\n",
    "ratio"
   ]
  },
  {
   "cell_type": "markdown",
   "id": "potential-saudi",
   "metadata": {},
   "source": [
    "## Cross Validating our XGB Model"
   ]
  },
  {
   "cell_type": "markdown",
   "id": "correct-algorithm",
   "metadata": {},
   "source": [
    "Default train test split"
   ]
  },
  {
   "cell_type": "code",
   "execution_count": 6,
   "id": "smart-blind",
   "metadata": {},
   "outputs": [],
   "source": [
    "X_train, X_test, y_train, y_test = train_test_split(train, train_target, \n",
    "                                                    test_size=0.3, random_state=42)"
   ]
  },
  {
   "cell_type": "code",
   "execution_count": 7,
   "id": "central-formula",
   "metadata": {},
   "outputs": [],
   "source": [
    "import xgboost as xgb\n",
    "from sklearn.model_selection import StratifiedKFold"
   ]
  },
  {
   "cell_type": "markdown",
   "id": "suburban-cisco",
   "metadata": {},
   "source": [
    "We use stratified KFold as the classes are heavily unbalanced. Stratified KFold makes sure that we have a same proportion of target variables (0/1) in each kfold split "
   ]
  },
  {
   "cell_type": "code",
   "execution_count": 8,
   "id": "legislative-norfolk",
   "metadata": {},
   "outputs": [],
   "source": [
    "skf = StratifiedKFold()"
   ]
  },
  {
   "cell_type": "code",
   "execution_count": 9,
   "id": "junior-ethnic",
   "metadata": {},
   "outputs": [],
   "source": [
    "cv_params = {'tree_method': 'gpu_hist', 'max_depth': 6, \n",
    "        'learning_rate': 0.05, 'subsample':0.5, 'objective': 'binary:logistic',\n",
    "         'eval_metric':'auc', 'scale_pos_weight': ratio,\n",
    "         'gamma':0.3, 'subsample':0.5}"
   ]
  },
  {
   "cell_type": "markdown",
   "id": "little-identification",
   "metadata": {},
   "source": [
    "We use stratified KFold to check and see if different splits of the data produce consistant results. This is important to make sure we aren't overfitting to a particular subset of data"
   ]
  },
  {
   "cell_type": "code",
   "execution_count": 16,
   "id": "lonely-pipeline",
   "metadata": {},
   "outputs": [
    {
     "name": "stdout",
     "output_type": "stream",
     "text": [
      "Fold 0\n",
      "[0]\ttrain-auc:0.71138\tvalid-auc:0.69010\n",
      "[20]\ttrain-auc:0.74005\tvalid-auc:0.71538\n",
      "[40]\ttrain-auc:0.74308\tvalid-auc:0.71749\n",
      "[60]\ttrain-auc:0.74568\tvalid-auc:0.71993\n",
      "[80]\ttrain-auc:0.74777\tvalid-auc:0.72130\n",
      "[99]\ttrain-auc:0.74963\tvalid-auc:0.72295\n",
      "Fold 1\n",
      "[0]\ttrain-auc:0.70649\tvalid-auc:0.69244\n",
      "[20]\ttrain-auc:0.73809\tvalid-auc:0.71940\n",
      "[40]\ttrain-auc:0.74022\tvalid-auc:0.72057\n",
      "[60]\ttrain-auc:0.74271\tvalid-auc:0.72174\n",
      "[80]\ttrain-auc:0.74562\tvalid-auc:0.72387\n",
      "[99]\ttrain-auc:0.74833\tvalid-auc:0.72566\n",
      "Fold 2\n",
      "[0]\ttrain-auc:0.70639\tvalid-auc:0.70249\n",
      "[20]\ttrain-auc:0.73675\tvalid-auc:0.72853\n",
      "[40]\ttrain-auc:0.73934\tvalid-auc:0.73135\n",
      "[60]\ttrain-auc:0.74212\tvalid-auc:0.73332\n",
      "[80]\ttrain-auc:0.74516\tvalid-auc:0.73541\n",
      "[99]\ttrain-auc:0.74731\tvalid-auc:0.73678\n",
      "Fold 3\n",
      "[0]\ttrain-auc:0.70936\tvalid-auc:0.69049\n",
      "[20]\ttrain-auc:0.73827\tvalid-auc:0.71424\n",
      "[40]\ttrain-auc:0.74187\tvalid-auc:0.71655\n",
      "[60]\ttrain-auc:0.74370\tvalid-auc:0.71758\n",
      "[80]\ttrain-auc:0.74642\tvalid-auc:0.71976\n",
      "[99]\ttrain-auc:0.74839\tvalid-auc:0.72098\n",
      "Fold 4\n",
      "[0]\ttrain-auc:0.70825\tvalid-auc:0.69466\n",
      "[20]\ttrain-auc:0.73793\tvalid-auc:0.72188\n",
      "[40]\ttrain-auc:0.74095\tvalid-auc:0.72474\n",
      "[60]\ttrain-auc:0.74374\tvalid-auc:0.72681\n",
      "[80]\ttrain-auc:0.74627\tvalid-auc:0.72840\n",
      "[99]\ttrain-auc:0.74853\tvalid-auc:0.72997\n"
     ]
    }
   ],
   "source": [
    "for i, (train_index, test_index) in enumerate(skf.split(X_train.index.to_arrow().tolist(), \n",
    "                                                        y_train.to_arrow().tolist())):\n",
    "    print(\"Fold {0}\".format(i))\n",
    "    X_train_kf, X_valid_kf = X_train.iloc[train_index], X_train.iloc[test_index]\n",
    "    y_train_kf, y_valid_kf = y_train.iloc[train_index], y_train.iloc[test_index]\n",
    "    \n",
    "    train_matrix_kf= xgb.DMatrix(X_train_kf, label=y_train_kf)\n",
    "    val_matrix_kf = xgb.DMatrix(X_valid_kf, label=y_valid_kf)\n",
    "    \n",
    "    bst = xgb.train(params=cv_params, dtrain=train_matrix_kf, \n",
    "                evals=[(train_matrix_kf, 'train'), (val_matrix_kf, 'valid')], \n",
    "                num_boost_round=100, early_stopping_rounds=20, verbose_eval=20)"
   ]
  },
  {
   "cell_type": "markdown",
   "id": "improved-decrease",
   "metadata": {},
   "source": [
    "Once things look a bit stable with the tuning, we will train our \"final\" model on the full dataset"
   ]
  },
  {
   "cell_type": "code",
   "execution_count": null,
   "id": "accessible-iceland",
   "metadata": {},
   "outputs": [],
   "source": [
    "full_cv_params =  cv_params\n",
    "# a common technique is to set learning rate lower and \n",
    "# boost the num_boost_rounds for the full train\n",
    "full_cv_params['learning_rate'] = cv_params['learning_rate']/10"
   ]
  },
  {
   "cell_type": "code",
   "execution_count": null,
   "id": "european-suicide",
   "metadata": {},
   "outputs": [],
   "source": [
    "train_matrix = xgb.DMatrix(X_train, label=y_train)\n",
    "val_matrix = xgb.DMatrix(X_test, label=y_test)\n",
    "    \n",
    "final_bst = xgb.train(params=full_cv_params, dtrain=train_matrix, \n",
    "                evals=[(train_matrix, 'train'), (val_matrix, 'valid')], \n",
    "                num_boost_round=1000, early_stopping_rounds=20, verbose_eval=50)"
   ]
  },
  {
   "cell_type": "code",
   "execution_count": null,
   "id": "naughty-portugal",
   "metadata": {},
   "outputs": [],
   "source": [
    "adv_y_pred = final_bst.predict(val_matrix)\n",
    "# convert to 0/1 based on threshold\n",
    "adv_y_final = np.where(adv_y_pred>0.5, 1, 0)"
   ]
  },
  {
   "cell_type": "markdown",
   "id": "horizontal-format",
   "metadata": {},
   "source": [
    "# Final Assessments"
   ]
  },
  {
   "cell_type": "code",
   "execution_count": 14,
   "id": "prescribed-cisco",
   "metadata": {},
   "outputs": [
    {
     "name": "stderr",
     "output_type": "stream",
     "text": [
      "<ipython-input-14-3f2062bd99d2>:1: DeprecationWarning: Numeric-style type codes are deprecated and will result in an error in the future.\n",
      "  confusion_matrix(y_test, adv_y_final.astype('Int64'))\n"
     ]
    },
    {
     "data": {
      "text/html": [
       "<div>\n",
       "<style scoped>\n",
       "    .dataframe tbody tr th:only-of-type {\n",
       "        vertical-align: middle;\n",
       "    }\n",
       "\n",
       "    .dataframe tbody tr th {\n",
       "        vertical-align: top;\n",
       "    }\n",
       "\n",
       "    .dataframe thead th {\n",
       "        text-align: right;\n",
       "    }\n",
       "</style>\n",
       "<table border=\"1\" class=\"dataframe\">\n",
       "  <thead>\n",
       "    <tr style=\"text-align: right;\">\n",
       "      <th></th>\n",
       "      <th>0</th>\n",
       "      <th>1</th>\n",
       "    </tr>\n",
       "  </thead>\n",
       "  <tbody>\n",
       "    <tr>\n",
       "      <th>0</th>\n",
       "      <td>60214</td>\n",
       "      <td>24622</td>\n",
       "    </tr>\n",
       "    <tr>\n",
       "      <th>1</th>\n",
       "      <td>2550</td>\n",
       "      <td>4867</td>\n",
       "    </tr>\n",
       "  </tbody>\n",
       "</table>\n",
       "</div>"
      ],
      "text/plain": [
       "       0      1\n",
       "0  60214  24622\n",
       "1   2550   4867"
      ]
     },
     "execution_count": 14,
     "metadata": {},
     "output_type": "execute_result"
    }
   ],
   "source": [
    "confusion_matrix(y_test, adv_y_final.astype('Int64'))"
   ]
  },
  {
   "cell_type": "code",
   "execution_count": 15,
   "id": "coastal-frost",
   "metadata": {},
   "outputs": [
    {
     "data": {
      "text/plain": [
       "0.7492623925209045"
      ]
     },
     "execution_count": 15,
     "metadata": {},
     "output_type": "execute_result"
    }
   ],
   "source": [
    "roc_auc_score(y_test, adv_y_pred)"
   ]
  }
 ],
 "metadata": {
  "kernelspec": {
   "display_name": "Python [conda env:rapids]",
   "language": "python",
   "name": "conda-env-rapids-py"
  },
  "language_info": {
   "codemirror_mode": {
    "name": "ipython",
    "version": 3
   },
   "file_extension": ".py",
   "mimetype": "text/x-python",
   "name": "python",
   "nbconvert_exporter": "python",
   "pygments_lexer": "ipython3",
   "version": "3.8.8"
  }
 },
 "nbformat": 4,
 "nbformat_minor": 5
}
