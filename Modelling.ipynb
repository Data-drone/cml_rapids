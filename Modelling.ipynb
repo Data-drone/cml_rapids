{
 "cells": [
  {
   "cell_type": "markdown",
   "id": "muslim-batman",
   "metadata": {},
   "source": [
    "## Advanced Modelling of the Data"
   ]
  },
  {
   "cell_type": "code",
   "execution_count": 35,
   "id": "shaped-apple",
   "metadata": {},
   "outputs": [],
   "source": [
    "# first lets reload the dataset\n",
    "# we do need to import pandas as it is also need for display max_rows \n",
    "import pandas as pd\n",
    "import cudf\n",
    "import cudf as dd\n",
    "import numpy as np\n",
    "import gc\n",
    "import matplotlib\n",
    "from cuml.preprocessing.model_selection import train_test_split\n",
    "from cuml.metrics import confusion_matrix, roc_auc_score\n",
    "%matplotlib inline"
   ]
  },
  {
   "cell_type": "code",
   "execution_count": 2,
   "id": "spread-special",
   "metadata": {},
   "outputs": [],
   "source": [
    "# We will have to test the building of the features \n",
    "# to try and make the model actually learn"
   ]
  },
  {
   "cell_type": "code",
   "execution_count": 3,
   "id": "bright-female",
   "metadata": {},
   "outputs": [],
   "source": [
    "train = dd.read_parquet('raw_data/train.parquet')\n",
    "test = dd.read_parquet('raw_data/test.parquet')"
   ]
  },
  {
   "cell_type": "markdown",
   "id": "apart-beach",
   "metadata": {},
   "source": [
    "# Run the feature engineering"
   ]
  },
  {
   "cell_type": "code",
   "execution_count": null,
   "id": "quiet-apparel",
   "metadata": {},
   "outputs": [],
   "source": [
    "from basic_feature_engineering import basic_feature_engineering"
   ]
  },
  {
   "cell_type": "code",
   "execution_count": 4,
   "id": "identical-favorite",
   "metadata": {},
   "outputs": [],
   "source": [
    "# current treatment\n",
    "def see_percent_missing_values(df):\n",
    "    \n",
    "    total_missing = df.isnull().sum()/df.shape[0]\n",
    "    percent_missing = total_missing*100\n",
    "    return percent_missing.sort_values(ascending=False).round(1)\n",
    "app_train_mis_values = see_percent_missing_values(train)\n",
    "df_app_train_miss_values= dd.DataFrame({'columns': app_train_mis_values.index, \n",
    "                                        'missing percent': app_train_mis_values.values})\n",
    "# NOTE that in cudf some conversions are slightly different so whilst it is mostly \n",
    "# a drop in replacement sometimes adjustments do have to be made\n",
    "if type(df_app_train_miss_values) == cudf.core.dataframe.DataFrame:\n",
    "    drop_columns = df_app_train_miss_values[df_app_train_miss_values['missing percent'] \\\n",
    "                                        >= 40]['columns'].to_arrow().to_pylist()\n",
    "else:\n",
    "    drop_columns = df_app_train_miss_values[df_app_train_miss_values['missing percent'] \\\n",
    "                                        >= 40]['columns'].tolist()\n",
    "\n",
    "train = train.drop(drop_columns, axis=1)\n",
    "test = test.drop(drop_columns, axis=1)\n",
    "train_target = train['TARGET']\n",
    "train = train.drop('TARGET', axis=1)\n",
    "# here we will use a basic dummy treatment\n",
    "# we merged the dataframes first because when we dummify \n",
    "# we could have some columns only in train or only in test. Merging first will prevent this \n",
    "unified = dd.concat([train, test])\n",
    "dummy_cols = unified.select_dtypes(['bool', 'O', 'category']).columns.tolist()\n",
    "unified = dd.get_dummies(unified, columns=dummy_cols, dtype='int64')\n",
    "## Splitting back into train and test\n"
   ]
  },
  {
   "cell_type": "code",
   "execution_count": 5,
   "id": "exceptional-interaction",
   "metadata": {},
   "outputs": [],
   "source": [
    "# XGB for pandas does not like Int64\n",
    "for col in unified.select_dtypes('Int64').columns.tolist():\n",
    "    unified[col] = unified[col].fillna(int(unified[col].mean()))\n",
    "    unified[col] = unified[col].astype('int64')"
   ]
  },
  {
   "cell_type": "code",
   "execution_count": 6,
   "id": "interesting-african",
   "metadata": {},
   "outputs": [
    {
     "data": {
      "text/plain": [
       "AMT_ANNUITY        True\n",
       "AMT_GOODS_PRICE    True\n",
       "EXT_SOURCE_2       True\n",
       "EXT_SOURCE_3       True\n",
       "dtype: bool"
      ]
     },
     "execution_count": 6,
     "metadata": {},
     "output_type": "execute_result"
    }
   ],
   "source": [
    "unified.isna().any()[unified.isna().any()==True]"
   ]
  },
  {
   "cell_type": "code",
   "execution_count": 7,
   "id": "heard-representation",
   "metadata": {},
   "outputs": [],
   "source": [
    "for col in unified.isna().any()[unified.isna().any()==True].index.to_arrow().tolist():\n",
    "    unified[col] = unified[col].fillna(0)"
   ]
  },
  {
   "cell_type": "code",
   "execution_count": 8,
   "id": "alternate-orange",
   "metadata": {},
   "outputs": [],
   "source": [
    "train = unified[0:307511]\n",
    "test = unified[307511:]"
   ]
  },
  {
   "cell_type": "code",
   "execution_count": 9,
   "id": "portuguese-treasurer",
   "metadata": {},
   "outputs": [
    {
     "data": {
      "text/plain": [
       "(307511, 243)"
      ]
     },
     "execution_count": 9,
     "metadata": {},
     "output_type": "execute_result"
    }
   ],
   "source": [
    "train.shape"
   ]
  },
  {
   "cell_type": "code",
   "execution_count": 10,
   "id": "attractive-eligibility",
   "metadata": {},
   "outputs": [
    {
     "data": {
      "text/plain": [
       "11.387150050352467"
      ]
     },
     "execution_count": 10,
     "metadata": {},
     "output_type": "execute_result"
    }
   ],
   "source": [
    "# TODO - confirm -  we have an unbalanced pos to negative ratio so it will help to feed this into xgb\n",
    "ratio = (train_target == 0).sum()/ (train_target == 1).sum()\n",
    "ratio"
   ]
  },
  {
   "cell_type": "markdown",
   "id": "abstract-bottom",
   "metadata": {},
   "source": [
    "## Building a more advanced XGB Model"
   ]
  },
  {
   "cell_type": "markdown",
   "id": "serial-married",
   "metadata": {},
   "source": [
    "Default train test split"
   ]
  },
  {
   "cell_type": "code",
   "execution_count": 11,
   "id": "fresh-birthday",
   "metadata": {},
   "outputs": [],
   "source": [
    "X_train, X_test, y_train, y_test = train_test_split(train, train_target, \n",
    "                                                    test_size=0.3, random_state=42)"
   ]
  },
  {
   "cell_type": "code",
   "execution_count": 12,
   "id": "regional-stick",
   "metadata": {},
   "outputs": [],
   "source": [
    "import xgboost as xgb\n",
    "from sklearn.model_selection import StratifiedKFold"
   ]
  },
  {
   "cell_type": "code",
   "execution_count": 13,
   "id": "capable-ghana",
   "metadata": {},
   "outputs": [],
   "source": [
    "skf = StratifiedKFold()"
   ]
  },
  {
   "cell_type": "code",
   "execution_count": 24,
   "id": "dirty-humanitarian",
   "metadata": {},
   "outputs": [],
   "source": [
    "cv_params = {'tree_method': 'gpu_hist', 'max_depth': 6, \n",
    "        'learning_rate': 0.05, 'subsample':0.5, 'objective': 'binary:logistic',\n",
    "         'eval_metric':'auc', 'scale_pos_weight': ratio,\n",
    "         'gamma':0.2, 'subsample':0.5}"
   ]
  },
  {
   "cell_type": "markdown",
   "id": "blond-panic",
   "metadata": {},
   "source": [
    "Add a training loop for the stratifiedkfold"
   ]
  },
  {
   "cell_type": "code",
   "execution_count": 25,
   "id": "vocal-expert",
   "metadata": {},
   "outputs": [
    {
     "name": "stdout",
     "output_type": "stream",
     "text": [
      "Fold 0\n",
      "[0]\ttrain-auc:0.71426\tvalid-auc:0.69691\n",
      "[20]\ttrain-auc:0.74964\tvalid-auc:0.73145\n",
      "[40]\ttrain-auc:0.76208\tvalid-auc:0.73889\n",
      "[60]\ttrain-auc:0.77402\tvalid-auc:0.74387\n",
      "[80]\ttrain-auc:0.78200\tvalid-auc:0.74629\n",
      "[99]\ttrain-auc:0.78744\tvalid-auc:0.74777\n",
      "Fold 1\n",
      "[0]\ttrain-auc:0.71689\tvalid-auc:0.70880\n",
      "[20]\ttrain-auc:0.74935\tvalid-auc:0.73418\n",
      "[40]\ttrain-auc:0.76134\tvalid-auc:0.74004\n",
      "[60]\ttrain-auc:0.77177\tvalid-auc:0.74531\n",
      "[80]\ttrain-auc:0.77993\tvalid-auc:0.74809\n",
      "[99]\ttrain-auc:0.78541\tvalid-auc:0.74954\n",
      "Fold 2\n",
      "[0]\ttrain-auc:0.71438\tvalid-auc:0.70856\n",
      "[20]\ttrain-auc:0.74866\tvalid-auc:0.73700\n",
      "[40]\ttrain-auc:0.76086\tvalid-auc:0.74337\n",
      "[60]\ttrain-auc:0.77159\tvalid-auc:0.74849\n",
      "[80]\ttrain-auc:0.77923\tvalid-auc:0.75072\n",
      "[99]\ttrain-auc:0.78550\tvalid-auc:0.75190\n",
      "Fold 3\n",
      "[0]\ttrain-auc:0.71893\tvalid-auc:0.70896\n",
      "[20]\ttrain-auc:0.75027\tvalid-auc:0.73435\n",
      "[40]\ttrain-auc:0.76253\tvalid-auc:0.74050\n",
      "[60]\ttrain-auc:0.77289\tvalid-auc:0.74505\n",
      "[80]\ttrain-auc:0.78096\tvalid-auc:0.74753\n",
      "[99]\ttrain-auc:0.78666\tvalid-auc:0.74838\n",
      "Fold 4\n",
      "[0]\ttrain-auc:0.71418\tvalid-auc:0.69964\n",
      "[20]\ttrain-auc:0.75121\tvalid-auc:0.72722\n",
      "[40]\ttrain-auc:0.76350\tvalid-auc:0.73425\n",
      "[60]\ttrain-auc:0.77351\tvalid-auc:0.73976\n",
      "[80]\ttrain-auc:0.78104\tvalid-auc:0.74284\n",
      "[99]\ttrain-auc:0.78722\tvalid-auc:0.74421\n"
     ]
    }
   ],
   "source": [
    "for i, (train_index, test_index) in enumerate(skf.split(X_train.index.to_arrow().tolist(), \n",
    "                                                        y_train.to_arrow().tolist())):\n",
    "    print(\"Fold {0}\".format(i))\n",
    "    X_train_kf, X_valid_kf = X_train.iloc[train_index], X_train.iloc[test_index]\n",
    "    y_train_kf, y_valid_kf = y_train.iloc[train_index], y_train.iloc[test_index]\n",
    "    \n",
    "    train_matrix_kf= xgb.DMatrix(X_train_kf, label=y_train_kf)\n",
    "    val_matrix_kf = xgb.DMatrix(X_valid_kf, label=y_valid_kf)\n",
    "    \n",
    "    bst = xgb.train(params=cv_params, dtrain=train_matrix_kf, \n",
    "                evals=[(train_matrix_kf, 'train'), (val_matrix_kf, 'valid')], \n",
    "                num_boost_round=100, early_stopping_rounds=20, verbose_eval=20)"
   ]
  },
  {
   "cell_type": "markdown",
   "id": "working-opera",
   "metadata": {},
   "source": [
    "Once things look a bit stable with the tuning, we can train the whole dataset once"
   ]
  },
  {
   "cell_type": "code",
   "execution_count": 18,
   "id": "sonic-study",
   "metadata": {},
   "outputs": [],
   "source": [
    "full_cv_params =  cv_params\n",
    "full_cv_params['learning_rate'] = cv_params['learning_rate']/10"
   ]
  },
  {
   "cell_type": "code",
   "execution_count": 19,
   "id": "alleged-geometry",
   "metadata": {},
   "outputs": [
    {
     "name": "stdout",
     "output_type": "stream",
     "text": [
      "[0]\ttrain-auc:0.71691\tvalid-auc:0.70097\n",
      "[50]\ttrain-auc:0.74118\tvalid-auc:0.72393\n",
      "[100]\ttrain-auc:0.74755\tvalid-auc:0.72804\n",
      "[150]\ttrain-auc:0.75342\tvalid-auc:0.73184\n",
      "[200]\ttrain-auc:0.75888\tvalid-auc:0.73510\n",
      "[250]\ttrain-auc:0.76394\tvalid-auc:0.73813\n",
      "[300]\ttrain-auc:0.76880\tvalid-auc:0.74071\n",
      "[350]\ttrain-auc:0.77305\tvalid-auc:0.74312\n",
      "[400]\ttrain-auc:0.77651\tvalid-auc:0.74459\n",
      "[450]\ttrain-auc:0.77947\tvalid-auc:0.74563\n",
      "[499]\ttrain-auc:0.78235\tvalid-auc:0.74670\n"
     ]
    }
   ],
   "source": [
    "train_matrix = xgb.DMatrix(X_train, label=y_train)\n",
    "val_matrix = xgb.DMatrix(X_test, label=y_test)\n",
    "    \n",
    "final_bst = xgb.train(params=full_cv_params, dtrain=train_matrix, \n",
    "                evals=[(train_matrix, 'train'), (val_matrix, 'valid')], \n",
    "                num_boost_round=500, early_stopping_rounds=20, verbose_eval=50)"
   ]
  },
  {
   "cell_type": "code",
   "execution_count": 31,
   "id": "dominican-pixel",
   "metadata": {},
   "outputs": [],
   "source": [
    "adv_y_pred = final_bst.predict(val_matrix)\n",
    "# convert to 0/1 based on threshold\n",
    "adv_y_final = np.where(adv_y_pred>0.5, 1, 0)"
   ]
  },
  {
   "cell_type": "code",
   "execution_count": 32,
   "id": "growing-yukon",
   "metadata": {},
   "outputs": [
    {
     "data": {
      "text/plain": [
       "array([0, 1, 0, ..., 0, 0, 0])"
      ]
     },
     "execution_count": 32,
     "metadata": {},
     "output_type": "execute_result"
    }
   ],
   "source": [
    "adv_y_final"
   ]
  },
  {
   "cell_type": "markdown",
   "id": "expired-signal",
   "metadata": {},
   "source": [
    "# Final Assessments"
   ]
  },
  {
   "cell_type": "code",
   "execution_count": 33,
   "id": "conscious-picture",
   "metadata": {},
   "outputs": [
    {
     "name": "stderr",
     "output_type": "stream",
     "text": [
      "<ipython-input-33-3f2062bd99d2>:1: DeprecationWarning: Numeric-style type codes are deprecated and will result in an error in the future.\n",
      "  confusion_matrix(y_test, adv_y_final.astype('Int64'))\n"
     ]
    },
    {
     "data": {
      "text/html": [
       "<div>\n",
       "<style scoped>\n",
       "    .dataframe tbody tr th:only-of-type {\n",
       "        vertical-align: middle;\n",
       "    }\n",
       "\n",
       "    .dataframe tbody tr th {\n",
       "        vertical-align: top;\n",
       "    }\n",
       "\n",
       "    .dataframe thead th {\n",
       "        text-align: right;\n",
       "    }\n",
       "</style>\n",
       "<table border=\"1\" class=\"dataframe\">\n",
       "  <thead>\n",
       "    <tr style=\"text-align: right;\">\n",
       "      <th></th>\n",
       "      <th>0</th>\n",
       "      <th>1</th>\n",
       "    </tr>\n",
       "  </thead>\n",
       "  <tbody>\n",
       "    <tr>\n",
       "      <th>0</th>\n",
       "      <td>39626</td>\n",
       "      <td>16820</td>\n",
       "    </tr>\n",
       "    <tr>\n",
       "      <th>1</th>\n",
       "      <td>1728</td>\n",
       "      <td>3328</td>\n",
       "    </tr>\n",
       "  </tbody>\n",
       "</table>\n",
       "</div>"
      ],
      "text/plain": [
       "       0      1\n",
       "0  39626  16820\n",
       "1   1728   3328"
      ]
     },
     "execution_count": 33,
     "metadata": {},
     "output_type": "execute_result"
    }
   ],
   "source": [
    "confusion_matrix(y_test, adv_y_final.astype('Int64'))"
   ]
  },
  {
   "cell_type": "code",
   "execution_count": 36,
   "id": "organizational-testing",
   "metadata": {},
   "outputs": [
    {
     "data": {
      "text/plain": [
       "0.7466998100280762"
      ]
     },
     "execution_count": 36,
     "metadata": {},
     "output_type": "execute_result"
    }
   ],
   "source": [
    "roc_auc_score(y_test, adv_y_pred)"
   ]
  }
 ],
 "metadata": {
  "kernelspec": {
   "display_name": "Python [conda env:rapids]",
   "language": "python",
   "name": "conda-env-rapids-py"
  },
  "language_info": {
   "codemirror_mode": {
    "name": "ipython",
    "version": 3
   },
   "file_extension": ".py",
   "mimetype": "text/x-python",
   "name": "python",
   "nbconvert_exporter": "python",
   "pygments_lexer": "ipython3",
   "version": "3.8.8"
  }
 },
 "nbformat": 4,
 "nbformat_minor": 5
}
