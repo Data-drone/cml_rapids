{
 "cells": [
  {
   "cell_type": "markdown",
   "id": "excess-heart",
   "metadata": {},
   "source": [
    "## Advanced Modelling of the Data"
   ]
  },
  {
   "cell_type": "code",
   "execution_count": 1,
   "id": "russian-attraction",
   "metadata": {},
   "outputs": [],
   "source": [
    "# first lets reload the dataset\n",
    "# we do need to import pandas as it is also need for display max_rows \n",
    "import pandas as pd\n",
    "import cudf\n",
    "import cudf as dd\n",
    "import numpy as np\n",
    "import gc\n",
    "import matplotlib\n",
    "from cuml.preprocessing.model_selection import train_test_split\n",
    "from cuml.metrics import confusion_matrix, roc_auc_score\n",
    "use_gpu=True\n",
    "%matplotlib inline"
   ]
  },
  {
   "cell_type": "code",
   "execution_count": 2,
   "id": "challenging-anchor",
   "metadata": {},
   "outputs": [],
   "source": [
    "# We will have to test the building of the features \n",
    "# to try and make the model actually learn"
   ]
  },
  {
   "cell_type": "code",
   "execution_count": 3,
   "id": "bigger-layout",
   "metadata": {},
   "outputs": [],
   "source": [
    "train = dd.read_parquet('raw_data/train.parquet')\n",
    "test = dd.read_parquet('raw_data/test.parquet')"
   ]
  },
  {
   "cell_type": "markdown",
   "id": "hundred-genome",
   "metadata": {},
   "source": [
    "# Run the feature engineering"
   ]
  },
  {
   "cell_type": "code",
   "execution_count": 4,
   "id": "neither-steal",
   "metadata": {},
   "outputs": [],
   "source": [
    "from basic_feature_engineering import basic_feature_engineering"
   ]
  },
  {
   "cell_type": "code",
   "execution_count": 5,
   "id": "killing-string",
   "metadata": {},
   "outputs": [],
   "source": [
    "train, test, train_target = basic_feature_engineering(train, test, gpu=use_gpu)"
   ]
  },
  {
   "cell_type": "code",
   "execution_count": 6,
   "id": "subsequent-private",
   "metadata": {},
   "outputs": [
    {
     "data": {
      "text/plain": [
       "11.387150050352467"
      ]
     },
     "execution_count": 6,
     "metadata": {},
     "output_type": "execute_result"
    }
   ],
   "source": [
    "# TODO - confirm -  we have an unbalanced pos to negative ratio so it will help to feed this into xgb\n",
    "ratio = (train_target == 0).sum()/ (train_target == 1).sum()\n",
    "ratio"
   ]
  },
  {
   "cell_type": "markdown",
   "id": "limiting-first",
   "metadata": {},
   "source": [
    "## Building a more advanced XGB Model"
   ]
  },
  {
   "cell_type": "markdown",
   "id": "sized-contributor",
   "metadata": {},
   "source": [
    "Default train test split"
   ]
  },
  {
   "cell_type": "code",
   "execution_count": 7,
   "id": "naughty-mirror",
   "metadata": {},
   "outputs": [],
   "source": [
    "X_train, X_test, y_train, y_test = train_test_split(train, train_target, \n",
    "                                                    test_size=0.3, random_state=42)"
   ]
  },
  {
   "cell_type": "code",
   "execution_count": 8,
   "id": "stock-hawaii",
   "metadata": {},
   "outputs": [],
   "source": [
    "import xgboost as xgb\n",
    "from sklearn.model_selection import StratifiedKFold"
   ]
  },
  {
   "cell_type": "code",
   "execution_count": 9,
   "id": "incoming-married",
   "metadata": {},
   "outputs": [],
   "source": [
    "skf = StratifiedKFold()"
   ]
  },
  {
   "cell_type": "code",
   "execution_count": 10,
   "id": "unlimited-fight",
   "metadata": {},
   "outputs": [],
   "source": [
    "cv_params = {'tree_method': 'gpu_hist', 'max_depth': 6, \n",
    "        'learning_rate': 0.05, 'subsample':0.5, 'objective': 'binary:logistic',\n",
    "         'eval_metric':'auc', 'scale_pos_weight': ratio,\n",
    "         'gamma':0.2, 'subsample':0.5}"
   ]
  },
  {
   "cell_type": "markdown",
   "id": "varying-clarity",
   "metadata": {},
   "source": [
    "Add a training loop for the stratifiedkfold"
   ]
  },
  {
   "cell_type": "code",
   "execution_count": 11,
   "id": "prescription-swedish",
   "metadata": {},
   "outputs": [
    {
     "name": "stdout",
     "output_type": "stream",
     "text": [
      "Fold 0\n",
      "[0]\ttrain-auc:0.71352\tvalid-auc:0.69314\n",
      "[20]\ttrain-auc:0.75283\tvalid-auc:0.73045\n",
      "[40]\ttrain-auc:0.76562\tvalid-auc:0.73821\n",
      "[60]\ttrain-auc:0.77633\tvalid-auc:0.74302\n",
      "[80]\ttrain-auc:0.78428\tvalid-auc:0.74518\n",
      "[99]\ttrain-auc:0.79064\tvalid-auc:0.74689\n",
      "Fold 1\n",
      "[0]\ttrain-auc:0.71511\tvalid-auc:0.71271\n",
      "[20]\ttrain-auc:0.75183\tvalid-auc:0.73679\n",
      "[40]\ttrain-auc:0.76320\tvalid-auc:0.74272\n",
      "[60]\ttrain-auc:0.77470\tvalid-auc:0.74753\n",
      "[80]\ttrain-auc:0.78279\tvalid-auc:0.75105\n",
      "[99]\ttrain-auc:0.78943\tvalid-auc:0.75290\n",
      "Fold 2\n",
      "[0]\ttrain-auc:0.71455\tvalid-auc:0.70772\n",
      "[20]\ttrain-auc:0.75122\tvalid-auc:0.73901\n",
      "[40]\ttrain-auc:0.76330\tvalid-auc:0.74521\n",
      "[60]\ttrain-auc:0.77417\tvalid-auc:0.74937\n",
      "[80]\ttrain-auc:0.78267\tvalid-auc:0.75172\n",
      "[99]\ttrain-auc:0.78883\tvalid-auc:0.75287\n",
      "Fold 3\n",
      "[0]\ttrain-auc:0.71567\tvalid-auc:0.70026\n",
      "[20]\ttrain-auc:0.75284\tvalid-auc:0.72977\n",
      "[40]\ttrain-auc:0.76479\tvalid-auc:0.73688\n",
      "[60]\ttrain-auc:0.77571\tvalid-auc:0.74255\n",
      "[80]\ttrain-auc:0.78340\tvalid-auc:0.74501\n",
      "[99]\ttrain-auc:0.79020\tvalid-auc:0.74647\n",
      "Fold 4\n",
      "[0]\ttrain-auc:0.71642\tvalid-auc:0.69648\n",
      "[20]\ttrain-auc:0.75440\tvalid-auc:0.72707\n",
      "[40]\ttrain-auc:0.76702\tvalid-auc:0.73231\n",
      "[60]\ttrain-auc:0.77830\tvalid-auc:0.73750\n",
      "[80]\ttrain-auc:0.78609\tvalid-auc:0.73942\n",
      "[99]\ttrain-auc:0.79215\tvalid-auc:0.73980\n"
     ]
    }
   ],
   "source": [
    "for i, (train_index, test_index) in enumerate(skf.split(X_train.index.to_arrow().tolist(), \n",
    "                                                        y_train.to_arrow().tolist())):\n",
    "    print(\"Fold {0}\".format(i))\n",
    "    X_train_kf, X_valid_kf = X_train.iloc[train_index], X_train.iloc[test_index]\n",
    "    y_train_kf, y_valid_kf = y_train.iloc[train_index], y_train.iloc[test_index]\n",
    "    \n",
    "    train_matrix_kf= xgb.DMatrix(X_train_kf, label=y_train_kf)\n",
    "    val_matrix_kf = xgb.DMatrix(X_valid_kf, label=y_valid_kf)\n",
    "    \n",
    "    bst = xgb.train(params=cv_params, dtrain=train_matrix_kf, \n",
    "                evals=[(train_matrix_kf, 'train'), (val_matrix_kf, 'valid')], \n",
    "                num_boost_round=100, early_stopping_rounds=20, verbose_eval=20)"
   ]
  },
  {
   "cell_type": "markdown",
   "id": "fatty-potter",
   "metadata": {},
   "source": [
    "Once things look a bit stable with the tuning, we can train the whole dataset once"
   ]
  },
  {
   "cell_type": "code",
   "execution_count": 12,
   "id": "varied-reliance",
   "metadata": {},
   "outputs": [],
   "source": [
    "full_cv_params =  cv_params\n",
    "full_cv_params['learning_rate'] = cv_params['learning_rate']/10"
   ]
  },
  {
   "cell_type": "code",
   "execution_count": 13,
   "id": "cutting-participation",
   "metadata": {},
   "outputs": [
    {
     "name": "stdout",
     "output_type": "stream",
     "text": [
      "[0]\ttrain-auc:0.71612\tvalid-auc:0.70022\n",
      "[50]\ttrain-auc:0.74041\tvalid-auc:0.72289\n",
      "[100]\ttrain-auc:0.74389\tvalid-auc:0.72523\n",
      "[150]\ttrain-auc:0.74716\tvalid-auc:0.72754\n",
      "[200]\ttrain-auc:0.75017\tvalid-auc:0.72914\n",
      "[250]\ttrain-auc:0.75299\tvalid-auc:0.73072\n",
      "[300]\ttrain-auc:0.75588\tvalid-auc:0.73228\n",
      "[350]\ttrain-auc:0.75880\tvalid-auc:0.73395\n",
      "[400]\ttrain-auc:0.76170\tvalid-auc:0.73556\n",
      "[450]\ttrain-auc:0.76459\tvalid-auc:0.73708\n",
      "[499]\ttrain-auc:0.76716\tvalid-auc:0.73842\n"
     ]
    }
   ],
   "source": [
    "train_matrix = xgb.DMatrix(X_train, label=y_train)\n",
    "val_matrix = xgb.DMatrix(X_test, label=y_test)\n",
    "    \n",
    "final_bst = xgb.train(params=full_cv_params, dtrain=train_matrix, \n",
    "                evals=[(train_matrix, 'train'), (val_matrix, 'valid')], \n",
    "                num_boost_round=500, early_stopping_rounds=20, verbose_eval=50)"
   ]
  },
  {
   "cell_type": "code",
   "execution_count": 14,
   "id": "alpha-jumping",
   "metadata": {},
   "outputs": [],
   "source": [
    "adv_y_pred = final_bst.predict(val_matrix)\n",
    "# convert to 0/1 based on threshold\n",
    "adv_y_final = np.where(adv_y_pred>0.5, 1, 0)"
   ]
  },
  {
   "cell_type": "code",
   "execution_count": 15,
   "id": "surrounded-thesis",
   "metadata": {},
   "outputs": [
    {
     "data": {
      "text/plain": [
       "array([0, 0, 1, ..., 1, 1, 0])"
      ]
     },
     "execution_count": 15,
     "metadata": {},
     "output_type": "execute_result"
    }
   ],
   "source": [
    "adv_y_final"
   ]
  },
  {
   "cell_type": "markdown",
   "id": "efficient-ownership",
   "metadata": {},
   "source": [
    "# Final Assessments"
   ]
  },
  {
   "cell_type": "code",
   "execution_count": 16,
   "id": "horizontal-gallery",
   "metadata": {},
   "outputs": [
    {
     "name": "stderr",
     "output_type": "stream",
     "text": [
      "<ipython-input-16-3f2062bd99d2>:1: DeprecationWarning: Numeric-style type codes are deprecated and will result in an error in the future.\n",
      "  confusion_matrix(y_test, adv_y_final.astype('Int64'))\n"
     ]
    },
    {
     "data": {
      "text/html": [
       "<div>\n",
       "<style scoped>\n",
       "    .dataframe tbody tr th:only-of-type {\n",
       "        vertical-align: middle;\n",
       "    }\n",
       "\n",
       "    .dataframe tbody tr th {\n",
       "        vertical-align: top;\n",
       "    }\n",
       "\n",
       "    .dataframe thead th {\n",
       "        text-align: right;\n",
       "    }\n",
       "</style>\n",
       "<table border=\"1\" class=\"dataframe\">\n",
       "  <thead>\n",
       "    <tr style=\"text-align: right;\">\n",
       "      <th></th>\n",
       "      <th>0</th>\n",
       "      <th>1</th>\n",
       "    </tr>\n",
       "  </thead>\n",
       "  <tbody>\n",
       "    <tr>\n",
       "      <th>0</th>\n",
       "      <td>58659</td>\n",
       "      <td>26093</td>\n",
       "    </tr>\n",
       "    <tr>\n",
       "      <th>1</th>\n",
       "      <td>2551</td>\n",
       "      <td>4950</td>\n",
       "    </tr>\n",
       "  </tbody>\n",
       "</table>\n",
       "</div>"
      ],
      "text/plain": [
       "       0      1\n",
       "0  58659  26093\n",
       "1   2551   4950"
      ]
     },
     "execution_count": 16,
     "metadata": {},
     "output_type": "execute_result"
    }
   ],
   "source": [
    "confusion_matrix(y_test, adv_y_final.astype('Int64'))"
   ]
  },
  {
   "cell_type": "code",
   "execution_count": 17,
   "id": "standing-cursor",
   "metadata": {},
   "outputs": [
    {
     "data": {
      "text/plain": [
       "0.738418459892273"
      ]
     },
     "execution_count": 17,
     "metadata": {},
     "output_type": "execute_result"
    }
   ],
   "source": [
    "roc_auc_score(y_test, adv_y_pred)"
   ]
  }
 ],
 "metadata": {
  "kernelspec": {
   "display_name": "Python [conda env:rapids]",
   "language": "python",
   "name": "conda-env-rapids-py"
  },
  "language_info": {
   "codemirror_mode": {
    "name": "ipython",
    "version": 3
   },
   "file_extension": ".py",
   "mimetype": "text/x-python",
   "name": "python",
   "nbconvert_exporter": "python",
   "pygments_lexer": "ipython3",
   "version": "3.8.8"
  }
 },
 "nbformat": 4,
 "nbformat_minor": 5
}
