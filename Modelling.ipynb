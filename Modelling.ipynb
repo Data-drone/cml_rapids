{
 "cells": [
  {
   "cell_type": "markdown",
   "id": "spoken-pencil",
   "metadata": {},
   "source": [
    "## Advanced Modelling of the Data"
   ]
  },
  {
   "cell_type": "code",
   "execution_count": 1,
   "id": "sixth-dover",
   "metadata": {},
   "outputs": [],
   "source": [
    "%load_ext autoreload\n",
    "%autoreload 2"
   ]
  },
  {
   "cell_type": "markdown",
   "id": "organic-filter",
   "metadata": {},
   "source": [
    "Flick this setting to switch between GPU and CPU processing"
   ]
  },
  {
   "cell_type": "code",
   "execution_count": 2,
   "id": "clean-gibraltar",
   "metadata": {},
   "outputs": [],
   "source": [
    "use_gpu=True"
   ]
  },
  {
   "cell_type": "code",
   "execution_count": 3,
   "id": "respiratory-nomination",
   "metadata": {},
   "outputs": [],
   "source": [
    "if use_gpu:\n",
    "    import cudf as dd\n",
    "    from cuml.preprocessing.model_selection import train_test_split\n",
    "    from cuml.metrics import confusion_matrix, roc_auc_score\n",
    "else:\n",
    "    import pandas as dd\n",
    "    from sklearn.model_selection import train_test_split\n",
    "    from sklearn.metrics import confusion_matrix, roc_auc_score"
   ]
  },
  {
   "cell_type": "code",
   "execution_count": 4,
   "id": "flush-health",
   "metadata": {},
   "outputs": [],
   "source": [
    "# first lets reload the dataset\n",
    "# we do need to import pandas as it is also need for display max_rows \n",
    "import pandas as pd\n",
    "import cudf\n",
    "import numpy as np\n",
    "import gc\n",
    "import cupy\n",
    "import matplotlib.pyplot as plt\n",
    "%matplotlib inline"
   ]
  },
  {
   "cell_type": "code",
   "execution_count": 5,
   "id": "regulated-inspector",
   "metadata": {},
   "outputs": [],
   "source": [
    "# to avoid issues due to lack of VRAM\n",
    "if use_gpu:\n",
    "    cudf.set_allocator(\"managed\")"
   ]
  },
  {
   "cell_type": "markdown",
   "id": "rubber-wonder",
   "metadata": {},
   "source": [
    "## Read in the Features\n",
    "\n",
    "Load the training set"
   ]
  },
  {
   "cell_type": "code",
   "execution_count": 6,
   "id": "buried-subdivision",
   "metadata": {},
   "outputs": [],
   "source": [
    "%%time\n",
    "\n",
    "## testing our previous big feats table\n",
    "train = dd.read_parquet('data_eng/feats/train_feats.parquet')\n",
    "\n",
    "## test is the kaggle test set which we only need for submission \n",
    "#test = dd.read_parquet('data_eng/feats/test_feats.parquet')\n",
    "train_target = train['TARGET']\n",
    "train = train.drop('TARGET', axis =1)"
   ]
  },
  {
   "cell_type": "code",
   "execution_count": 7,
   "id": "concerned-flight",
   "metadata": {},
   "outputs": [
    {
     "data": {
      "text/plain": [
       "(307511, 638)"
      ]
     },
     "execution_count": 7,
     "metadata": {},
     "output_type": "execute_result"
    }
   ],
   "source": [
    "train.shape"
   ]
  },
  {
   "cell_type": "code",
   "execution_count": 8,
   "id": "arbitrary-right",
   "metadata": {},
   "outputs": [
    {
     "data": {
      "text/plain": [
       "11.387150050352467"
      ]
     },
     "execution_count": 8,
     "metadata": {},
     "output_type": "execute_result"
    }
   ],
   "source": [
    "# we have an unbalanced pos to negative ratio so it will help to feed this into xgb\n",
    "ratio = (train_target == 0).sum()/ (train_target == 1).sum()\n",
    "ratio"
   ]
  },
  {
   "cell_type": "markdown",
   "id": "preceding-jason",
   "metadata": {},
   "source": [
    "## Cross Validating our XGB Model"
   ]
  },
  {
   "cell_type": "markdown",
   "id": "pursuant-cosmetic",
   "metadata": {},
   "source": [
    "Default train test split"
   ]
  },
  {
   "cell_type": "code",
   "execution_count": 9,
   "id": "intense-springer",
   "metadata": {},
   "outputs": [],
   "source": [
    "X_train, X_test, y_train, y_test = train_test_split(train, train_target, \n",
    "                                                    test_size=0.3, \n",
    "                                                    random_state=42)"
   ]
  },
  {
   "cell_type": "code",
   "execution_count": 10,
   "id": "permanent-connecticut",
   "metadata": {},
   "outputs": [],
   "source": [
    "import xgboost as xgb\n",
    "from sklearn.model_selection import StratifiedKFold"
   ]
  },
  {
   "cell_type": "markdown",
   "id": "finished-crisis",
   "metadata": {},
   "source": [
    "We use stratified KFold as the classes are heavily unbalanced. Stratified KFold makes sure that we have a same proportion of target variables (0/1) in each kfold split "
   ]
  },
  {
   "cell_type": "code",
   "execution_count": 11,
   "id": "verified-duplicate",
   "metadata": {},
   "outputs": [],
   "source": [
    "skf = StratifiedKFold()"
   ]
  },
  {
   "cell_type": "code",
   "execution_count": 12,
   "id": "pacific-channels",
   "metadata": {},
   "outputs": [],
   "source": [
    "cv_params = {'tree_method': 'gpu_hist', 'max_depth': 6, \n",
    "             'learning_rate': 0.05, 'subsample':0.5, \n",
    "             'objective': 'binary:logistic',\n",
    "             'eval_metric':'auc', 'scale_pos_weight': ratio,\n",
    "             'gamma':0.3, 'subsample':0.5}\n",
    "\n",
    "if use_gpu:\n",
    "    cv_params['tree_method'] = 'gpu_hist'\n",
    "else:\n",
    "    cv_params['tree_method'] = 'hist'\n"
   ]
  },
  {
   "cell_type": "markdown",
   "id": "informative-pantyhose",
   "metadata": {},
   "source": [
    "We use stratified KFold to check and see if different splits of the data produce consistant results. This is important to make sure we aren't overfitting to a particular subset of data"
   ]
  },
  {
   "cell_type": "code",
   "execution_count": 13,
   "id": "occasional-radiation",
   "metadata": {},
   "outputs": [],
   "source": [
    "if use_gpu:\n",
    "    x_train_index = X_train.index.to_arrow().tolist()\n",
    "    y_train_index = y_train.to_arrow().tolist()\n",
    "else:\n",
    "    x_train_index = X_train.index\n",
    "    y_train_index = y_train\n"
   ]
  },
  {
   "cell_type": "code",
   "execution_count": 14,
   "id": "afraid-emergency",
   "metadata": {},
   "outputs": [
    {
     "name": "stdout",
     "output_type": "stream",
     "text": [
      "Fold 0\n",
      "[0]\ttrain-auc:0.73129\tvalid-auc:0.72169\n",
      "[20]\ttrain-auc:0.77468\tvalid-auc:0.75784\n",
      "[40]\ttrain-auc:0.79182\tvalid-auc:0.76661\n",
      "[60]\ttrain-auc:0.80668\tvalid-auc:0.77290\n",
      "[80]\ttrain-auc:0.81825\tvalid-auc:0.77734\n",
      "[99]\ttrain-auc:0.82692\tvalid-auc:0.77978\n",
      "Fold 1\n",
      "[0]\ttrain-auc:0.73264\tvalid-auc:0.71298\n",
      "[20]\ttrain-auc:0.77718\tvalid-auc:0.74850\n",
      "[40]\ttrain-auc:0.79346\tvalid-auc:0.75633\n",
      "[60]\ttrain-auc:0.80911\tvalid-auc:0.76357\n",
      "[80]\ttrain-auc:0.82015\tvalid-auc:0.76817\n",
      "[99]\ttrain-auc:0.82896\tvalid-auc:0.77129\n",
      "Fold 2\n",
      "[0]\ttrain-auc:0.73385\tvalid-auc:0.71466\n",
      "[20]\ttrain-auc:0.77847\tvalid-auc:0.74802\n",
      "[40]\ttrain-auc:0.79562\tvalid-auc:0.75654\n",
      "[60]\ttrain-auc:0.81022\tvalid-auc:0.76358\n",
      "[80]\ttrain-auc:0.82165\tvalid-auc:0.76777\n",
      "[99]\ttrain-auc:0.83049\tvalid-auc:0.77023\n",
      "Fold 3\n",
      "[0]\ttrain-auc:0.73207\tvalid-auc:0.71610\n",
      "[20]\ttrain-auc:0.77714\tvalid-auc:0.75127\n",
      "[40]\ttrain-auc:0.79393\tvalid-auc:0.76201\n",
      "[60]\ttrain-auc:0.80870\tvalid-auc:0.76805\n",
      "[80]\ttrain-auc:0.81998\tvalid-auc:0.77161\n",
      "[99]\ttrain-auc:0.82884\tvalid-auc:0.77364\n",
      "Fold 4\n",
      "[0]\ttrain-auc:0.73280\tvalid-auc:0.70732\n",
      "[20]\ttrain-auc:0.77675\tvalid-auc:0.74747\n",
      "[40]\ttrain-auc:0.79392\tvalid-auc:0.75686\n",
      "[60]\ttrain-auc:0.80890\tvalid-auc:0.76453\n",
      "[80]\ttrain-auc:0.82041\tvalid-auc:0.76989\n",
      "[99]\ttrain-auc:0.82942\tvalid-auc:0.77268\n"
     ]
    }
   ],
   "source": [
    "%%time\n",
    "\n",
    "for i, (train_index, test_index) in enumerate(skf.split(x_train_index, y_train_index)):\n",
    "    \n",
    "    print(\"Fold {0}\".format(i))\n",
    "    X_train_kf, X_valid_kf = X_train.iloc[train_index], X_train.iloc[test_index]\n",
    "    y_train_kf, y_valid_kf = y_train.iloc[train_index], y_train.iloc[test_index]\n",
    "    \n",
    "    train_matrix_kf= xgb.DMatrix(X_train_kf, label=y_train_kf)\n",
    "    val_matrix_kf = xgb.DMatrix(X_valid_kf, label=y_valid_kf)\n",
    "    \n",
    "    bst = xgb.train(params=cv_params, dtrain=train_matrix_kf, \n",
    "                evals=[(train_matrix_kf, 'train'), (val_matrix_kf, 'valid')], \n",
    "                num_boost_round=100, early_stopping_rounds=20, verbose_eval=20)"
   ]
  },
  {
   "cell_type": "code",
   "execution_count": 15,
   "id": "interstate-texas",
   "metadata": {},
   "outputs": [
    {
     "data": {
      "text/plain": [
       "224"
      ]
     },
     "execution_count": 15,
     "metadata": {},
     "output_type": "execute_result"
    }
   ],
   "source": [
    "del X_train_kf, X_valid_kf\n",
    "gc.collect()"
   ]
  },
  {
   "cell_type": "code",
   "execution_count": null,
   "id": "internal-tulsa",
   "metadata": {},
   "outputs": [],
   "source": [
    "del bst, train_matrix_kf, val_matrix_kf\n",
    "gc.collect()"
   ]
  },
  {
   "cell_type": "markdown",
   "id": "impossible-norfolk",
   "metadata": {},
   "source": [
    "Once things look a bit stable with the tuning, we will train our \"final\" model on the full dataset"
   ]
  },
  {
   "cell_type": "code",
   "execution_count": 16,
   "id": "assured-money",
   "metadata": {},
   "outputs": [],
   "source": [
    "full_cv_params =  cv_params\n",
    "# a common technique is to set learning rate lower and \n",
    "# boost the num_boost_rounds for the full train\n",
    "full_cv_params['learning_rate'] = cv_params['learning_rate']/10"
   ]
  },
  {
   "cell_type": "code",
   "execution_count": 17,
   "id": "maritime-monthly",
   "metadata": {},
   "outputs": [
    {
     "name": "stdout",
     "output_type": "stream",
     "text": [
      "[0]\ttrain-auc:0.73118\tvalid-auc:0.71839\n",
      "[50]\ttrain-auc:0.76236\tvalid-auc:0.74581\n",
      "[100]\ttrain-auc:0.76647\tvalid-auc:0.74860\n",
      "[150]\ttrain-auc:0.77028\tvalid-auc:0.75096\n",
      "[200]\ttrain-auc:0.77423\tvalid-auc:0.75318\n",
      "[250]\ttrain-auc:0.77815\tvalid-auc:0.75554\n",
      "[300]\ttrain-auc:0.78210\tvalid-auc:0.75780\n",
      "[350]\ttrain-auc:0.78592\tvalid-auc:0.75986\n",
      "[400]\ttrain-auc:0.78982\tvalid-auc:0.76206\n",
      "[450]\ttrain-auc:0.79360\tvalid-auc:0.76414\n",
      "[500]\ttrain-auc:0.79727\tvalid-auc:0.76616\n",
      "[550]\ttrain-auc:0.80084\tvalid-auc:0.76807\n",
      "[600]\ttrain-auc:0.80417\tvalid-auc:0.76961\n",
      "[650]\ttrain-auc:0.80712\tvalid-auc:0.77105\n",
      "[700]\ttrain-auc:0.80991\tvalid-auc:0.77217\n",
      "[750]\ttrain-auc:0.81246\tvalid-auc:0.77324\n",
      "[800]\ttrain-auc:0.81491\tvalid-auc:0.77423\n",
      "[850]\ttrain-auc:0.81729\tvalid-auc:0.77514\n",
      "[900]\ttrain-auc:0.81946\tvalid-auc:0.77592\n",
      "[950]\ttrain-auc:0.82167\tvalid-auc:0.77664\n",
      "[999]\ttrain-auc:0.82368\tvalid-auc:0.77723\n"
     ]
    }
   ],
   "source": [
    "%%time\n",
    "\n",
    "train_matrix = xgb.DMatrix(X_train, label=y_train)\n",
    "val_matrix = xgb.DMatrix(X_test, label=y_test)\n",
    "    \n",
    "final_bst = xgb.train(params=full_cv_params, dtrain=train_matrix, \n",
    "                evals=[(train_matrix, 'train'), (val_matrix, 'valid')], \n",
    "                num_boost_round=1000, early_stopping_rounds=20, \n",
    "                verbose_eval=50)"
   ]
  },
  {
   "cell_type": "code",
   "execution_count": 18,
   "id": "cross-working",
   "metadata": {},
   "outputs": [],
   "source": [
    "adv_y_pred = final_bst.predict(val_matrix)\n",
    "# convert to 0/1 based on threshold\n",
    "adv_y_final = np.where(adv_y_pred>0.5, 1, 0)"
   ]
  },
  {
   "cell_type": "markdown",
   "id": "similar-poker",
   "metadata": {},
   "source": [
    "# Final Assessments"
   ]
  },
  {
   "cell_type": "code",
   "execution_count": 19,
   "id": "british-posting",
   "metadata": {},
   "outputs": [
    {
     "name": "stderr",
     "output_type": "stream",
     "text": [
      "<ipython-input-19-3f2062bd99d2>:1: DeprecationWarning: Numeric-style type codes are deprecated and will result in an error in the future.\n",
      "  confusion_matrix(y_test, adv_y_final.astype('Int64'))\n"
     ]
    },
    {
     "data": {
      "text/plain": [
       "array([[62583, 22258],\n",
       "       [ 2419,  4994]])"
      ]
     },
     "execution_count": 19,
     "metadata": {},
     "output_type": "execute_result"
    }
   ],
   "source": [
    "confusion_matrix(y_test, adv_y_final.astype('Int64'))"
   ]
  },
  {
   "cell_type": "code",
   "execution_count": 20,
   "id": "assured-spending",
   "metadata": {},
   "outputs": [
    {
     "data": {
      "text/plain": [
       "0.7772647754597993"
      ]
     },
     "execution_count": 20,
     "metadata": {},
     "output_type": "execute_result"
    }
   ],
   "source": [
    "roc_auc_score(y_test, adv_y_pred)"
   ]
  },
  {
   "cell_type": "markdown",
   "id": "spanish-event",
   "metadata": {},
   "source": [
    "## Evaluating Feature Importances\n",
    "\n",
    "Evaluating the importance of features using SHAP values"
   ]
  },
  {
   "cell_type": "code",
   "execution_count": 21,
   "id": "successful-decline",
   "metadata": {},
   "outputs": [],
   "source": [
    "if use_gpu:\n",
    "    pred_gpu = 'gpu_predictor'\n",
    "else:\n",
    "    pred_gpu = 'cpu_predictor'"
   ]
  },
  {
   "cell_type": "code",
   "execution_count": 22,
   "id": "competent-vienna",
   "metadata": {},
   "outputs": [],
   "source": [
    "final_bst.set_param({\"predictor\": pred_gpu})\n",
    "shap_values = final_bst.predict(val_matrix, pred_contribs=True)"
   ]
  },
  {
   "cell_type": "code",
   "execution_count": 23,
   "id": "experienced-costa",
   "metadata": {},
   "outputs": [],
   "source": [
    "%%time \n",
    "\n",
    "# We can use the shap package\n",
    "import shap\n",
    "\n",
    "# shap will call the GPU accelerated version as long as the predictor \n",
    "# parameter is set to \"gpu_predictor\"\n",
    "final_bst.set_param({\"predictor\": pred_gpu})\n",
    "explainer = shap.TreeExplainer(final_bst)\n",
    "shap_values = explainer.shap_values(X_test)"
   ]
  },
  {
   "cell_type": "markdown",
   "id": "loved-tuition",
   "metadata": {},
   "source": [
    "Choose which data entry to inspect here"
   ]
  },
  {
   "cell_type": "code",
   "execution_count": 24,
   "id": "insured-strip",
   "metadata": {},
   "outputs": [],
   "source": [
    "entry_to_inspect=0"
   ]
  },
  {
   "cell_type": "code",
   "execution_count": 25,
   "id": "applied-catholic",
   "metadata": {},
   "outputs": [
    {
     "data": {
      "image/png": "[encoded data removed]",
      "text/plain": [
       "<Figure size 1440x216 with 1 Axes>"
      ]
     },
     "metadata": {
      "needs_background": "light"
     },
     "output_type": "display_data"
    }
   ],
   "source": [
    "if use_gpu:\n",
    "    feature_set = cupy.asnumpy(X_test.iloc[entry_to_inspect].values)\n",
    "else:\n",
    "    feature_set = X_test.iloc[entry_to_inspect]\n",
    "    \n",
    "# visualize the first prediction's explanation\n",
    "shap.force_plot(\n",
    "    explainer.expected_value,\n",
    "    shap_values[entry_to_inspect, :],\n",
    "    feature_set,\n",
    "    feature_names=X_test.columns.to_list(),\n",
    "    matplotlib=True\n",
    ")"
   ]
  },
  {
   "cell_type": "markdown",
   "id": "southwest-gross",
   "metadata": {},
   "source": [
    "This SHAP force chart allows us to see which variable is the most important for the end result"
   ]
  },
  {
   "cell_type": "code",
   "execution_count": 26,
   "id": "efficient-briefs",
   "metadata": {},
   "outputs": [
    {
     "data": {
      "image/png": "[encoded data removed]",
      "text/plain": [
       "<Figure size 576x684 with 1 Axes>"
      ]
     },
     "metadata": {
      "needs_background": "light"
     },
     "output_type": "display_data"
    }
   ],
   "source": [
    "# Show a summary of feature importance\n",
    "shap.summary_plot(shap_values, X_test, plot_type=\"bar\", \n",
    "                  feature_names=X_test.columns)"
   ]
  }
 ],
 "metadata": {
  "kernelspec": {
   "display_name": "Python [conda env:rapids]",
   "language": "python",
   "name": "conda-env-rapids-py"
  },
  "language_info": {
   "codemirror_mode": {
    "name": "ipython",
    "version": 3
   },
   "file_extension": ".py",
   "mimetype": "text/x-python",
   "name": "python",
   "nbconvert_exporter": "python",
   "pygments_lexer": "ipython3",
   "version": "3.8.8"
  }
 },
 "nbformat": 4,
 "nbformat_minor": 5
}
