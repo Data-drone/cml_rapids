{
 "cells": [
  {
   "cell_type": "markdown",
   "id": "suburban-relative",
   "metadata": {},
   "source": [
    "## Advanced Modelling of the Data"
   ]
  },
  {
   "cell_type": "code",
   "execution_count": 1,
   "id": "compliant-celtic",
   "metadata": {},
   "outputs": [],
   "source": [
    "%load_ext autoreload\n",
    "%autoreload 2"
   ]
  },
  {
   "cell_type": "code",
   "execution_count": 2,
   "id": "spread-polish",
   "metadata": {},
   "outputs": [],
   "source": [
    "# first lets reload the dataset\n",
    "# we do need to import pandas as it is also need for display max_rows \n",
    "import pandas as pd\n",
    "import cudf\n",
    "import cudf as dd\n",
    "import numpy as np\n",
    "import gc\n",
    "import matplotlib.pyplot as plt\n",
    "from cuml.preprocessing.model_selection import train_test_split\n",
    "from cuml.metrics import confusion_matrix, roc_auc_score\n",
    "use_gpu=True\n",
    "%matplotlib inline"
   ]
  },
  {
   "cell_type": "markdown",
   "id": "fitting-hammer",
   "metadata": {},
   "source": [
    "## Read in the Features"
   ]
  },
  {
   "cell_type": "code",
   "execution_count": 3,
   "id": "velvet-trash",
   "metadata": {},
   "outputs": [],
   "source": [
    "## testing our previous big feats table\n",
    "train = dd.read_parquet('data_eng/feats/train_feats.parquet')\n",
    "test = dd.read_parquet('data_eng/feats/test_feats.parquet')\n",
    "train_target = train['TARGET']\n",
    "train = train.drop('TARGET', axis =1)"
   ]
  },
  {
   "cell_type": "code",
   "execution_count": 4,
   "id": "organic-coffee",
   "metadata": {},
   "outputs": [
    {
     "data": {
      "text/plain": [
       "(307511, 380)"
      ]
     },
     "execution_count": 4,
     "metadata": {},
     "output_type": "execute_result"
    }
   ],
   "source": [
    "train.shape"
   ]
  },
  {
   "cell_type": "code",
   "execution_count": 33,
   "id": "lesser-culture",
   "metadata": {},
   "outputs": [
    {
     "data": {
      "text/plain": [
       "11.387150050352467"
      ]
     },
     "execution_count": 33,
     "metadata": {},
     "output_type": "execute_result"
    }
   ],
   "source": [
    "# we have an unbalanced pos to negative ratio so it will help to feed this into xgb\n",
    "ratio = (train_target == 0).sum()/ (train_target == 1).sum()\n",
    "ratio"
   ]
  },
  {
   "cell_type": "markdown",
   "id": "excellent-alert",
   "metadata": {},
   "source": [
    "## Cross Validating our XGB Model"
   ]
  },
  {
   "cell_type": "markdown",
   "id": "civil-westminster",
   "metadata": {},
   "source": [
    "Default train test split"
   ]
  },
  {
   "cell_type": "code",
   "execution_count": 6,
   "id": "sublime-church",
   "metadata": {},
   "outputs": [],
   "source": [
    "X_train, X_test, y_train, y_test = train_test_split(train, train_target, \n",
    "                                                    test_size=0.3, random_state=42)"
   ]
  },
  {
   "cell_type": "code",
   "execution_count": 7,
   "id": "republican-punch",
   "metadata": {},
   "outputs": [],
   "source": [
    "import xgboost as xgb\n",
    "from sklearn.model_selection import StratifiedKFold"
   ]
  },
  {
   "cell_type": "markdown",
   "id": "dried-annex",
   "metadata": {},
   "source": [
    "We use stratified KFold as the classes are heavily unbalanced. Stratified KFold makes sure that we have a same proportion of target variables (0/1) in each kfold split "
   ]
  },
  {
   "cell_type": "code",
   "execution_count": 8,
   "id": "civilian-server",
   "metadata": {},
   "outputs": [],
   "source": [
    "skf = StratifiedKFold()"
   ]
  },
  {
   "cell_type": "code",
   "execution_count": 23,
   "id": "british-banana",
   "metadata": {},
   "outputs": [],
   "source": [
    "cv_params = {'tree_method': 'gpu_hist', 'max_depth': 6, \n",
    "        'learning_rate': 0.05, 'subsample':0.5, 'objective': 'binary:logistic',\n",
    "         'eval_metric':'auc', 'scale_pos_weight': ratio,\n",
    "         'gamma':0.3, 'subsample':0.5}"
   ]
  },
  {
   "cell_type": "markdown",
   "id": "rubber-silicon",
   "metadata": {},
   "source": [
    "We use stratified KFold to check and see if different splits of the data produce consistant results. This is important to make sure we aren't overfitting to a particular subset of data"
   ]
  },
  {
   "cell_type": "code",
   "execution_count": 24,
   "id": "another-lodge",
   "metadata": {},
   "outputs": [
    {
     "name": "stdout",
     "output_type": "stream",
     "text": [
      "Fold 0\n",
      "[0]\ttrain-auc:0.70735\tvalid-auc:0.68573\n",
      "[20]\ttrain-auc:0.75794\tvalid-auc:0.72514\n",
      "[40]\ttrain-auc:0.77431\tvalid-auc:0.73567\n",
      "[60]\ttrain-auc:0.78762\tvalid-auc:0.74180\n",
      "[80]\ttrain-auc:0.79764\tvalid-auc:0.74578\n",
      "[99]\ttrain-auc:0.80578\tvalid-auc:0.74765\n",
      "Fold 1\n",
      "[0]\ttrain-auc:0.70571\tvalid-auc:0.69247\n",
      "[20]\ttrain-auc:0.75680\tvalid-auc:0.73440\n",
      "[40]\ttrain-auc:0.77371\tvalid-auc:0.74497\n",
      "[60]\ttrain-auc:0.78644\tvalid-auc:0.75032\n",
      "[80]\ttrain-auc:0.79595\tvalid-auc:0.75201\n",
      "[99]\ttrain-auc:0.80295\tvalid-auc:0.75382\n",
      "Fold 2\n",
      "[0]\ttrain-auc:0.70790\tvalid-auc:0.69130\n",
      "[20]\ttrain-auc:0.75737\tvalid-auc:0.73389\n",
      "[40]\ttrain-auc:0.77405\tvalid-auc:0.74464\n",
      "[60]\ttrain-auc:0.78607\tvalid-auc:0.74971\n",
      "[80]\ttrain-auc:0.79635\tvalid-auc:0.75321\n",
      "[99]\ttrain-auc:0.80420\tvalid-auc:0.75544\n",
      "Fold 3\n",
      "[0]\ttrain-auc:0.70881\tvalid-auc:0.69364\n",
      "[20]\ttrain-auc:0.75679\tvalid-auc:0.72928\n",
      "[40]\ttrain-auc:0.77411\tvalid-auc:0.73986\n",
      "[60]\ttrain-auc:0.78747\tvalid-auc:0.74563\n",
      "[80]\ttrain-auc:0.79581\tvalid-auc:0.74798\n",
      "[99]\ttrain-auc:0.80423\tvalid-auc:0.75032\n",
      "Fold 4\n",
      "[0]\ttrain-auc:0.70812\tvalid-auc:0.69522\n",
      "[20]\ttrain-auc:0.75650\tvalid-auc:0.73484\n",
      "[40]\ttrain-auc:0.77378\tvalid-auc:0.74295\n",
      "[60]\ttrain-auc:0.78625\tvalid-auc:0.74731\n",
      "[80]\ttrain-auc:0.79645\tvalid-auc:0.75003\n",
      "[99]\ttrain-auc:0.80405\tvalid-auc:0.75171\n"
     ]
    }
   ],
   "source": [
    "for i, (train_index, test_index) in enumerate(skf.split(X_train.index.to_arrow().tolist(), \n",
    "                                                        y_train.to_arrow().tolist())):\n",
    "    print(\"Fold {0}\".format(i))\n",
    "    X_train_kf, X_valid_kf = X_train.iloc[train_index], X_train.iloc[test_index]\n",
    "    y_train_kf, y_valid_kf = y_train.iloc[train_index], y_train.iloc[test_index]\n",
    "    \n",
    "    train_matrix_kf= xgb.DMatrix(X_train_kf, label=y_train_kf)\n",
    "    val_matrix_kf = xgb.DMatrix(X_valid_kf, label=y_valid_kf)\n",
    "    \n",
    "    bst = xgb.train(params=cv_params, dtrain=train_matrix_kf, \n",
    "                evals=[(train_matrix_kf, 'train'), (val_matrix_kf, 'valid')], \n",
    "                num_boost_round=100, early_stopping_rounds=20, verbose_eval=20)"
   ]
  },
  {
   "cell_type": "markdown",
   "id": "worst-subscription",
   "metadata": {},
   "source": [
    "Once things look a bit stable with the tuning, we can train the whole dataset once"
   ]
  },
  {
   "cell_type": "code",
   "execution_count": 25,
   "id": "fluid-thread",
   "metadata": {},
   "outputs": [],
   "source": [
    "full_cv_params =  cv_params\n",
    "full_cv_params['learning_rate'] = cv_params['learning_rate']/10"
   ]
  },
  {
   "cell_type": "code",
   "execution_count": 26,
   "id": "conceptual-cooperation",
   "metadata": {},
   "outputs": [
    {
     "name": "stdout",
     "output_type": "stream",
     "text": [
      "[0]\ttrain-auc:0.71216\tvalid-auc:0.69115\n",
      "[50]\ttrain-auc:0.74007\tvalid-auc:0.71782\n",
      "[100]\ttrain-auc:0.74560\tvalid-auc:0.72171\n",
      "[150]\ttrain-auc:0.75016\tvalid-auc:0.72491\n",
      "[200]\ttrain-auc:0.75452\tvalid-auc:0.72795\n",
      "[250]\ttrain-auc:0.75881\tvalid-auc:0.73062\n",
      "[300]\ttrain-auc:0.76311\tvalid-auc:0.73342\n",
      "[350]\ttrain-auc:0.76689\tvalid-auc:0.73570\n",
      "[400]\ttrain-auc:0.77046\tvalid-auc:0.73779\n",
      "[450]\ttrain-auc:0.77398\tvalid-auc:0.73967\n",
      "[499]\ttrain-auc:0.77719\tvalid-auc:0.74139\n"
     ]
    }
   ],
   "source": [
    "train_matrix = xgb.DMatrix(X_train, label=y_train)\n",
    "val_matrix = xgb.DMatrix(X_test, label=y_test)\n",
    "    \n",
    "final_bst = xgb.train(params=full_cv_params, dtrain=train_matrix, \n",
    "                evals=[(train_matrix, 'train'), (val_matrix, 'valid')], \n",
    "                num_boost_round=500, early_stopping_rounds=20, verbose_eval=50)"
   ]
  },
  {
   "cell_type": "code",
   "execution_count": 27,
   "id": "potential-exhibit",
   "metadata": {},
   "outputs": [],
   "source": [
    "adv_y_pred = final_bst.predict(val_matrix)\n",
    "# convert to 0/1 based on threshold\n",
    "adv_y_final = np.where(adv_y_pred>0.5, 1, 0)"
   ]
  },
  {
   "cell_type": "markdown",
   "id": "intensive-reading",
   "metadata": {},
   "source": [
    "# Final Assessments"
   ]
  },
  {
   "cell_type": "code",
   "execution_count": 28,
   "id": "abandoned-screw",
   "metadata": {},
   "outputs": [
    {
     "name": "stderr",
     "output_type": "stream",
     "text": [
      "<ipython-input-28-3f2062bd99d2>:1: DeprecationWarning: Numeric-style type codes are deprecated and will result in an error in the future.\n",
      "  confusion_matrix(y_test, adv_y_final.astype('Int64'))\n"
     ]
    },
    {
     "data": {
      "text/html": [
       "<div>\n",
       "<style scoped>\n",
       "    .dataframe tbody tr th:only-of-type {\n",
       "        vertical-align: middle;\n",
       "    }\n",
       "\n",
       "    .dataframe tbody tr th {\n",
       "        vertical-align: top;\n",
       "    }\n",
       "\n",
       "    .dataframe thead th {\n",
       "        text-align: right;\n",
       "    }\n",
       "</style>\n",
       "<table border=\"1\" class=\"dataframe\">\n",
       "  <thead>\n",
       "    <tr style=\"text-align: right;\">\n",
       "      <th></th>\n",
       "      <th>0</th>\n",
       "      <th>1</th>\n",
       "    </tr>\n",
       "  </thead>\n",
       "  <tbody>\n",
       "    <tr>\n",
       "      <th>0</th>\n",
       "      <td>59476</td>\n",
       "      <td>25351</td>\n",
       "    </tr>\n",
       "    <tr>\n",
       "      <th>1</th>\n",
       "      <td>2543</td>\n",
       "      <td>4883</td>\n",
       "    </tr>\n",
       "  </tbody>\n",
       "</table>\n",
       "</div>"
      ],
      "text/plain": [
       "       0      1\n",
       "0  59476  25351\n",
       "1   2543   4883"
      ]
     },
     "execution_count": 28,
     "metadata": {},
     "output_type": "execute_result"
    }
   ],
   "source": [
    "confusion_matrix(y_test, adv_y_final.astype('Int64'))"
   ]
  },
  {
   "cell_type": "code",
   "execution_count": 29,
   "id": "synthetic-ceramic",
   "metadata": {},
   "outputs": [
    {
     "data": {
      "text/plain": [
       "0.7413902878761292"
      ]
     },
     "execution_count": 29,
     "metadata": {},
     "output_type": "execute_result"
    }
   ],
   "source": [
    "roc_auc_score(y_test, adv_y_pred)"
   ]
  }
 ],
 "metadata": {
  "kernelspec": {
   "display_name": "Python [conda env:rapids]",
   "language": "python",
   "name": "conda-env-rapids-py"
  },
  "language_info": {
   "codemirror_mode": {
    "name": "ipython",
    "version": 3
   },
   "file_extension": ".py",
   "mimetype": "text/x-python",
   "name": "python",
   "nbconvert_exporter": "python",
   "pygments_lexer": "ipython3",
   "version": "3.8.8"
  }
 },
 "nbformat": 4,
 "nbformat_minor": 5
}
